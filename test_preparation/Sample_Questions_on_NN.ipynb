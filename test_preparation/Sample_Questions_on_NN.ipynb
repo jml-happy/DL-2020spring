{
  "nbformat": 4,
  "nbformat_minor": 0,
  "metadata": {
    "colab": {
      "name": "Sample Questions on NN.ipynb",
      "version": "0.3.2",
      "provenance": [],
      "include_colab_link": true
    },
    "kernelspec": {
      "display_name": "Python 3",
      "language": "python",
      "name": "python3"
    }
  },
  "cells": [
    {
      "cell_type": "markdown",
      "metadata": {
        "id": "view-in-github",
        "colab_type": "text"
      },
      "source": [
        "<a href=\"https://colab.research.google.com/github/badriadhikari/2019-Spring-DL/blob/master/Test/Sample_Questions_on_NN.ipynb\" target=\"_parent\"><img src=\"https://colab.research.google.com/assets/colab-badge.svg\" alt=\"Open In Colab\"/></a>"
      ]
    },
    {
      "metadata": {
        "id": "V7eKVb8FU0VU",
        "colab_type": "text"
      },
      "cell_type": "markdown",
      "source": [
        "QUESTION. Complete the code below to split the data (768 rows) into training set (XTRAIN and TRAIN) containing the first 700 rows and validation set (XVALIDATION and YVALIDATION) containing the remaining 68 rows"
      ]
    },
    {
      "metadata": {
        "id": "X2Z70wjAxwTd",
        "colab_type": "code",
        "outputId": "8f4c180a-9ef3-497a-c09d-07dcf14754af",
        "colab": {
          "base_uri": "https://localhost:8080/",
          "height": 121
        }
      },
      "cell_type": "code",
      "source": [
        "from keras.models import Sequential\n",
        "from keras.layers import Dense\n",
        "import numpy as np\n",
        "np.random.seed(7)\n",
        "\n",
        "np.set_printoptions(formatter={'float': lambda x: \"{0:0.2f}\".format(x)})\n",
        "\n",
        "# load pima indians dataset\n",
        "dataset = np.loadtxt(\"https://raw.githubusercontent.com/jbrownlee/Datasets/master/pima-indians-diabetes.data.csv\", delimiter=\",\")\n",
        "print(dataset.shape)\n",
        "print(dataset[0:5, :])\n",
        "\n",
        "XTRAIN = \n",
        "YTRAIN = \n",
        "XVALIDATION = \n",
        "YVALIDATION = "
      ],
      "execution_count": 2,
      "outputs": [
        {
          "output_type": "stream",
          "text": [
            "(768, 9)\n",
            "[[6.00 148.00 72.00 35.00 0.00 33.60 0.63 50.00 1.00]\n",
            " [1.00 85.00 66.00 29.00 0.00 26.60 0.35 31.00 0.00]\n",
            " [8.00 183.00 64.00 0.00 0.00 23.30 0.67 32.00 1.00]\n",
            " [1.00 89.00 66.00 23.00 94.00 28.10 0.17 21.00 0.00]\n",
            " [0.00 137.00 40.00 35.00 168.00 43.10 2.29 33.00 1.00]]\n"
          ],
          "name": "stdout"
        }
      ]
    },
    {
      "metadata": {
        "id": "Ts0DMMdJWgLj",
        "colab_type": "text"
      },
      "cell_type": "markdown",
      "source": [
        "QUESTION. In the code block below, the output of the first two print statements are already there. What will be the output of the last two print statements?"
      ]
    },
    {
      "metadata": {
        "id": "Ktv3rFpVxwTs",
        "colab_type": "code",
        "outputId": "11fc61e8-6da2-4aa3-d014-5ee1c77c9d13",
        "colab": {
          "base_uri": "https://localhost:8080/",
          "height": 121
        }
      },
      "cell_type": "code",
      "source": [
        "from keras.models import Sequential\n",
        "from keras.layers import Dense\n",
        "import numpy as np\n",
        "np.random.seed(7)\n",
        "\n",
        "np.set_printoptions(formatter={'float': lambda x: \"{0:0.2f}\".format(x)})\n",
        "\n",
        "# load pima indians dataset\n",
        "dataset = np.loadtxt(\"https://raw.githubusercontent.com/jbrownlee/Datasets/master/pima-indians-diabetes.data.csv\", delimiter=\",\")\n",
        "print(dataset.shape)\n",
        "print(dataset[0:5, :])\n",
        "\n",
        "XTRAIN = dataset[200:,0:8]\n",
        "YTRAIN = dataset[200:,8]\n",
        "XVALIDATION = dataset[:200,0:8]\n",
        "YVALIDATION = dataset[:200:,8]\n",
        "\n",
        "print(XVALIDATION.shape)\n",
        "print(YVALIDATION.shape)"
      ],
      "execution_count": 7,
      "outputs": [
        {
          "output_type": "stream",
          "text": [
            "(768, 9)\n",
            "[[6.00 148.00 72.00 35.00 0.00 33.60 0.63 50.00 1.00]\n",
            " [1.00 85.00 66.00 29.00 0.00 26.60 0.35 31.00 0.00]\n",
            " [8.00 183.00 64.00 0.00 0.00 23.30 0.67 32.00 1.00]\n",
            " [1.00 89.00 66.00 23.00 94.00 28.10 0.17 21.00 0.00]\n",
            " [0.00 137.00 40.00 35.00 168.00 43.10 2.29 33.00 1.00]]\n"
          ],
          "name": "stdout"
        }
      ]
    },
    {
      "metadata": {
        "id": "lXLjeBLTXjPi",
        "colab_type": "text"
      },
      "cell_type": "markdown",
      "source": [
        "QUESTION. The following code throws \"Error when checking input: expected to have shape (8,) but got array with shape (5,)\" because there is something wrong at line number 19. What do you fix at that line so that this code runs?"
      ]
    },
    {
      "metadata": {
        "id": "FhRrPhElxwTw",
        "colab_type": "code",
        "outputId": "0a7c0b23-03b2-414e-f909-c006763a08fb",
        "colab": {
          "base_uri": "https://localhost:8080/",
          "height": 277
        }
      },
      "cell_type": "code",
      "source": [
        "from keras.models import Sequential\n",
        "from keras.layers import Dense\n",
        "import numpy as np\n",
        "np.random.seed(7)\n",
        "\n",
        "np.set_printoptions(formatter={'float': lambda x: \"{0:0.2f}\".format(x)})\n",
        "\n",
        "# load pima indians dataset\n",
        "dataset = np.loadtxt(\"https://raw.githubusercontent.com/jbrownlee/Datasets/master/pima-indians-diabetes.data.csv\", delimiter=\",\")\n",
        "print(dataset.shape)\n",
        "\n",
        "XTRAIN = dataset[200:,0:5]\n",
        "YTRAIN = dataset[200:,8]\n",
        "XVALIDATION = dataset[:200,0:5]\n",
        "YVALIDATION = dataset[:200:,8]\n",
        "\n",
        "model = Sequential()\n",
        "model.add(Dense(12, input_dim = 8, activation='sigmoid'))\n",
        "model.add(Dense(8, activation='sigmoid'))\n",
        "model.add(Dense(1, activation='sigmoid'))\n",
        "print(model.summary())\n",
        "\n",
        "model.compile(loss='binary_crossentropy', optimizer='adam', metrics=['accuracy'])\n",
        "\n",
        "model.fit(XTRAIN, YTRAIN, epochs=15, batch_size=10)"
      ],
      "execution_count": 14,
      "outputs": [
        {
          "output_type": "stream",
          "text": [
            "(768, 9)\n",
            "_________________________________________________________________\n",
            "Layer (type)                 Output Shape              Param #   \n",
            "=================================================================\n",
            "dense_19 (Dense)             (None, 12)                72        \n",
            "_________________________________________________________________\n",
            "dense_20 (Dense)             (None, 8)                 104       \n",
            "_________________________________________________________________\n",
            "dense_21 (Dense)             (None, 1)                 9         \n",
            "=================================================================\n",
            "Total params: 185\n",
            "Trainable params: 185\n",
            "Non-trainable params: 0\n",
            "_________________________________________________________________\n",
            "None\n"
          ],
          "name": "stdout"
        }
      ]
    },
    {
      "metadata": {
        "id": "240_irUyYXR5",
        "colab_type": "text"
      },
      "cell_type": "markdown",
      "source": [
        "QUESTION. Complete the code below to have 12 neurons with sigmoid activation in the first layer, 8 neurons in the second layer with sigmoid activation, and 1 neuron in the last layer with sigmoid activation."
      ]
    },
    {
      "metadata": {
        "id": "jWYDiRrhxwT6",
        "colab_type": "code",
        "colab": {
          "base_uri": "https://localhost:8080/",
          "height": 35
        },
        "outputId": "fb6dca93-1320-4103-df4c-bbea879e19b3"
      },
      "cell_type": "code",
      "source": [
        "from keras.models import Sequential\n",
        "from keras.layers import Dense\n",
        "import numpy as np\n",
        "\n",
        "np.set_printoptions(formatter={'float': lambda x: \"{0:0.2f}\".format(x)})\n",
        "\n",
        "# load pima indians dataset\n",
        "dataset = np.loadtxt(\"https://raw.githubusercontent.com/jbrownlee/Datasets/master/pima-indians-diabetes.data.csv\", delimiter=\",\")\n",
        "print(dataset.shape)\n",
        "\n",
        "XTRAIN = dataset[200:,0:8]\n",
        "YTRAIN = dataset[200:,8]\n",
        "XVALIDATION = dataset[:200,0:5]\n",
        "YVALIDATION = dataset[:200:,8]\n",
        "\n",
        "model = Sequential()\n",
        "model.add(Dense(12, input_dim = 8, activation='sigmoid'))\n",
        "model.add(Dense(8, activation='sigmoid'))\n",
        "model.add(Dense(1, activation='sigmoid'))\n"
      ],
      "execution_count": 18,
      "outputs": [
        {
          "output_type": "stream",
          "text": [
            "(768, 9)\n"
          ],
          "name": "stdout"
        }
      ]
    },
    {
      "metadata": {
        "id": "MlPJMFYAxwT8",
        "colab_type": "text"
      },
      "cell_type": "markdown",
      "source": [
        "QUESTION. Complete the code below for model.compile() and model.fit(). Choose reasonable parameters for epochs, batch_size, metrics, optimizer and loss."
      ]
    },
    {
      "metadata": {
        "id": "dytoL_9SxwT9",
        "colab_type": "code",
        "outputId": "66f31205-9c60-431f-83f0-036535cb1c11",
        "colab": {
          "base_uri": "https://localhost:8080/",
          "height": 35
        }
      },
      "cell_type": "code",
      "source": [
        "from keras.models import Sequential\n",
        "from keras.layers import Dense\n",
        "import numpy as np\n",
        "\n",
        "np.set_printoptions(formatter={'float': lambda x: \"{0:0.2f}\".format(x)})\n",
        "\n",
        "# load pima indians dataset\n",
        "dataset = np.loadtxt(\"https://raw.githubusercontent.com/jbrownlee/Datasets/master/pima-indians-diabetes.data.csv\", delimiter=\",\")\n",
        "print(dataset.shape)\n",
        "\n",
        "XTRAIN = dataset[200:,0:8]\n",
        "YTRAIN = dataset[200:,8]\n",
        "XVALIDATION = dataset[:200,0:5]\n",
        "YVALIDATION = dataset[:200:,8]\n",
        "\n",
        "model = Sequential()\n",
        "model.add(Dense(12, input_dim = 8, activation='sigmoid'))\n",
        "model.add(Dense(8, activation='sigmoid'))\n",
        "model.add(Dense(1, activation='sigmoid'))\n",
        "\n",
        "model.compile(                                                           )\n",
        "\n",
        "model.fit(                                                               )\n"
      ],
      "execution_count": 21,
      "outputs": [
        {
          "output_type": "stream",
          "text": [
            "(768, 9)\n"
          ],
          "name": "stdout"
        }
      ]
    },
    {
      "metadata": {
        "id": "LcvxStrUxwUS",
        "colab_type": "text"
      },
      "cell_type": "markdown",
      "source": [
        "QUESTION. Assume that the variable \"YVALIDATION\" has the true labels (1s and 0s) for the Pima Indians Diabetes Dataset and \"prediction\" variable contains the predictions from a trained neural network model. Given the following code, calculate the precision, accuracy, and recall."
      ]
    },
    {
      "metadata": {
        "id": "_yu6sxhTxwUU",
        "colab_type": "code",
        "outputId": "db627a10-12a5-4b14-d622-f30b11c7c0cc",
        "colab": {
          "base_uri": "https://localhost:8080/",
          "height": 416
        }
      },
      "cell_type": "code",
      "source": [
        "print(YVALIDATION[0:10])\n",
        "\n",
        "prediction = model.predict(XVALIDATION)\n",
        "print('')\n",
        "print(prediction[0:10])\n",
        "print ('')\n",
        "print(prediction[0:10].round())\n",
        "\n",
        "accuracy = accuracy_score(YVALIDATION[0:10], prediction[0:10].round())\n",
        "precision = precision_score(YVALIDATION[0:10], prediction[0:10].round())\n",
        "recall = recall_score(YVALIDATION[0:10], prediction[0:10].round())\n",
        "\n",
        "print(\"Accuracy: %.2f%%\" % (accuracy * 100.0))\n",
        "print(\"Precision: %.2f%%\" % (precision * 100.0))\n",
        "print(\"Recall: %.2f%%\" % (recall * 100.0))"
      ],
      "execution_count": 48,
      "outputs": [
        {
          "output_type": "stream",
          "text": [
            "[1.00 0.00 1.00 0.00 1.00 0.00 1.00 0.00 1.00 1.00]\n",
            "\n",
            "[[0.70]\n",
            " [0.17]\n",
            " [0.70]\n",
            " [0.13]\n",
            " [0.62]\n",
            " [0.23]\n",
            " [0.18]\n",
            " [0.35]\n",
            " [0.62]\n",
            " [0.38]]\n",
            "\n",
            "[[1.00]\n",
            " [0.00]\n",
            " [1.00]\n",
            " [0.00]\n",
            " [1.00]\n",
            " [0.00]\n",
            " [0.00]\n",
            " [0.00]\n",
            " [1.00]\n",
            " [0.00]]\n"
          ],
          "name": "stdout"
        }
      ]
    },
    {
      "metadata": {
        "id": "cwOkCDnlcL3v",
        "colab_type": "text"
      },
      "cell_type": "markdown",
      "source": [
        "QUESTION. We are desiging a Neural Network model in Keras for predicting actual values of age on a dataset, i.e. this is a regression problem. Complete the model.compile() function below with an appropriate parameteres for loss, optimizer, and metrics."
      ]
    },
    {
      "metadata": {
        "id": "9qOCQMmL9axc",
        "colab_type": "code",
        "colab": {}
      },
      "cell_type": "code",
      "source": [
        "model = Sequential()\n",
        "model.add(Dense(12, input_dim=8, activation='sigmoid'))\n",
        "model.add(Dense(8, activation='sigmoid'))\n",
        "model.add(Dense(1, activation='linear'))\n",
        "\n",
        "model.compile(                                     ) "
      ],
      "execution_count": 0,
      "outputs": []
    },
    {
      "metadata": {
        "id": "yVhjcPMXctsh",
        "colab_type": "text"
      },
      "cell_type": "markdown",
      "source": [
        "QUESTION. Of the two models (model1 and model2) below, which is for regression and which is for binary classification? Explain."
      ]
    },
    {
      "metadata": {
        "id": "vSYNF8vpct6T",
        "colab_type": "code",
        "colab": {}
      },
      "cell_type": "code",
      "source": [
        "model1 = Sequential()\n",
        "model1.add(Dense(12, input_dim=8, activation='relu'))\n",
        "model1.add(Dense(8, activation='sigmoid'))\n",
        "model1.add(Dense(1, activation='linear'))\n",
        "\n",
        "model2 = Sequential()\n",
        "model2.add(Dense(12, input_dim=8, activation='sigmoid'))\n",
        "model2.add(Dense(8, activation='relu'))\n",
        "model2.add(Dense(1, activation='sigmoid'))\n"
      ],
      "execution_count": 0,
      "outputs": []
    }
  ]
}