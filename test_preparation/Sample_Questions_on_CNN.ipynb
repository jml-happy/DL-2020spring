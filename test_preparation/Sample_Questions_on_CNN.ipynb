{
  "nbformat": 4,
  "nbformat_minor": 0,
  "metadata": {
    "colab": {
      "name": "DL Test Sample 1.ipynb",
      "version": "0.3.2",
      "provenance": []
    },
    "kernelspec": {
      "display_name": "Python 3",
      "language": "python",
      "name": "python3"
    }
  },
  "cells": [
    {
      "metadata": {
        "id": "TlfdG8kJiT8G",
        "colab_type": "text"
      },
      "cell_type": "markdown",
      "source": [
        "QUESTION. For the MNIST dataset, what is the accuracy of a random predictor (baseline accuracy)? Explain."
      ]
    },
    {
      "metadata": {
        "id": "6iEcjL9KikyR",
        "colab_type": "text"
      },
      "cell_type": "markdown",
      "source": [
        "QUESTION. The code below uses a simple CNN architecture to train a model on the standard MNIST digits dataset (0 to 9 digits).  \n",
        "Complete the code below to have the following architecture:  \n",
        "(a) 16 convolutional filters in the first layer, each of size 3 x 3, with sigmoid activations  \n",
        "(b) 4 convolutional filters in the second layer, each of size 3x3, with sigmoid activations  \n",
        "(c) A dense layer as output layer  "
      ]
    },
    {
      "metadata": {
        "id": "TTn-dOAKCLdH",
        "colab_type": "code",
        "outputId": "226f28ee-95c7-44bc-9b32-13359b23e9c1",
        "colab": {
          "base_uri": "https://localhost:8080/",
          "height": 87
        }
      },
      "cell_type": "code",
      "source": [
        "from keras.datasets import mnist\n",
        "from keras.utils import to_categorical\n",
        "from keras import layers, models\n",
        "\n",
        "(train_images, train_labels), (validation_images, validation_labels) = mnist.load_data()\n",
        "\n",
        "train_images = train_images.reshape( ( 60000, 28, 28, 1 ) )\n",
        "train_images = train_images.astype( 'float32' ) / 255\n",
        "validation_images = validation_images.reshape( ( 10000, 28, 28, 1 ) )\n",
        "validation_images = validation_images.astype( 'float32' ) / 255\n",
        "\n",
        "train_labels = to_categorical( train_labels )\n",
        "validation_labels = to_categorical( validation_labels )\n",
        "\n",
        "model = models.Sequential()\n",
        "model.add(layers.Conv2D(                                                   ))\n",
        "model.add(layers.Conv2D(                                                   ))\n",
        "model.add(                                                                  )\n",
        "model.add(layers.Dense(                                                    ))\n",
        "\n",
        "model.compile( optimizer = 'rmsprop', loss = 'categorical_crossentropy', metrics = [ 'accuracy' ] )\n",
        "model.fit( train_images, train_labels, epochs = 1, batch_size = 256 )"
      ],
      "execution_count": 1,
      "outputs": [
        {
          "output_type": "stream",
          "text": [
            "Using TensorFlow backend.\n"
          ],
          "name": "stderr"
        },
        {
          "output_type": "stream",
          "text": [
            "Epoch 1/1\n",
            "60000/60000 [==============================] - 41s 686us/step - loss: 1.3926 - acc: 0.5467\n"
          ],
          "name": "stdout"
        },
        {
          "output_type": "execute_result",
          "data": {
            "text/plain": [
              "<keras.callbacks.History at 0x7f5823b34d68>"
            ]
          },
          "metadata": {
            "tags": []
          },
          "execution_count": 1
        }
      ]
    },
    {
      "metadata": {
        "id": "BZvanf69rkt0",
        "colab_type": "text"
      },
      "cell_type": "markdown",
      "source": [
        "QUESTION. The code below uses a simple CNN architecture to train a model on the standard MNIST digits dataset (0 to 9 digits).  \n",
        "Complete the code below with an appropriate optimizer, loss function, and metrics.  \n",
        "Also complete the model.fit() function with epochs equal to 1 and batch_size equal to 64."
      ]
    },
    {
      "metadata": {
        "id": "EvzN2Xe-rlV0",
        "colab_type": "code",
        "colab": {}
      },
      "cell_type": "code",
      "source": [
        "from keras.datasets import mnist\n",
        "from keras.utils import to_categorical\n",
        "from keras import layers, models\n",
        "\n",
        "(train_images, train_labels), (validation_images, validation_labels) = mnist.load_data()\n",
        "\n",
        "train_images = train_images.reshape( ( 60000, 28, 28, 1 ) )\n",
        "train_images = train_images.astype( 'float32' ) / 255\n",
        "validation_images = validation_images.reshape( ( 10000, 28, 28, 1 ) )\n",
        "validation_images = validation_images.astype( 'float32' ) / 255\n",
        "\n",
        "train_labels = to_categorical( train_labels )\n",
        "validation_labels = to_categorical( validation_labels )\n",
        "\n",
        "model = models.Sequential()\n",
        "model.add( layers.Conv2D( 16, ( 3, 3 ), activation = 'sigmoid', input_shape = train_images[0, :, :, :].shape ) )\n",
        "model.add( layers.Conv2D( 4, ( 3, 3 ), activation = 'sigmoid' ) )\n",
        "model.add( layers.Flatten() )\n",
        "model.add( layers.Dense( 10, activation = 'softmax' ) )\n",
        "\n",
        "model.compile(                                                             )\n",
        "model.fit(                                                                 )"
      ],
      "execution_count": 0,
      "outputs": []
    },
    {
      "metadata": {
        "id": "jksc9gvFtgoV",
        "colab_type": "text"
      },
      "cell_type": "markdown",
      "source": [
        "QUESTION. The output below shows the summary of a convolutional neural network constructed. Answer the following referring to the output:  \n",
        "(a) How many filters are there in the first convolutional layer?  \n",
        "(b) How is the total number of parameters in the first layer 160?  \n",
        "(c) How is the total number of parameters in the second convolutional layer 580?"
      ]
    },
    {
      "metadata": {
        "id": "SaqsTDQGthmv",
        "colab_type": "code",
        "colab": {
          "base_uri": "https://localhost:8080/",
          "height": 277
        },
        "outputId": "79ef15ef-eb1d-4b29-ab34-c996669d10c2"
      },
      "cell_type": "code",
      "source": [
        "model = models.Sequential()\n",
        "...\n",
        "model.summary()"
      ],
      "execution_count": 2,
      "outputs": [
        {
          "output_type": "stream",
          "text": [
            "_________________________________________________________________\n",
            "Layer (type)                 Output Shape              Param #   \n",
            "=================================================================\n",
            "conv2d_3 (Conv2D)            (None, 26, 26, 16)        160       \n",
            "_________________________________________________________________\n",
            "conv2d_4 (Conv2D)            (None, 24, 24, 4)         580       \n",
            "_________________________________________________________________\n",
            "flatten_2 (Flatten)          (None, 2304)              0         \n",
            "_________________________________________________________________\n",
            "dense_2 (Dense)              (None, 10)                23050     \n",
            "=================================================================\n",
            "Total params: 23,790\n",
            "Trainable params: 23,790\n",
            "Non-trainable params: 0\n",
            "_________________________________________________________________\n"
          ],
          "name": "stdout"
        }
      ]
    },
    {
      "metadata": {
        "id": "3bwpB6B_CLdv",
        "colab_type": "text"
      },
      "cell_type": "markdown",
      "source": [
        "QUESTION. Complete the matplotlib code below."
      ]
    },
    {
      "metadata": {
        "id": "yUiGV9R4CLdx",
        "colab_type": "code",
        "outputId": "fcb051b0-84a3-4f9a-8e31-598ce494fd51",
        "colab": {
          "base_uri": "https://localhost:8080/",
          "height": 373
        }
      },
      "cell_type": "code",
      "source": [
        "plt.           ( validation_images[0, :, :, 0], cmap = 'gray' )\n",
        "plt.           ()\n",
        "print( validation_labels[0] )"
      ],
      "execution_count": 0,
      "outputs": [
        {
          "output_type": "display_data",
          "data": {
            "image/png": "[encoded data removed]",
            "text/plain": [
              "<Figure size 396x396 with 1 Axes>"
            ]
          },
          "metadata": {
            "tags": []
          }
        },
        {
          "output_type": "stream",
          "text": [
            "[0. 0. 0. 0. 0. 0. 0. 1. 0. 0.]\n"
          ],
          "name": "stdout"
        }
      ]
    },
    {
      "metadata": {
        "id": "_PbETHIHCLd8",
        "colab_type": "text"
      },
      "cell_type": "markdown",
      "source": [
        "QUESTION. Assume that you are provided with a simple convolutional neural network code for digit recognition in MNIST dataset. How can the model's accuracy be increased? Suggest at least 4 tips.  \n",
        " * Use GPU for training\n",
        " * Increase the number of epochs  \n",
        " * Increase the number of filters in the first layer, and subsequent layers\n",
        " * Add more layers into the neural networks \n",
        " * Increase the number of Conv2D layers (i.e. add extra layers)\n",
        " * What is the baseline accuracy (i.e. accuracy of a random model)?"
      ]
    },
    {
      "metadata": {
        "id": "Aiew4WBlCLd9",
        "colab_type": "code",
        "colab": {}
      },
      "cell_type": "code",
      "source": [
        ""
      ],
      "execution_count": 0,
      "outputs": []
    }
  ]
}
