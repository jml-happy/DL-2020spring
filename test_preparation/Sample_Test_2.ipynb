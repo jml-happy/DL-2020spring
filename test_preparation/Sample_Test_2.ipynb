{
  "nbformat": 4,
  "nbformat_minor": 0,
  "metadata": {
    "colab": {
      "name": "Sample_Test_2.ipynb",
      "version": "0.3.2",
      "provenance": [],
      "collapsed_sections": [],
      "include_colab_link": true
    },
    "kernelspec": {
      "display_name": "Python 3",
      "language": "python",
      "name": "python3"
    }
  },
  "cells": [
    {
      "cell_type": "markdown",
      "metadata": {
        "id": "view-in-github",
        "colab_type": "text"
      },
      "source": [
        "<a href=\"https://colab.research.google.com/github/badriadhikari/2019-Spring-DL/blob/master/Test/Sample_Test_2.ipynb\" target=\"_parent\"><img src=\"https://colab.research.google.com/assets/colab-badge.svg\" alt=\"Open In Colab\"/></a>"
      ]
    },
    {
      "metadata": {
        "id": "DCr5njJYf3j-",
        "colab_type": "text"
      },
      "cell_type": "markdown",
      "source": [
        "###Sample Test 2 | Deep Learning, Spring 2019 | February 21, 2019 | Total Points = 60\n",
        "\n",
        "####All questions have equal points. This is a closed book exam. No electronics or cheat sheets are allowed.\n",
        "\n",
        "####Name:\n",
        "\n",
        "---"
      ]
    },
    {
      "metadata": {
        "id": "LcvxStrUxwUS",
        "colab_type": "text"
      },
      "cell_type": "markdown",
      "source": [
        "**Question 1**  \n",
        "Following code loads the Pima Indian Diabetest Dataset into the \"pima\" variable. The shape of \"pima\" is also shown below. Write a line of numpy (Python) code to create a variable \"pima_train_x\" that will have the first 600 rows and first 8 columns of the data in \"pima\". Write another line of numpy (Python) to load the first 8 columns of the last 100 rows to \"pima_valid_x\"."
      ]
    },
    {
      "metadata": {
        "id": "_yu6sxhTxwUU",
        "colab_type": "code",
        "outputId": "a5260f6c-54aa-46bc-e173-bce1fd4257ed",
        "colab": {
          "base_uri": "https://localhost:8080/",
          "height": 35
        }
      },
      "cell_type": "code",
      "source": [
        "url = \"https://raw.githubusercontent.com/badriadhikari/2019-Spring-DL/\"\n",
        "url = url + \"master/course-content/Module1-Intro2ML/pima-indians-diabetes.csv\"\n",
        "pima = np.loadtxt(url, delimiter=\",\")\n",
        "print(pima.shape)"
      ],
      "execution_count": 0,
      "outputs": [
        {
          "output_type": "stream",
          "text": [
            "(768, 9)\n"
          ],
          "name": "stdout"
        }
      ]
    },
    {
      "metadata": {
        "id": "yVhjcPMXctsh",
        "colab_type": "text"
      },
      "cell_type": "markdown",
      "source": [
        "**Question2**  \n",
        "When is the metric \"accuracy\" (# of correct-predictions divided by the total) not reliable? Discuss with concrete example/s.\n"
      ]
    },
    {
      "metadata": {
        "id": "ejDb6JoJeNKc",
        "colab_type": "text"
      },
      "cell_type": "markdown",
      "source": [
        "**Question 3**  \n",
        "Suppose that we want to add a constant vector (variable \"v\" below) to each row of a matrix (variable \"x\" below). Complete the Python numpy code below to add v to x."
      ]
    },
    {
      "metadata": {
        "id": "lULLTKe0eaD-",
        "colab_type": "code",
        "outputId": "4147eb13-07ae-4f8b-aba0-390717b5ea10",
        "colab": {
          "base_uri": "https://localhost:8080/",
          "height": 104
        }
      },
      "cell_type": "code",
      "source": [
        "x = np.array([[1,2,3], [4,5,6], [7,8,9], [10, 11, 12]])\n",
        "v = np.array([1, 0, 1])\n",
        "print(x)\n",
        "print(v)\n",
        "\n",
        "\n",
        "\n"
      ],
      "execution_count": 0,
      "outputs": [
        {
          "output_type": "stream",
          "text": [
            "[[ 1  2  3]\n",
            " [ 4  5  6]\n",
            " [ 7  8  9]\n",
            " [10 11 12]]\n",
            "[1 0 1]\n"
          ],
          "name": "stdout"
        }
      ]
    },
    {
      "metadata": {
        "id": "izHLcK3regL0",
        "colab_type": "text"
      },
      "cell_type": "markdown",
      "source": [
        "**Question 4**  \n",
        "Of the two print statements below, one of them will throw an error. What will be the output of the print statement that does not throw the error."
      ]
    },
    {
      "metadata": {
        "id": "WhoZtKVCesHZ",
        "colab_type": "code",
        "colab": {}
      },
      "cell_type": "code",
      "source": [
        "x = np.array([[1,2,3], [4,5,6]])\n",
        "v = np.array([1,2,3])\n",
        "w = np.array([4,5])\n",
        "print(x + v)\n",
        "print(x + w)"
      ],
      "execution_count": 0,
      "outputs": []
    },
    {
      "metadata": {
        "id": "s9DMJn6lfboZ",
        "colab_type": "text"
      },
      "cell_type": "markdown",
      "source": [
        "**Question 5**  \n",
        "Complete the code below to obtain the output shown."
      ]
    },
    {
      "metadata": {
        "id": "ZOheCoiJew97",
        "colab_type": "code",
        "outputId": "11502846-0891-4cb9-8f8a-b0f36cc9b8a0",
        "colab": {
          "base_uri": "https://localhost:8080/",
          "height": 377
        }
      },
      "cell_type": "code",
      "source": [
        "import matplotlib.pyplot as plt\n",
        "x = np.arange(0, 3 * np.pi, 0.1)\n",
        "y = np.sin(x)\n",
        "z = np.cos(x)\n",
        "\n",
        "plt.__________________\n",
        "plt.__________________\n",
        "\n",
        "plt.xlabel('x axis label')\n",
        "plt.ylabel('y axis label')\n",
        "plt.title('Sine and Cosine')\n",
        "plt.legend(['Sine', 'Cosine'])\n",
        "plt.show()"
      ],
      "execution_count": 0,
      "outputs": [
        {
          "output_type": "display_data",
          "data": {
            "image/png": "[encoded data removed]",
            "text/plain": [
              "<Figure size 576x396 with 1 Axes>"
            ]
          },
          "metadata": {
            "tags": []
          }
        }
      ]
    },
    {
      "metadata": {
        "id": "VcbxaJaifrYH",
        "colab_type": "text"
      },
      "cell_type": "markdown",
      "source": [
        "**Question 6**  \n",
        "Suggest any appropriate activation functions for the following types of problems:    \n",
        "1.Regression problem  \n",
        "2.Binary classification problem  "
      ]
    },
    {
      "metadata": {
        "id": "zc7_8UHz0epC",
        "colab_type": "text"
      },
      "cell_type": "markdown",
      "source": [
        "**Question 7**  \n",
        "Complete the code below to display key/value pairs, one-by-one, in a Python dictionary. Hint: Use a for loop."
      ]
    },
    {
      "metadata": {
        "id": "HEMN7zMK2n4c",
        "colab_type": "code",
        "colab": {
          "base_uri": "https://localhost:8080/",
          "height": 69
        },
        "outputId": "76f57019-3d6f-447e-9904-5dbe8b90f303"
      },
      "cell_type": "code",
      "source": [
        "d = {'person': 2, 'cat': 4, 'spider': 8}\n",
        "\n",
        "\n",
        "\n",
        "\n"
      ],
      "execution_count": 6,
      "outputs": [
        {
          "output_type": "stream",
          "text": [
            "person 2\n",
            "cat 4\n",
            "spider 8\n"
          ],
          "name": "stdout"
        }
      ]
    },
    {
      "metadata": {
        "id": "mWTS6dVJ1f5F",
        "colab_type": "text"
      },
      "cell_type": "markdown",
      "source": [
        "**Question 8**  \n",
        "Draw a diagram showing the connections between the neurons in the following artificial neural network."
      ]
    },
    {
      "metadata": {
        "id": "9g8mVUPi0LGN",
        "colab_type": "code",
        "colab": {}
      },
      "cell_type": "code",
      "source": [
        "from keras.models import Sequential\n",
        "model = Sequential()\n",
        "model.add(Dense(4, input_dim=3, activation='sigmoid'))\n",
        "model.add(Dense(3, activation='sigmoid'))\n",
        "model.add(Dense(1, activation='sigmoid'))"
      ],
      "execution_count": 0,
      "outputs": []
    },
    {
      "metadata": {
        "id": "_Ukq802f2Mbb",
        "colab_type": "text"
      },
      "cell_type": "markdown",
      "source": [
        "**Question 9**  \n",
        "a) What will the output plot of the following code look like? Draw the plot **with appropriate axis range values.**   \n",
        "b) Of the three curves, one is ReLU activation, one is sigmoid, and one is linear function. Label the three curves in your plot correctly identifying which is which function."
      ]
    },
    {
      "metadata": {
        "id": "TOsZMloI1fpl",
        "colab_type": "code",
        "colab": {}
      },
      "cell_type": "code",
      "source": [
        "import numpy\n",
        "import matplotlib.pyplot as plt\n",
        "\n",
        "# gives numbers between -3 and 3 at steps of 0.1\n",
        "x = numpy.arange(-3, 3, 0.1) \n",
        "\n",
        "activation1 = 1 / (1 + numpy.exp(-x))\n",
        "plt.plot(x, activation1)\n",
        "\n",
        "activation2 = numpy.maximum(x, 0)\n",
        "plt.plot(x, activation2)\n",
        "\n",
        "activation3 = x\n",
        "plt.plot(x, activation3)\n",
        "\n",
        "plt.show()"
      ],
      "execution_count": 0,
      "outputs": []
    },
    {
      "metadata": {
        "id": "jcD1OSYtZIwY",
        "colab_type": "text"
      },
      "cell_type": "markdown",
      "source": [
        "**Question 10**   \n",
        "In the context of a binary classification problem, below are two vectors - one with correct output labels (Y) and another one with confidences (probabilities) predicted by a neural network. Calculate the (a) accuracy, (b) precision, and (c) recall for the model."
      ]
    },
    {
      "metadata": {
        "id": "-zvHQkNQVJpO",
        "colab_type": "code",
        "colab": {}
      },
      "cell_type": "code",
      "source": [
        "True Labels:\n",
        "[1.00 0.00 1.00 0.00 1.00 0.00 1.00 0.00 1.00 1.00]\n",
        "\n",
        "Predictions:\n",
        "[0.70 0.17 0.70 0.13 0.62 0.23 0.18 0.35 0.62 0.38]"
      ],
      "execution_count": 0,
      "outputs": []
    }
  ]
}