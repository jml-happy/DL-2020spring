{
  "nbformat": 4,
  "nbformat_minor": 0,
  "metadata": {
    "colab": {
      "name": "Sample Test.ipynb",
      "version": "0.3.2",
      "provenance": [],
      "collapsed_sections": [],
      "include_colab_link": true
    },
    "kernelspec": {
      "display_name": "Python 3",
      "language": "python",
      "name": "python3"
    }
  },
  "cells": [
    {
      "cell_type": "markdown",
      "metadata": {
        "id": "view-in-github",
        "colab_type": "text"
      },
      "source": [
        "<a href=\"https://colab.research.google.com/github/badriadhikari/2019-Spring-DL/blob/master/Test/Sample_Test.ipynb\" target=\"_parent\"><img src=\"https://colab.research.google.com/assets/colab-badge.svg\" alt=\"Open In Colab\"/></a>"
      ]
    },
    {
      "metadata": {
        "id": "DCr5njJYf3j-",
        "colab_type": "text"
      },
      "cell_type": "markdown",
      "source": [
        "###Sample Test | Deep Learning, Spring 2019 | February 21, 2019 | Total Points = 60\n",
        "\n",
        "####All questions have equal points. This is a closed book exam. No electronics or cheat sheets are allowed.\n",
        "\n",
        "####Name:\n",
        "\n",
        "---"
      ]
    },
    {
      "metadata": {
        "id": "LcvxStrUxwUS",
        "colab_type": "text"
      },
      "cell_type": "markdown",
      "source": [
        "###1. Assume that the variable \"YVALIDATION\" has the true labels (1s and 0s) for the Pima Indians Diabetes Dataset and \"prediction\" variable contains the predictions from a trained neural network model. Given the following code, calculate the precision, accuracy, and recall."
      ]
    },
    {
      "metadata": {
        "id": "_yu6sxhTxwUU",
        "colab_type": "code",
        "outputId": "db627a10-12a5-4b14-d622-f30b11c7c0cc",
        "colab": {
          "base_uri": "https://localhost:8080/",
          "height": 416
        }
      },
      "cell_type": "code",
      "source": [
        "print(YVALIDATION[0:10])\n",
        "\n",
        "prediction = model.predict(XVALIDATION)\n",
        "print('')\n",
        "print(prediction[0:10])\n",
        "print ('')\n",
        "print(prediction[0:10].round())\n",
        "\n",
        "accuracy = accuracy_score(YVALIDATION[0:10], prediction[0:10].round())\n",
        "precision = precision_score(YVALIDATION[0:10], prediction[0:10].round())\n",
        "recall = recall_score(YVALIDATION[0:10], prediction[0:10].round())\n",
        "\n",
        "print(\"Accuracy: %.2f%%\" % (accuracy * 100.0))\n",
        "print(\"Precision: %.2f%%\" % (precision * 100.0))\n",
        "print(\"Recall: %.2f%%\" % (recall * 100.0))"
      ],
      "execution_count": 48,
      "outputs": [
        {
          "output_type": "stream",
          "text": [
            "[1.00 0.00 1.00 0.00 1.00 0.00 1.00 0.00 1.00 1.00]\n",
            "\n",
            "[[0.70]\n",
            " [0.17]\n",
            " [0.70]\n",
            " [0.13]\n",
            " [0.62]\n",
            " [0.23]\n",
            " [0.18]\n",
            " [0.35]\n",
            " [0.62]\n",
            " [0.38]]\n",
            "\n",
            "[[1.00]\n",
            " [0.00]\n",
            " [1.00]\n",
            " [0.00]\n",
            " [1.00]\n",
            " [0.00]\n",
            " [0.00]\n",
            " [0.00]\n",
            " [1.00]\n",
            " [0.00]]\n"
          ],
          "name": "stdout"
        }
      ]
    },
    {
      "metadata": {
        "id": "yVhjcPMXctsh",
        "colab_type": "text"
      },
      "cell_type": "markdown",
      "source": [
        "###2. Of the two models (model1 and model2) below, which is for regression and which is for binary classification? Explain."
      ]
    },
    {
      "metadata": {
        "id": "vSYNF8vpct6T",
        "colab_type": "code",
        "colab": {}
      },
      "cell_type": "code",
      "source": [
        "model1 = Sequential()\n",
        "model1.add(Dense(12, input_dim=8, activation='relu'))\n",
        "model1.add(Dense(8, activation='sigmoid'))\n",
        "model1.add(Dense(1, activation='linear'))\n",
        "\n",
        "model2 = Sequential()\n",
        "model2.add(Dense(12, input_dim=8, activation='sigmoid'))\n",
        "model2.add(Dense(8, activation='relu'))\n",
        "model2.add(Dense(1, activation='sigmoid'))\n"
      ],
      "execution_count": 0,
      "outputs": []
    },
    {
      "metadata": {
        "id": "ejDb6JoJeNKc",
        "colab_type": "text"
      },
      "cell_type": "markdown",
      "source": [
        "###3. The code below uses a simple CNN architecture to train a model on the standard MNIST digits dataset (0 to 9 digits).  \n",
        "Complete the code below to have the following architecture:  \n",
        "(a) 16 convolutional filters in the first layer, each of size 3 x 3, with sigmoid activations  \n",
        "(b) 4 convolutional filters in the second layer, each of size 3x3, with sigmoid activations  \n",
        "(c) A dense layer as output layer  "
      ]
    },
    {
      "metadata": {
        "id": "lULLTKe0eaD-",
        "colab_type": "code",
        "colab": {}
      },
      "cell_type": "code",
      "source": [
        "from keras.datasets import mnist\n",
        "from keras.utils import to_categorical\n",
        "from keras import layers, models\n",
        "\n",
        "(train_images, train_labels), (validation_images, validation_labels) = mnist.load_data()\n",
        "\n",
        "train_images = train_images.reshape( ( 60000, 28, 28, 1 ) )\n",
        "train_images = train_images.astype( 'float32' ) / 255\n",
        "validation_images = validation_images.reshape( ( 10000, 28, 28, 1 ) )\n",
        "validation_images = validation_images.astype( 'float32' ) / 255\n",
        "\n",
        "train_labels = to_categorical( train_labels )\n",
        "validation_labels = to_categorical( validation_labels )\n",
        "\n",
        "model = models.Sequential()\n",
        "model.add(layers.Conv2D(                                                   ))\n",
        "model.add(layers.Conv2D(                                                   ))\n",
        "model.add(                                                                  )\n",
        "model.add(layers.Dense(                                                    ))\n",
        "\n",
        "model.compile( optimizer = 'rmsprop', loss = 'categorical_crossentropy', metrics = [ 'accuracy' ] )\n",
        "model.fit( train_images, train_labels, epochs = 1, batch_size = 256 )"
      ],
      "execution_count": 0,
      "outputs": []
    },
    {
      "metadata": {
        "id": "izHLcK3regL0",
        "colab_type": "text"
      },
      "cell_type": "markdown",
      "source": [
        "###4. The output below shows the summary of a convolutional neural network constructed. Answer the following referring to the output:  \n",
        "(a) How many filters are there in the first convolutional layer?  \n",
        "(b) How is the total number of parameters in the first layer 160?  \n",
        "(c) How is the total number of parameters in the second convolutional layer 580?"
      ]
    },
    {
      "metadata": {
        "id": "WhoZtKVCesHZ",
        "colab_type": "code",
        "colab": {
          "base_uri": "https://localhost:8080/",
          "height": 277
        },
        "outputId": "72bcba59-2e7f-4dd8-f838-6960d1a23976"
      },
      "cell_type": "code",
      "source": [
        "from keras.datasets import mnist\n",
        "from keras.utils import to_categorical\n",
        "from keras import layers, models\n",
        "\n",
        "model = models.Sequential()\n",
        "...\n",
        "model.summary()"
      ],
      "execution_count": 52,
      "outputs": [
        {
          "output_type": "stream",
          "text": [
            "_________________________________________________________________\n",
            "Layer (type)                 Output Shape              Param #   \n",
            "=================================================================\n",
            "conv2d_3 (Conv2D)            (None, 26, 26, 16)        160       \n",
            "_________________________________________________________________\n",
            "conv2d_4 (Conv2D)            (None, 24, 24, 4)         580       \n",
            "_________________________________________________________________\n",
            "flatten_2 (Flatten)          (None, 2304)              0         \n",
            "_________________________________________________________________\n",
            "dense_59 (Dense)             (None, 10)                23050     \n",
            "=================================================================\n",
            "Total params: 23,790\n",
            "Trainable params: 23,790\n",
            "Non-trainable params: 0\n",
            "_________________________________________________________________\n"
          ],
          "name": "stdout"
        }
      ]
    },
    {
      "metadata": {
        "id": "s9DMJn6lfboZ",
        "colab_type": "text"
      },
      "cell_type": "markdown",
      "source": [
        "###5. What will be the  output of the following code?"
      ]
    },
    {
      "metadata": {
        "id": "ZOheCoiJew97",
        "colab_type": "code",
        "colab": {}
      },
      "cell_type": "code",
      "source": [
        "import numpy as np\n",
        "x = np.array([[1,2],[3,4]])\n",
        "print np.sum(x) \n",
        "print np.sum(x, axis=0) \n",
        "print np.sum(x, axis=1) "
      ],
      "execution_count": 0,
      "outputs": []
    },
    {
      "metadata": {
        "id": "VcbxaJaifrYH",
        "colab_type": "text"
      },
      "cell_type": "markdown",
      "source": [
        "###6. What will be the  output of the following code?"
      ]
    },
    {
      "metadata": {
        "id": "iCkV-HfifrhS",
        "colab_type": "code",
        "colab": {}
      },
      "cell_type": "code",
      "source": [
        "import numpy as np\n",
        "x = np.array([[1,2,3], [4,5,6], [7,8,9], [10, 11, 12]])\n",
        "v = np.array([1, 0, 1])\n",
        "y = x + v\n",
        "print (x)\n",
        "print (v)\n",
        "print (y)"
      ],
      "execution_count": 0,
      "outputs": []
    }
  ]
}
