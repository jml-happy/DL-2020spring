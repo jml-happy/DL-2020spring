{
  "nbformat": 4,
  "nbformat_minor": 0,
  "metadata": {
    "colab": {
      "name": "LeNet-5.ipynb",
      "version": "0.3.2",
      "provenance": [],
      "collapsed_sections": [],
      "include_colab_link": true
    },
    "kernelspec": {
      "name": "python3",
      "display_name": "Python 3"
    },
    "accelerator": "GPU"
  },
  "cells": [
    {
      "cell_type": "markdown",
      "metadata": {
        "id": "view-in-github",
        "colab_type": "text"
      },
      "source": [
        "The LeNet CNN architecture"
      ]
    },
    
    {
      "metadata": {
        "id": "DSidvtNWyH40",
        "colab_type": "code",
        "colab": {}
      },
      "cell_type": "code",
      "source": [
        "from keras.datasets import mnist\n",
        "from keras.utils import to_categorical\n",
        "from keras.layers import *\n",
        "from keras.models import *\n",
        "import matplotlib.pyplot as plt"
      ],
      "execution_count": 0,
      "outputs": []
    },
    {
      "metadata": {
        "id": "kG-e-oej7bW-",
        "colab_type": "code",
        "colab": {
          "base_uri": "https://localhost:8080/",
          "height": 119
        },
        "outputId": "45bfec11-dd1a-47a4-a69d-73f1900a1e7d"
      },
      "cell_type": "code",
      "source": [
        "( train_images, train_labels ), ( validation_images, validation_labels ) = mnist.load_data()\n",
        "\n",
        "print(\"Training dataset:\")\n",
        "print(train_images.shape)\n",
        "print(train_labels.shape)\n",
        "print('Validation dataset:')\n",
        "print(validation_images.shape)\n",
        "print(validation_labels.shape)"
      ],
      "execution_count": 10,
      "outputs": [
        {
          "output_type": "stream",
          "text": [
            "Training dataset:\n",
            "(60000, 28, 28)\n",
            "(60000,)\n",
            "Validation dataset:\n",
            "(10000, 28, 28)\n",
            "(10000,)\n"
          ],
          "name": "stdout"
        }
      ]
    },
    {
      "metadata": {
        "id": "-SReVqD2yVVP",
        "colab_type": "code",
        "colab": {
          "base_uri": "https://localhost:8080/",
          "height": 292
        },
        "outputId": "ffd7be1b-b083-4600-c933-d1b43dba83c5"
      },
      "cell_type": "code",
      "source": [
        "plt.matshow( train_images[2], cmap = 'gray')\n",
        "plt.show()\n",
        "print(train_labels[2])"
      ],
      "execution_count": 11,
      "outputs": [
        {
          "output_type": "display_data",
          "data": {
            "image/png": "[encoded data removed]",
            "text/plain": [
              "<Figure size 288x288 with 1 Axes>"
            ]
          },
          "metadata": {
            "tags": []
          }
        },
        {
          "output_type": "stream",
          "text": [
            "4\n"
          ],
          "name": "stdout"
        }
      ]
    },
    {
      "metadata": {
        "id": "m1N4ltQL5DQ8",
        "colab_type": "code",
        "colab": {
          "base_uri": "https://localhost:8080/",
          "height": 119
        },
        "outputId": "8c288158-bc55-4b16-967d-96fee19ccf28"
      },
      "cell_type": "code",
      "source": [
        "train_images = train_images.reshape( ( 60000, 28, 28, 1 ) )\n",
        "train_images = train_images.astype( 'float32' ) / 255\n",
        "\n",
        "print(\"Before:\")\n",
        "print( train_labels.shape )\n",
        "print( train_labels[0] )\n",
        "\n",
        "train_labels = to_categorical( train_labels )\n",
        "\n",
        "print(\"After:\")\n",
        "print( train_labels.shape )\n",
        "print( train_labels[0] )"
      ],
      "execution_count": 12,
      "outputs": [
        {
          "output_type": "stream",
          "text": [
            "Before:\n",
            "(60000,)\n",
            "5\n",
            "After:\n",
            "(60000, 10)\n",
            "[0. 0. 0. 0. 0. 1. 0. 0. 0. 0.]\n"
          ],
          "name": "stdout"
        }
      ]
    },
    {
      "metadata": {
        "id": "3yYWGM4M5Hzs",
        "colab_type": "code",
        "colab": {}
      },
      "cell_type": "code",
      "source": [
        "model = Sequential()\n",
        "#Layer 1\n",
        "#Conv Layer 1\n",
        "model.add(Conv2D(filters = 6, kernel_size = 5, strides = 1,  activation = 'sigmoid', input_shape = (28,28,1))) # Should be 32 x 32 x 1 \n",
        "#Pooling layer 1\n",
        "model.add(MaxPooling2D(pool_size = 2, strides = 2))\n",
        "#Layer 2\n",
        "#Conv Layer 2\n",
        "model.add(Conv2D(filters = 16, kernel_size = 5, strides = 1, activation = 'sigmoid', input_shape = (14,14,6)))\n",
        "#Pooling Layer 2\n",
        "model.add(MaxPooling2D(pool_size = 2, strides = 2))\n",
        "#Flatten\n",
        "model.add(Flatten())\n",
        "#Layer 3\n",
        "#Fully connected layer 1\n",
        "model.add(Dense(units = 120, activation = 'sigmoid'))\n",
        "#Layer 4\n",
        "#Fully connected layer 2\n",
        "model.add(Dense(units = 84, activation = 'sigmoid'))\n",
        "#Layer 5\n",
        "#Output Layer\n",
        "model.add(Dense(units = 10, activation = 'softmax'))\n",
        "model.compile(optimizer = 'adam', loss = 'categorical_crossentropy', metrics = ['accuracy'])\n"
      ],
      "execution_count": 0,
      "outputs": []
    },
    {
      "metadata": {
        "id": "pm5lzsgS7J8W",
        "colab_type": "code",
        "colab": {
          "base_uri": "https://localhost:8080/",
          "height": 425
        },
        "outputId": "5a418e3e-e404-46d8-c0eb-b510d12432ed"
      },
      "cell_type": "code",
      "source": [
        "print(model.summary())"
      ],
      "execution_count": 17,
      "outputs": [
        {
          "output_type": "stream",
          "text": [
            "_________________________________________________________________\n",
            "Layer (type)                 Output Shape              Param #   \n",
            "=================================================================\n",
            "conv2d_5 (Conv2D)            (None, 24, 24, 6)         156       \n",
            "_________________________________________________________________\n",
            "max_pooling2d_5 (MaxPooling2 (None, 12, 12, 6)         0         \n",
            "_________________________________________________________________\n",
            "conv2d_6 (Conv2D)            (None, 8, 8, 16)          2416      \n",
            "_________________________________________________________________\n",
            "max_pooling2d_6 (MaxPooling2 (None, 4, 4, 16)          0         \n",
            "_________________________________________________________________\n",
            "flatten_3 (Flatten)          (None, 256)               0         \n",
            "_________________________________________________________________\n",
            "dense_7 (Dense)              (None, 120)               30840     \n",
            "_________________________________________________________________\n",
            "dense_8 (Dense)              (None, 84)                10164     \n",
            "_________________________________________________________________\n",
            "dense_9 (Dense)              (None, 10)                850       \n",
            "=================================================================\n",
            "Total params: 44,426\n",
            "Trainable params: 44,426\n",
            "Non-trainable params: 0\n",
            "_________________________________________________________________\n",
            "None\n"
          ],
          "name": "stdout"
        }
      ]
    },
    {
      "metadata": {
        "id": "TpdNqlqS5m0C",
        "colab_type": "code",
        "colab": {
          "base_uri": "https://localhost:8080/",
          "height": 323
        },
        "outputId": "bdf4ca59-fa57-414b-f8ac-02c05ff6f2a1"
      },
      "cell_type": "code",
      "source": [
        "model.fit( train_images, train_labels, epochs = 8, batch_size = 10, validation_split = 0.2 )"
      ],
      "execution_count": 18,
      "outputs": [
        {
          "output_type": "stream",
          "text": [
            "Train on 48000 samples, validate on 12000 samples\n",
            "Epoch 1/8\n",
            "48000/48000 [==============================] - 34s 703us/step - loss: 0.4819 - acc: 0.8478 - val_loss: 0.1185 - val_acc: 0.9623\n",
            "Epoch 2/8\n",
            "48000/48000 [==============================] - 34s 700us/step - loss: 0.1005 - acc: 0.9685 - val_loss: 0.0794 - val_acc: 0.9763\n",
            "Epoch 3/8\n",
            "48000/48000 [==============================] - 33s 692us/step - loss: 0.0733 - acc: 0.9769 - val_loss: 0.0609 - val_acc: 0.9826\n",
            "Epoch 4/8\n",
            "48000/48000 [==============================] - 33s 692us/step - loss: 0.0573 - acc: 0.9820 - val_loss: 0.0655 - val_acc: 0.9804\n",
            "Epoch 5/8\n",
            "48000/48000 [==============================] - 33s 692us/step - loss: 0.0469 - acc: 0.9851 - val_loss: 0.0681 - val_acc: 0.9791\n",
            "Epoch 6/8\n",
            "48000/48000 [==============================] - 33s 696us/step - loss: 0.0395 - acc: 0.9875 - val_loss: 0.0624 - val_acc: 0.9808\n",
            "Epoch 7/8\n",
            "48000/48000 [==============================] - 33s 694us/step - loss: 0.0335 - acc: 0.9890 - val_loss: 0.0482 - val_acc: 0.9861\n",
            "Epoch 8/8\n",
            "48000/48000 [==============================] - 33s 696us/step - loss: 0.0291 - acc: 0.9908 - val_loss: 0.0502 - val_acc: 0.9853\n"
          ],
          "name": "stdout"
        },
        {
          "output_type": "execute_result",
          "data": {
            "text/plain": [
              "<keras.callbacks.History at 0x7f3c92ac0470>"
            ]
          },
          "metadata": {
            "tags": []
          },
          "execution_count": 18
        }
      ]
    },
    {
      "metadata": {
        "id": "q5Q9pPaB6Fto",
        "colab_type": "code",
        "colab": {}
      },
      "cell_type": "code",
      "source": [
        ""
      ],
      "execution_count": 0,
      "outputs": []
    }
  ]
}
