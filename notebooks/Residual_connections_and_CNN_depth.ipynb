{
  "nbformat": 4,
  "nbformat_minor": 0,
  "metadata": {
    "colab": {
      "name": "Residual_connections_and_CNN_depth.ipynb",
      "provenance": [],
      "collapsed_sections": []
    },
    "kernelspec": {
      "name": "python3",
      "display_name": "Python 3"
    },
    "accelerator": "GPU"
  },
  "cells": [
    {
      "cell_type": "markdown",
      "metadata": {
        "id": "0JsM9XaAO6t5",
        "colab_type": "text"
      },
      "source": [
        "# Residual connections and CNN depth"
      ]
    },
    {
      "cell_type": "code",
      "metadata": {
        "id": "Z_RwAhqCbbO9",
        "colab_type": "code",
        "colab": {}
      },
      "source": [
        "from tensorflow.keras.datasets import mnist\n",
        "from tensorflow.keras.utils import to_categorical\n",
        "from tensorflow.keras.layers import *\n",
        "from tensorflow.keras.models import *\n",
        "import matplotlib.pyplot as plt\n",
        "from tensorflow.keras.utils import plot_model"
      ],
      "execution_count": 0,
      "outputs": []
    },
    {
      "cell_type": "code",
      "metadata": {
        "id": "BYULkdoic8KM",
        "colab_type": "code",
        "colab": {}
      },
      "source": [
        "( train_images, train_labels ), ( test_images, test_labels ) = mnist.load_data()\n",
        "print('Validation dataset:')\n",
        "print(test_images.shape)\n",
        "print(test_labels.shape)"
      ],
      "execution_count": 0,
      "outputs": []
    },
    {
      "cell_type": "code",
      "metadata": {
        "id": "dMQo41CSc-Om",
        "colab_type": "code",
        "colab": {}
      },
      "source": [
        "plt.matshow( test_images[2], cmap = 'gray')\n",
        "plt.show()\n",
        "print(test_labels[2])"
      ],
      "execution_count": 0,
      "outputs": []
    },
    {
      "cell_type": "code",
      "metadata": {
        "id": "0gzk_FmPdAZa",
        "colab_type": "code",
        "colab": {}
      },
      "source": [
        "# Use the Test Set to do the training (because it is smaller)\n",
        "train_images = test_images.reshape( ( 10000, 28, 28, 1 ) )\n",
        "train_images = train_images.astype( 'float32' ) / 255\n",
        "print(\"Before:\")\n",
        "print( test_labels.shape )\n",
        "print( test_labels[0] )\n",
        "\n",
        "train_labels = to_categorical( test_labels )\n",
        "print(\"After:\")\n",
        "print( train_labels.shape )\n",
        "print( train_labels[0] )"
      ],
      "execution_count": 0,
      "outputs": []
    },
    {
      "cell_type": "markdown",
      "metadata": {
        "id": "5aNCyq0-Ow_G",
        "colab_type": "text"
      },
      "source": [
        "### I. A deep fully convolutional network does not learn (when depth = 16)"
      ]
    },
    {
      "cell_type": "code",
      "metadata": {
        "id": "m7FuLCsRAyTf",
        "colab_type": "code",
        "colab": {}
      },
      "source": [
        "input_img = Input(shape=(28,28,1))\n",
        "output1 = Conv2D(16, (5, 5), activation='relu')(input_img)\n",
        "for i in range(16):\n",
        "    output2 = Conv2D(16, (5, 5), padding = 'same', activation='relu')(output1)\n",
        "    output1 = output2\n",
        "output3 = Flatten()(output2)\n",
        "output4 = Dense(units = 16, activation = 'relu')(output3)\n",
        "output5 = Dense(units = 16, activation = 'relu')(output4)\n",
        "output6 = Dense(units = 10, activation = 'softmax')(output5)\n",
        "model = Model(inputs=input_img, outputs=output6)\n",
        "model.compile(optimizer = 'adam', loss = 'categorical_crossentropy', metrics = ['accuracy'])\n",
        "print(model.summary())"
      ],
      "execution_count": 0,
      "outputs": []
    },
    {
      "cell_type": "code",
      "metadata": {
        "id": "MKPTSQasA4Yh",
        "colab_type": "code",
        "colab": {}
      },
      "source": [
        "plot_model(model, show_shapes=True, show_layer_names=True)"
      ],
      "execution_count": 0,
      "outputs": []
    },
    {
      "cell_type": "code",
      "metadata": {
        "id": "SkrwtF_7BANi",
        "colab_type": "code",
        "colab": {}
      },
      "source": [
        "history = model.fit( train_images, train_labels, epochs = 8, batch_size = 10, validation_split = 0.2 )"
      ],
      "execution_count": 0,
      "outputs": []
    },
    {
      "cell_type": "markdown",
      "metadata": {
        "id": "CqjFSDUcBB-J",
        "colab_type": "text"
      },
      "source": [
        "## II. Making residual connections makes it learn"
      ]
    },
    {
      "cell_type": "code",
      "metadata": {
        "id": "4rbQeixbwL7b",
        "colab_type": "code",
        "colab": {}
      },
      "source": [
        "input_img = Input(shape=(28,28,1))\n",
        "output1 = Conv2D(16, (5, 5), activation='relu')(input_img)\n",
        "for i in range(16):\n",
        "    output2 = Conv2D(16, (5, 5), padding = 'same', activation='relu')(output1)\n",
        "    output2 = add([output1, output2])\n",
        "    output1 = output2\n",
        "output3 = Flatten()(output2)\n",
        "output4 = Dense(units = 16, activation = 'relu')(output3)\n",
        "output5 = Dense(units = 16, activation = 'relu')(output4)\n",
        "output6 = Dense(units = 10, activation = 'softmax')(output5)\n",
        "model = Model(inputs=input_img, outputs=output6)\n",
        "model.compile(optimizer = 'adam', loss = 'categorical_crossentropy', metrics = ['accuracy'])\n",
        "print(model.summary())"
      ],
      "execution_count": 0,
      "outputs": []
    },
    {
      "cell_type": "code",
      "metadata": {
        "id": "HM3BG8NbArbA",
        "colab_type": "code",
        "colab": {}
      },
      "source": [
        "plot_model(model, show_shapes=True, show_layer_names=True)"
      ],
      "execution_count": 0,
      "outputs": []
    },
    {
      "cell_type": "code",
      "metadata": {
        "id": "xHAbcIHBwQrA",
        "colab_type": "code",
        "colab": {}
      },
      "source": [
        "history = model.fit( train_images, train_labels, epochs = 8, batch_size = 10, validation_split = 0.2 )"
      ],
      "execution_count": 0,
      "outputs": []
    },
    {
      "cell_type": "markdown",
      "metadata": {
        "id": "xMP6rPDeBqVs",
        "colab_type": "text"
      },
      "source": [
        "## III. A further deeper ResNet may yield better results (but may take longer to train)\n",
        "Note that each residual block now has two Conv2D layers"
      ]
    },
    {
      "cell_type": "code",
      "metadata": {
        "id": "7Bc2GILAxy0R",
        "colab_type": "code",
        "colab": {}
      },
      "source": [
        "input_img = Input(shape=(28,28,1))\n",
        "output1 = Conv2D(16, (5, 5), activation='relu')(input_img)\n",
        "for i in range(32):\n",
        "    output2 = Conv2D(16, (5, 5), padding = 'same', activation='relu')(output1)\n",
        "    output2 = BatchNormalization()(output2)\n",
        "    output2 = Conv2D(16, (5, 5), padding = 'same', activation='relu')(output2)\n",
        "    output2 = BatchNormalization()(output2)\n",
        "    output2 = add([output1, output2])\n",
        "    output1 = output2\n",
        "output3 = Flatten()(output2)\n",
        "output4 = Dense(units = 16, activation = 'relu')(output3)\n",
        "output5 = Dense(units = 16, activation = 'relu')(output4)\n",
        "output6 = Dense(units = 10, activation = 'softmax')(output5)\n",
        "model = Model(inputs=input_img, outputs=output6)\n",
        "model.compile(optimizer = 'adam', loss = 'categorical_crossentropy', metrics = ['accuracy'])\n",
        "print(model.summary())"
      ],
      "execution_count": 0,
      "outputs": []
    },
    {
      "cell_type": "code",
      "metadata": {
        "id": "CZtrzL88QEuO",
        "colab_type": "code",
        "colab": {}
      },
      "source": [
        "plot_model(model, show_shapes=True, show_layer_names=True)"
      ],
      "execution_count": 0,
      "outputs": []
    },
    {
      "cell_type": "code",
      "metadata": {
        "id": "eRaBqHWQBv3e",
        "colab_type": "code",
        "colab": {}
      },
      "source": [
        "history = model.fit( train_images, train_labels, epochs = 8, batch_size = 10, validation_split = 0.2 )"
      ],
      "execution_count": 0,
      "outputs": []
    },
    {
      "cell_type": "code",
      "metadata": {
        "id": "EnAIQLM-RW8J",
        "colab_type": "code",
        "colab": {}
      },
      "source": [
        ""
      ],
      "execution_count": 0,
      "outputs": []
    }
  ]
}