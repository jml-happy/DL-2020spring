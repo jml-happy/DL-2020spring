{
  "nbformat": 4,
  "nbformat_minor": 0,
  "metadata": {
    "colab": {
      "name": "matplotlib-plotly.ipynb",
      "provenance": [],
      "collapsed_sections": [],
      "authorship_tag": "ABX9TyM24BszWlKvvNae/03g41fA",
      "include_colab_link": true
    },
    "kernelspec": {
      "name": "python3",
      "display_name": "Python 3"
    }
  },
  "cells": [
    {
      "cell_type": "markdown",
      "metadata": {
        "id": "view-in-github",
        "colab_type": "text"
      },
      "source": [
        "<a href=\"https://colab.research.google.com/github/badriadhikari/DL-2020spring/blob/master/notebooks/matplotlib_plotly.ipynb\" target=\"_parent\"><img src=\"https://colab.research.google.com/assets/colab-badge.svg\" alt=\"Open In Colab\"/></a>"
      ]
    },
    {
      "cell_type": "markdown",
      "metadata": {
        "id": "gFVfRvask9op",
        "colab_type": "text"
      },
      "source": [
        "#➛Matplotlib"
      ]
    },
    {
      "cell_type": "markdown",
      "metadata": {
        "id": "PME4_QE1lECz",
        "colab_type": "text"
      },
      "source": [
        "* Matplotlib is a plotting library\n",
        "* The `matplotlib.pyplot` module provides a plotting system"
      ]
    },
    {
      "cell_type": "code",
      "metadata": {
        "id": "Zh9AZC3LjacA",
        "colab_type": "code",
        "colab": {}
      },
      "source": [
        "import matplotlib.pyplot as plt\n",
        "import numpy as np"
      ],
      "execution_count": 0,
      "outputs": []
    },
    {
      "cell_type": "markdown",
      "metadata": {
        "id": "Uzdz0CcZlNhP",
        "colab_type": "text"
      },
      "source": [
        "By running this special iPython command, we will be displaying plots inline:"
      ]
    },
    {
      "cell_type": "code",
      "metadata": {
        "id": "wkQyQ7gFk72g",
        "colab_type": "code",
        "colab": {}
      },
      "source": [
        "%matplotlib inline"
      ],
      "execution_count": 0,
      "outputs": []
    },
    {
      "cell_type": "code",
      "metadata": {
        "id": "45HqQHrclQgc",
        "colab_type": "code",
        "colab": {}
      },
      "source": [
        "# Compute the x and y coordinates for points on a sine curve\n",
        "x = np.arange(0, 3 * np.pi, 0.1)\n",
        "y = np.sin(x)"
      ],
      "execution_count": 0,
      "outputs": []
    },
    {
      "cell_type": "code",
      "metadata": {
        "id": "TdpDjdvom3VM",
        "colab_type": "code",
        "colab": {}
      },
      "source": [
        "print(x[:10], y[:10])"
      ],
      "execution_count": 0,
      "outputs": []
    },
    {
      "cell_type": "code",
      "metadata": {
        "id": "rBDuPJvXl8J7",
        "colab_type": "code",
        "colab": {}
      },
      "source": [
        "# Plot the points using matplotlib\n",
        "plt.plot(x, y)"
      ],
      "execution_count": 0,
      "outputs": []
    },
    {
      "cell_type": "code",
      "metadata": {
        "id": "6mAbywanmC3v",
        "colab_type": "code",
        "colab": {}
      },
      "source": [
        "plt.show()"
      ],
      "execution_count": 0,
      "outputs": []
    },
    {
      "cell_type": "markdown",
      "metadata": {
        "id": "-VZ0TLqulU_M",
        "colab_type": "text"
      },
      "source": [
        "With just a little bit of extra work we can easily plot multiple lines at once, and add a title, legend, and axis labels:"
      ]
    },
    {
      "cell_type": "code",
      "metadata": {
        "id": "fkfWjE_dlSUq",
        "colab_type": "code",
        "colab": {}
      },
      "source": [
        "y_sin = np.sin(x)\n",
        "y_cos = np.cos(x)\n",
        "\n",
        "# Plot the points using matplotlib\n",
        "plt.plot(x, y_sin)\n",
        "plt.plot(x, y_cos)\n",
        "plt.xlabel('x axis label')\n",
        "plt.ylabel('y axis label')\n",
        "plt.title('Sine and Cosine')\n",
        "plt.legend(['Sine', 'Cosine'])\n",
        "plt.show()"
      ],
      "execution_count": 0,
      "outputs": []
    },
    {
      "cell_type": "markdown",
      "metadata": {
        "id": "80FpfDCHlgZS",
        "colab_type": "text"
      },
      "source": [
        "You can plot different things in the same figure using the subplot function.  \n",
        "![](https://github.com/badriadhikari/AI-2020spring/blob/master/supporting_files/subplots.png?raw=true)  \n",
        "Here is an example:"
      ]
    },
    {
      "cell_type": "code",
      "metadata": {
        "id": "pvZgJ51hlYRi",
        "colab_type": "code",
        "colab": {}
      },
      "source": [
        "# Compute the x and y coordinates for points on sine and cosine curves\n",
        "x = np.arange(0, 3 * np.pi, 0.1)\n",
        "y_sin = np.sin(x)\n",
        "y_cos = np.cos(x)\n",
        "\n",
        "# Set up a subplot grid that has height 2 and width 1,\n",
        "# and set the first such subplot as active.\n",
        "plt.subplot(1, 2, 1)\n",
        "\n",
        "# Make the first plot\n",
        "plt.plot(x, y_sin)\n",
        "plt.title('Sine')\n",
        "\n",
        "# Set the second subplot as active, and make the second plot.\n",
        "plt.subplot(1, 2, 2)\n",
        "plt.plot(x, y_cos)\n",
        "plt.title('Cosine')\n",
        "\n",
        "# Show the figure.\n",
        "plt.show()"
      ],
      "execution_count": 0,
      "outputs": []
    },
    {
      "cell_type": "markdown",
      "metadata": {
        "id": "fps_CZkclpki",
        "colab_type": "text"
      },
      "source": [
        "Subplot [documentation](http://matplotlib.org/api/pyplot_api.html#matplotlib.pyplot.subplot)."
      ]
    },
    {
      "cell_type": "code",
      "metadata": {
        "id": "y54xCiMwlesS",
        "colab_type": "code",
        "colab": {}
      },
      "source": [
        "!pip3 install plotly_express\n",
        "import plotly.express as px"
      ],
      "execution_count": 0,
      "outputs": []
    },
    {
      "cell_type": "markdown",
      "metadata": {
        "id": "w0u6dqVMl2cj",
        "colab_type": "text"
      },
      "source": [
        "#➛Plotly"
      ]
    },
    {
      "cell_type": "code",
      "metadata": {
        "id": "e0sPzWhflxgI",
        "colab_type": "code",
        "colab": {}
      },
      "source": [
        "iris = px.data.iris()\n",
        "print(iris.shape)\n",
        "iris.head()"
      ],
      "execution_count": 0,
      "outputs": []
    },
    {
      "cell_type": "code",
      "metadata": {
        "id": "yqk9lanalztH",
        "colab_type": "code",
        "colab": {}
      },
      "source": [
        "fig = px.scatter_3d(iris, \n",
        "              x='sepal_length', \n",
        "              y='sepal_width',\n",
        "              z='petal_width',\n",
        "              color='species')\n",
        "fig.show()"
      ],
      "execution_count": 0,
      "outputs": []
    },
    {
      "cell_type": "code",
      "metadata": {
        "id": "pDE49j66l1qv",
        "colab_type": "code",
        "colab": {}
      },
      "source": [
        ""
      ],
      "execution_count": 0,
      "outputs": []
    }
  ]
}