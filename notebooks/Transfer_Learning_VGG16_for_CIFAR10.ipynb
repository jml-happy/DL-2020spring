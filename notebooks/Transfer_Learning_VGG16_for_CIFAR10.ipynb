{
  "nbformat": 4,
  "nbformat_minor": 0,
  "metadata": {
    "colab": {
      "name": "Transfer_Learning_VGG16_for_CIFAR10.ipynb",
      "version": "0.3.2",
      "provenance": [],
      "collapsed_sections": [],
      "include_colab_link": true
    },
    "kernelspec": {
      "name": "python3",
      "display_name": "Python 3"
    },
    "accelerator": "GPU"
  },
  "cells": [
    {
      "cell_type": "markdown",
      "metadata": {
        "id": "view-in-github",
        "colab_type": "text"
      },
      "source": [
        "<a href=\"https://colab.research.google.com/github/badriadhikari/2019-Spring-DL/blob/master/course_content/module3_convnets/Transfer_Learning_VGG16_for_CIFAR10.ipynb\" target=\"_parent\"><img src=\"https://colab.research.google.com/assets/colab-badge.svg\" alt=\"Open In Colab\"/></a>"
      ]
    },
    {
      "metadata": {
        "id": "JbGmNmiBuW0Y",
        "colab_type": "text"
      },
      "cell_type": "markdown",
      "source": [
        "# Using the VGG16 Convolutional Base for CIFAR-10 Dataset"
      ]
    },
    {
      "metadata": {
        "id": "ZaBMlgYLqvIL",
        "colab_type": "text"
      },
      "cell_type": "markdown",
      "source": [
        "### The CIFAR-10 Dataset  \n",
        "* The CIFAR-10 dataset (Canadian Institute For Advanced Research) is a collection of images that are commonly used to train machine learning and computer vision algorithms  \n",
        "* It is one of the most widely used datasets for machine learning research  \n",
        "* The CIFAR-10 dataset contains 60,000 32x32 color images in 10 different classes  \n",
        "* The 10 different classes represent airplanes, cars, birds, cats, deer, dogs, frogs, horses, ships, and trucks  \n",
        "* There are 6,000 images of each class  "
      ]
    },
    {
      "metadata": {
        "id": "SEErJJgYEtnh",
        "colab_type": "code",
        "colab": {
          "base_uri": "https://localhost:8080/",
          "height": 34
        },
        "outputId": "25031dc5-8a1d-494a-ea85-3c6d4dcd6e58"
      },
      "cell_type": "code",
      "source": [
        "from keras.datasets import cifar10\n",
        "(x_train, y_train), (x_test, y_test) = cifar10.load_data()"
      ],
      "execution_count": 1,
      "outputs": [
        {
          "output_type": "stream",
          "text": [
            "Using TensorFlow backend.\n"
          ],
          "name": "stderr"
        }
      ]
    },
    {
      "metadata": {
        "id": "jXwNsoCeGsqd",
        "colab_type": "code",
        "colab": {
          "base_uri": "https://localhost:8080/",
          "height": 85
        },
        "outputId": "c2e1de12-7c37-42db-c483-9e8e2049f1d3"
      },
      "cell_type": "code",
      "source": [
        "print(x_train.shape)\n",
        "print(y_train.shape)\n",
        "print(x_test.shape)\n",
        "print(y_test.shape)"
      ],
      "execution_count": 2,
      "outputs": [
        {
          "output_type": "stream",
          "text": [
            "(50000, 32, 32, 3)\n",
            "(50000, 1)\n",
            "(10000, 32, 32, 3)\n",
            "(10000, 1)\n"
          ],
          "name": "stdout"
        }
      ]
    },
    {
      "metadata": {
        "id": "3u-CPlr4ReZT",
        "colab_type": "code",
        "colab": {
          "base_uri": "https://localhost:8080/",
          "height": 286
        },
        "outputId": "05f72399-1609-4e05-87de-23f833094c42"
      },
      "cell_type": "code",
      "source": [
        "import matplotlib.pyplot as plt\n",
        "plt.imshow(x_train[4])"
      ],
      "execution_count": 3,
      "outputs": [
        {
          "output_type": "execute_result",
          "data": {
            "text/plain": [
              "<matplotlib.image.AxesImage at 0x7f13f1f42c50>"
            ]
          },
          "metadata": {
            "tags": []
          },
          "execution_count": 3
        },
        {
          "output_type": "display_data",
          "data": {
            "image/png": "[encoded data removed]",
            "text/plain": [
              "<Figure size 432x288 with 1 Axes>"
            ]
          },
          "metadata": {
            "tags": []
          }
        }
      ]
    },
    {
      "metadata": {
        "id": "sDCyKGSRE6BL",
        "colab_type": "code",
        "colab": {
          "base_uri": "https://localhost:8080/",
          "height": 51
        },
        "outputId": "a87468f5-861c-4f71-9abc-335b7e49a8ea"
      },
      "cell_type": "code",
      "source": [
        "from keras.utils import to_categorical\n",
        "train_labels = to_categorical( y_train )\n",
        "test_labels = to_categorical( y_test )\n",
        "print(train_labels.shape)\n",
        "print(test_labels.shape)"
      ],
      "execution_count": 4,
      "outputs": [
        {
          "output_type": "stream",
          "text": [
            "(50000, 10)\n",
            "(10000, 10)\n"
          ],
          "name": "stdout"
        }
      ]
    },
    {
      "metadata": {
        "id": "9K--qRATt2A1",
        "colab_type": "text"
      },
      "cell_type": "markdown",
      "source": [
        "## Method1: Develop our own ConvNet\n",
        "\n"
      ]
    },
    {
      "metadata": {
        "id": "DnZ8C1E3RY6B",
        "colab_type": "code",
        "colab": {
          "base_uri": "https://localhost:8080/",
          "height": 343
        },
        "outputId": "c8193ba4-a272-4502-91d1-e996efbd000e"
      },
      "cell_type": "code",
      "source": [
        "from keras import models\n",
        "from keras import layers\n",
        "from keras import optimizers\n",
        "\n",
        "model = models.Sequential()\n",
        "model.add( layers.Conv2D( 16, ( 3, 3 ), activation = 'sigmoid', input_shape = x_train[0, :, :, :].shape ) )\n",
        "model.add( layers.Conv2D( 4, ( 3, 3 ), activation = 'sigmoid' ) )\n",
        "model.add( layers.Flatten() )\n",
        "model.add( layers.Dense( 10, activation = 'softmax' ) )\n",
        "model.summary()"
      ],
      "execution_count": 5,
      "outputs": [
        {
          "output_type": "stream",
          "text": [
            "WARNING:tensorflow:From /usr/local/lib/python3.6/dist-packages/tensorflow/python/framework/op_def_library.py:263: colocate_with (from tensorflow.python.framework.ops) is deprecated and will be removed in a future version.\n",
            "Instructions for updating:\n",
            "Colocations handled automatically by placer.\n",
            "_________________________________________________________________\n",
            "Layer (type)                 Output Shape              Param #   \n",
            "=================================================================\n",
            "conv2d_1 (Conv2D)            (None, 30, 30, 16)        448       \n",
            "_________________________________________________________________\n",
            "conv2d_2 (Conv2D)            (None, 28, 28, 4)         580       \n",
            "_________________________________________________________________\n",
            "flatten_1 (Flatten)          (None, 3136)              0         \n",
            "_________________________________________________________________\n",
            "dense_1 (Dense)              (None, 10)                31370     \n",
            "=================================================================\n",
            "Total params: 32,398\n",
            "Trainable params: 32,398\n",
            "Non-trainable params: 0\n",
            "_________________________________________________________________\n"
          ],
          "name": "stdout"
        }
      ]
    },
    {
      "metadata": {
        "id": "u8qfIpG2s0NL",
        "colab_type": "code",
        "colab": {
          "base_uri": "https://localhost:8080/",
          "height": 2261
        },
        "outputId": "6d47d2b3-f7a2-44ce-9205-e78539852010"
      },
      "cell_type": "code",
      "source": [
        "model.compile( optimizer = 'rmsprop', loss = 'categorical_crossentropy', metrics = [ 'accuracy' ] )\n",
        "history = model.fit( x_train, train_labels, epochs = 64, batch_size = 128, validation_data = (x_test, test_labels))"
      ],
      "execution_count": 6,
      "outputs": [
        {
          "output_type": "stream",
          "text": [
            "WARNING:tensorflow:From /usr/local/lib/python3.6/dist-packages/tensorflow/python/ops/math_ops.py:3066: to_int32 (from tensorflow.python.ops.math_ops) is deprecated and will be removed in a future version.\n",
            "Instructions for updating:\n",
            "Use tf.cast instead.\n",
            "Train on 50000 samples, validate on 10000 samples\n",
            "Epoch 1/64\n",
            "50000/50000 [==============================] - 5s 109us/step - loss: 1.9417 - acc: 0.2964 - val_loss: 1.6564 - val_acc: 0.4001\n",
            "Epoch 2/64\n",
            "50000/50000 [==============================] - 3s 53us/step - loss: 1.6325 - acc: 0.4193 - val_loss: 1.8026 - val_acc: 0.3687\n",
            "Epoch 3/64\n",
            "50000/50000 [==============================] - 3s 54us/step - loss: 1.5428 - acc: 0.4530 - val_loss: 1.5394 - val_acc: 0.4537\n",
            "Epoch 4/64\n",
            "50000/50000 [==============================] - 3s 55us/step - loss: 1.4907 - acc: 0.4709 - val_loss: 1.5381 - val_acc: 0.4538\n",
            "Epoch 5/64\n",
            "50000/50000 [==============================] - 3s 56us/step - loss: 1.4523 - acc: 0.4863 - val_loss: 1.6677 - val_acc: 0.4228\n",
            "Epoch 6/64\n",
            "50000/50000 [==============================] - 3s 56us/step - loss: 1.4255 - acc: 0.4949 - val_loss: 1.5154 - val_acc: 0.4650\n",
            "Epoch 7/64\n",
            "50000/50000 [==============================] - 3s 57us/step - loss: 1.4014 - acc: 0.5030 - val_loss: 1.4298 - val_acc: 0.4819\n",
            "Epoch 8/64\n",
            "50000/50000 [==============================] - 3s 54us/step - loss: 1.3868 - acc: 0.5083 - val_loss: 1.4712 - val_acc: 0.4715\n",
            "Epoch 9/64\n",
            "50000/50000 [==============================] - 3s 52us/step - loss: 1.3682 - acc: 0.5136 - val_loss: 1.4481 - val_acc: 0.4802\n",
            "Epoch 10/64\n",
            "50000/50000 [==============================] - 3s 54us/step - loss: 1.3550 - acc: 0.5199 - val_loss: 1.6131 - val_acc: 0.4386\n",
            "Epoch 11/64\n",
            "50000/50000 [==============================] - 3s 54us/step - loss: 1.3417 - acc: 0.5244 - val_loss: 1.5016 - val_acc: 0.4579\n",
            "Epoch 12/64\n",
            "50000/50000 [==============================] - 3s 53us/step - loss: 1.3297 - acc: 0.5284 - val_loss: 1.4050 - val_acc: 0.4906\n",
            "Epoch 13/64\n",
            "50000/50000 [==============================] - 3s 54us/step - loss: 1.3182 - acc: 0.5315 - val_loss: 1.3790 - val_acc: 0.4997\n",
            "Epoch 14/64\n",
            "50000/50000 [==============================] - 3s 58us/step - loss: 1.3045 - acc: 0.5387 - val_loss: 1.4743 - val_acc: 0.4797\n",
            "Epoch 15/64\n",
            "50000/50000 [==============================] - 3s 59us/step - loss: 1.2946 - acc: 0.5408 - val_loss: 1.4825 - val_acc: 0.4797\n",
            "Epoch 16/64\n",
            "50000/50000 [==============================] - 3s 59us/step - loss: 1.2845 - acc: 0.5480 - val_loss: 1.4201 - val_acc: 0.4961\n",
            "Epoch 17/64\n",
            "50000/50000 [==============================] - 3s 57us/step - loss: 1.2722 - acc: 0.5501 - val_loss: 1.4252 - val_acc: 0.4886\n",
            "Epoch 18/64\n",
            "50000/50000 [==============================] - 3s 54us/step - loss: 1.2674 - acc: 0.5511 - val_loss: 1.5583 - val_acc: 0.4522\n",
            "Epoch 19/64\n",
            "50000/50000 [==============================] - 3s 53us/step - loss: 1.2571 - acc: 0.5560 - val_loss: 1.3957 - val_acc: 0.4998\n",
            "Epoch 20/64\n",
            "50000/50000 [==============================] - 3s 54us/step - loss: 1.2505 - acc: 0.5577 - val_loss: 1.4085 - val_acc: 0.4960\n",
            "Epoch 21/64\n",
            "50000/50000 [==============================] - 3s 54us/step - loss: 1.2427 - acc: 0.5626 - val_loss: 1.4076 - val_acc: 0.4925\n",
            "Epoch 22/64\n",
            "50000/50000 [==============================] - 3s 59us/step - loss: 1.2340 - acc: 0.5650 - val_loss: 1.4413 - val_acc: 0.4938\n",
            "Epoch 23/64\n",
            "50000/50000 [==============================] - 3s 58us/step - loss: 1.2261 - acc: 0.5682 - val_loss: 1.3746 - val_acc: 0.5109\n",
            "Epoch 24/64\n",
            "50000/50000 [==============================] - 3s 54us/step - loss: 1.2183 - acc: 0.5720 - val_loss: 1.3850 - val_acc: 0.5001\n",
            "Epoch 25/64\n",
            "50000/50000 [==============================] - 3s 55us/step - loss: 1.2099 - acc: 0.5731 - val_loss: 1.4185 - val_acc: 0.5020\n",
            "Epoch 26/64\n",
            "50000/50000 [==============================] - 3s 53us/step - loss: 1.2043 - acc: 0.5725 - val_loss: 1.3924 - val_acc: 0.5009\n",
            "Epoch 27/64\n",
            "50000/50000 [==============================] - 3s 53us/step - loss: 1.1972 - acc: 0.5781 - val_loss: 1.4060 - val_acc: 0.4907\n",
            "Epoch 28/64\n",
            "50000/50000 [==============================] - 3s 54us/step - loss: 1.1914 - acc: 0.5795 - val_loss: 1.4613 - val_acc: 0.4922\n",
            "Epoch 29/64\n",
            "50000/50000 [==============================] - 3s 54us/step - loss: 1.1846 - acc: 0.5810 - val_loss: 1.4309 - val_acc: 0.4949\n",
            "Epoch 30/64\n",
            "50000/50000 [==============================] - 3s 53us/step - loss: 1.1791 - acc: 0.5853 - val_loss: 1.4219 - val_acc: 0.5005\n",
            "Epoch 31/64\n",
            "50000/50000 [==============================] - 3s 53us/step - loss: 1.1728 - acc: 0.5859 - val_loss: 1.4005 - val_acc: 0.5038\n",
            "Epoch 32/64\n",
            "50000/50000 [==============================] - 3s 54us/step - loss: 1.1662 - acc: 0.5885 - val_loss: 1.4896 - val_acc: 0.4760\n",
            "Epoch 33/64\n",
            "50000/50000 [==============================] - 3s 53us/step - loss: 1.1599 - acc: 0.5905 - val_loss: 1.4016 - val_acc: 0.5015\n",
            "Epoch 34/64\n",
            "50000/50000 [==============================] - 3s 52us/step - loss: 1.1546 - acc: 0.5928 - val_loss: 1.3773 - val_acc: 0.5077\n",
            "Epoch 35/64\n",
            "50000/50000 [==============================] - 3s 53us/step - loss: 1.1492 - acc: 0.5958 - val_loss: 1.3848 - val_acc: 0.5051\n",
            "Epoch 36/64\n",
            "50000/50000 [==============================] - 3s 53us/step - loss: 1.1447 - acc: 0.5971 - val_loss: 1.4134 - val_acc: 0.4999\n",
            "Epoch 37/64\n",
            "50000/50000 [==============================] - 3s 55us/step - loss: 1.1394 - acc: 0.5998 - val_loss: 1.4151 - val_acc: 0.4970\n",
            "Epoch 38/64\n",
            "50000/50000 [==============================] - 3s 53us/step - loss: 1.1327 - acc: 0.5997 - val_loss: 1.4214 - val_acc: 0.5020\n",
            "Epoch 39/64\n",
            "50000/50000 [==============================] - 3s 52us/step - loss: 1.1311 - acc: 0.6001 - val_loss: 1.4141 - val_acc: 0.4939\n",
            "Epoch 40/64\n",
            "50000/50000 [==============================] - 3s 53us/step - loss: 1.1253 - acc: 0.6014 - val_loss: 1.4650 - val_acc: 0.4889\n",
            "Epoch 41/64\n",
            "50000/50000 [==============================] - 3s 53us/step - loss: 1.1217 - acc: 0.6032 - val_loss: 1.4268 - val_acc: 0.5028\n",
            "Epoch 42/64\n",
            "50000/50000 [==============================] - 3s 53us/step - loss: 1.1151 - acc: 0.6064 - val_loss: 1.4078 - val_acc: 0.5022\n",
            "Epoch 43/64\n",
            "50000/50000 [==============================] - 3s 56us/step - loss: 1.1114 - acc: 0.6078 - val_loss: 1.4422 - val_acc: 0.5007\n",
            "Epoch 44/64\n",
            "50000/50000 [==============================] - 3s 62us/step - loss: 1.1064 - acc: 0.6094 - val_loss: 1.4117 - val_acc: 0.5041\n",
            "Epoch 45/64\n",
            "50000/50000 [==============================] - 3s 59us/step - loss: 1.1041 - acc: 0.6108 - val_loss: 1.4322 - val_acc: 0.5005\n",
            "Epoch 46/64\n",
            "50000/50000 [==============================] - 3s 64us/step - loss: 1.0993 - acc: 0.6131 - val_loss: 1.4109 - val_acc: 0.5043\n",
            "Epoch 47/64\n",
            "50000/50000 [==============================] - 3s 54us/step - loss: 1.0986 - acc: 0.6130 - val_loss: 1.4130 - val_acc: 0.5084\n",
            "Epoch 48/64\n",
            "50000/50000 [==============================] - 3s 54us/step - loss: 1.0909 - acc: 0.6140 - val_loss: 1.4906 - val_acc: 0.4881\n",
            "Epoch 49/64\n",
            "50000/50000 [==============================] - 3s 55us/step - loss: 1.0871 - acc: 0.6174 - val_loss: 1.4600 - val_acc: 0.4975\n",
            "Epoch 50/64\n",
            "50000/50000 [==============================] - 3s 54us/step - loss: 1.0847 - acc: 0.6160 - val_loss: 1.4519 - val_acc: 0.4905\n",
            "Epoch 51/64\n",
            "50000/50000 [==============================] - 3s 54us/step - loss: 1.0826 - acc: 0.6184 - val_loss: 1.4255 - val_acc: 0.4970\n",
            "Epoch 52/64\n",
            "50000/50000 [==============================] - 3s 53us/step - loss: 1.0775 - acc: 0.6204 - val_loss: 1.4272 - val_acc: 0.4994\n",
            "Epoch 53/64\n",
            "50000/50000 [==============================] - 3s 53us/step - loss: 1.0753 - acc: 0.6207 - val_loss: 1.4549 - val_acc: 0.5007\n",
            "Epoch 54/64\n",
            "50000/50000 [==============================] - 3s 53us/step - loss: 1.0690 - acc: 0.6222 - val_loss: 1.4885 - val_acc: 0.4877\n",
            "Epoch 55/64\n",
            "50000/50000 [==============================] - 3s 53us/step - loss: 1.0702 - acc: 0.6240 - val_loss: 1.4380 - val_acc: 0.5033\n",
            "Epoch 56/64\n",
            "50000/50000 [==============================] - 3s 53us/step - loss: 1.0653 - acc: 0.6249 - val_loss: 1.4369 - val_acc: 0.5031\n",
            "Epoch 57/64\n",
            "50000/50000 [==============================] - 3s 53us/step - loss: 1.0639 - acc: 0.6247 - val_loss: 1.5091 - val_acc: 0.4939\n",
            "Epoch 58/64\n",
            "50000/50000 [==============================] - 3s 53us/step - loss: 1.0591 - acc: 0.6274 - val_loss: 1.4244 - val_acc: 0.5098\n",
            "Epoch 59/64\n",
            "50000/50000 [==============================] - 3s 53us/step - loss: 1.0595 - acc: 0.6265 - val_loss: 1.4679 - val_acc: 0.4967\n",
            "Epoch 60/64\n",
            "50000/50000 [==============================] - 3s 53us/step - loss: 1.0562 - acc: 0.6279 - val_loss: 1.4793 - val_acc: 0.4917\n",
            "Epoch 61/64\n",
            "50000/50000 [==============================] - 3s 53us/step - loss: 1.0513 - acc: 0.6288 - val_loss: 1.4604 - val_acc: 0.5016\n",
            "Epoch 62/64\n",
            "50000/50000 [==============================] - 3s 52us/step - loss: 1.0496 - acc: 0.6280 - val_loss: 1.4504 - val_acc: 0.4979\n",
            "Epoch 63/64\n",
            "50000/50000 [==============================] - 3s 54us/step - loss: 1.0471 - acc: 0.6288 - val_loss: 1.4499 - val_acc: 0.5013\n",
            "Epoch 64/64\n",
            "50000/50000 [==============================] - 3s 58us/step - loss: 1.0445 - acc: 0.6319 - val_loss: 1.4727 - val_acc: 0.4979\n"
          ],
          "name": "stdout"
        }
      ]
    },
    {
      "metadata": {
        "id": "9hrDQaIhtwqN",
        "colab_type": "code",
        "colab": {
          "base_uri": "https://localhost:8080/",
          "height": 295
        },
        "outputId": "3ce38f75-74e4-4d5c-cba7-7718892ee2f4"
      },
      "cell_type": "code",
      "source": [
        "plt.plot(history.history['acc'])\n",
        "plt.plot(history.history['val_acc'])\n",
        "plt.title('model accuracy')\n",
        "plt.ylabel('accuracy')\n",
        "plt.xlabel('epoch')\n",
        "plt.legend(['train', 'test'], loc='upper left')\n",
        "plt.show()"
      ],
      "execution_count": 7,
      "outputs": [
        {
          "output_type": "display_data",
          "data": {
            "image/png": "[encoded data removed]",
            "text/plain": [
              "<Figure size 432x288 with 1 Axes>"
            ]
          },
          "metadata": {
            "tags": []
          }
        }
      ]
    },
    {
      "metadata": {
        "id": "BWKwZotEt_Cz",
        "colab_type": "text"
      },
      "cell_type": "markdown",
      "source": [
        "## Method2: Use the VGG16 'Convolutional Base'"
      ]
    },
    {
      "metadata": {
        "id": "QC_hYwl1D8nL",
        "colab_type": "code",
        "colab": {}
      },
      "cell_type": "code",
      "source": [
        "from keras.applications import VGG16\n",
        "conv_base = VGG16(weights='imagenet', include_top=False, input_shape=(32, 32, 3))"
      ],
      "execution_count": 0,
      "outputs": []
    },
    {
      "metadata": {
        "id": "5xYF5nyEEEAC",
        "colab_type": "code",
        "colab": {
          "base_uri": "https://localhost:8080/",
          "height": 782
        },
        "outputId": "8541a2c0-6786-45b7-fb75-0921250c2ec2"
      },
      "cell_type": "code",
      "source": [
        "conv_base.summary()"
      ],
      "execution_count": 9,
      "outputs": [
        {
          "output_type": "stream",
          "text": [
            "_________________________________________________________________\n",
            "Layer (type)                 Output Shape              Param #   \n",
            "=================================================================\n",
            "input_1 (InputLayer)         (None, 32, 32, 3)         0         \n",
            "_________________________________________________________________\n",
            "block1_conv1 (Conv2D)        (None, 32, 32, 64)        1792      \n",
            "_________________________________________________________________\n",
            "block1_conv2 (Conv2D)        (None, 32, 32, 64)        36928     \n",
            "_________________________________________________________________\n",
            "block1_pool (MaxPooling2D)   (None, 16, 16, 64)        0         \n",
            "_________________________________________________________________\n",
            "block2_conv1 (Conv2D)        (None, 16, 16, 128)       73856     \n",
            "_________________________________________________________________\n",
            "block2_conv2 (Conv2D)        (None, 16, 16, 128)       147584    \n",
            "_________________________________________________________________\n",
            "block2_pool (MaxPooling2D)   (None, 8, 8, 128)         0         \n",
            "_________________________________________________________________\n",
            "block3_conv1 (Conv2D)        (None, 8, 8, 256)         295168    \n",
            "_________________________________________________________________\n",
            "block3_conv2 (Conv2D)        (None, 8, 8, 256)         590080    \n",
            "_________________________________________________________________\n",
            "block3_conv3 (Conv2D)        (None, 8, 8, 256)         590080    \n",
            "_________________________________________________________________\n",
            "block3_pool (MaxPooling2D)   (None, 4, 4, 256)         0         \n",
            "_________________________________________________________________\n",
            "block4_conv1 (Conv2D)        (None, 4, 4, 512)         1180160   \n",
            "_________________________________________________________________\n",
            "block4_conv2 (Conv2D)        (None, 4, 4, 512)         2359808   \n",
            "_________________________________________________________________\n",
            "block4_conv3 (Conv2D)        (None, 4, 4, 512)         2359808   \n",
            "_________________________________________________________________\n",
            "block4_pool (MaxPooling2D)   (None, 2, 2, 512)         0         \n",
            "_________________________________________________________________\n",
            "block5_conv1 (Conv2D)        (None, 2, 2, 512)         2359808   \n",
            "_________________________________________________________________\n",
            "block5_conv2 (Conv2D)        (None, 2, 2, 512)         2359808   \n",
            "_________________________________________________________________\n",
            "block5_conv3 (Conv2D)        (None, 2, 2, 512)         2359808   \n",
            "_________________________________________________________________\n",
            "block5_pool (MaxPooling2D)   (None, 1, 1, 512)         0         \n",
            "=================================================================\n",
            "Total params: 14,714,688\n",
            "Trainable params: 14,714,688\n",
            "Non-trainable params: 0\n",
            "_________________________________________________________________\n"
          ],
          "name": "stdout"
        }
      ]
    },
    {
      "metadata": {
        "id": "mbVS6IsFEO5K",
        "colab_type": "code",
        "colab": {
          "base_uri": "https://localhost:8080/",
          "height": 51
        },
        "outputId": "574a2f40-15eb-4553-c2f5-a3a9031f9816"
      },
      "cell_type": "code",
      "source": [
        "x_test_vgg_output = conv_base.predict(x_test, verbose = 1)\n",
        "x_train_vgg_output = conv_base.predict(x_train, verbose = 1)"
      ],
      "execution_count": 10,
      "outputs": [
        {
          "output_type": "stream",
          "text": [
            "10000/10000 [==============================] - 4s 449us/step\n",
            "50000/50000 [==============================] - 25s 493us/step\n"
          ],
          "name": "stdout"
        }
      ]
    },
    {
      "metadata": {
        "id": "_pmzwNhiP6nw",
        "colab_type": "code",
        "colab": {
          "base_uri": "https://localhost:8080/",
          "height": 51
        },
        "outputId": "72432e27-2ad1-4a04-e4c4-b9e699207ec3"
      },
      "cell_type": "code",
      "source": [
        "print(x_test_vgg_output.shape)\n",
        "print(x_train_vgg_output.shape)"
      ],
      "execution_count": 11,
      "outputs": [
        {
          "output_type": "stream",
          "text": [
            "(10000, 1, 1, 512)\n",
            "(50000, 1, 1, 512)\n"
          ],
          "name": "stdout"
        }
      ]
    },
    {
      "metadata": {
        "id": "SS6WrjitQpIe",
        "colab_type": "code",
        "colab": {}
      },
      "cell_type": "code",
      "source": [
        "import numpy as np\n",
        "x_test_new = np.reshape(x_test_vgg_output, (10000, 1 * 1 * 512))\n",
        "x_train_new = np.reshape(x_train_vgg_output, (50000, 1 * 1 * 512))"
      ],
      "execution_count": 0,
      "outputs": []
    },
    {
      "metadata": {
        "id": "i_HfvEHcQqpg",
        "colab_type": "code",
        "colab": {
          "base_uri": "https://localhost:8080/",
          "height": 51
        },
        "outputId": "368d9841-9280-42fc-fb1e-f2e8fb48d04f"
      },
      "cell_type": "code",
      "source": [
        "print(x_test_new.shape)\n",
        "print(x_train_new.shape)"
      ],
      "execution_count": 13,
      "outputs": [
        {
          "output_type": "stream",
          "text": [
            "(10000, 512)\n",
            "(50000, 512)\n"
          ],
          "name": "stdout"
        }
      ]
    },
    {
      "metadata": {
        "id": "rX_jl4cHPzwb",
        "colab_type": "code",
        "colab": {
          "base_uri": "https://localhost:8080/",
          "height": 2210
        },
        "outputId": "c8b9e52d-b186-4474-8917-b93974dbd273"
      },
      "cell_type": "code",
      "source": [
        "from keras import models\n",
        "from keras import layers\n",
        "from keras import optimizers\n",
        "\n",
        "model = models.Sequential()\n",
        "model.add(layers.Dense(256, activation='relu', input_dim = 1 * 1 * 512))\n",
        "model.add(layers.Dropout(0.5))\n",
        "model.add(layers.Dense(10, activation='softmax'))\n",
        "\n",
        "model.compile(optimizer='rmsprop', loss='categorical_crossentropy', metrics=['acc'])\n",
        "history = model.fit(x_train_new, train_labels, epochs=64, batch_size=128, validation_data = (x_test_new, test_labels))"
      ],
      "execution_count": 15,
      "outputs": [
        {
          "output_type": "stream",
          "text": [
            "Train on 50000 samples, validate on 10000 samples\n",
            "Epoch 1/64\n",
            "50000/50000 [==============================] - 5s 97us/step - loss: 5.1337 - acc: 0.3812 - val_loss: 1.5708 - val_acc: 0.4927\n",
            "Epoch 2/64\n",
            "50000/50000 [==============================] - 5s 93us/step - loss: 1.6978 - acc: 0.4656 - val_loss: 1.3994 - val_acc: 0.5551\n",
            "Epoch 3/64\n",
            "50000/50000 [==============================] - 5s 92us/step - loss: 1.5221 - acc: 0.5143 - val_loss: 1.3507 - val_acc: 0.5630\n",
            "Epoch 4/64\n",
            "50000/50000 [==============================] - 5s 93us/step - loss: 1.4315 - acc: 0.5399 - val_loss: 1.3309 - val_acc: 0.5778\n",
            "Epoch 5/64\n",
            "50000/50000 [==============================] - 4s 89us/step - loss: 1.3825 - acc: 0.5563 - val_loss: 1.3384 - val_acc: 0.5873\n",
            "Epoch 6/64\n",
            "50000/50000 [==============================] - 4s 87us/step - loss: 1.3559 - acc: 0.5654 - val_loss: 1.3285 - val_acc: 0.5928\n",
            "Epoch 7/64\n",
            "50000/50000 [==============================] - 5s 90us/step - loss: 1.3256 - acc: 0.5750 - val_loss: 1.3430 - val_acc: 0.5922\n",
            "Epoch 8/64\n",
            "50000/50000 [==============================] - 4s 86us/step - loss: 1.3056 - acc: 0.5806 - val_loss: 1.3662 - val_acc: 0.5918\n",
            "Epoch 9/64\n",
            "50000/50000 [==============================] - 4s 89us/step - loss: 1.2907 - acc: 0.5885 - val_loss: 1.3789 - val_acc: 0.5927\n",
            "Epoch 10/64\n",
            "50000/50000 [==============================] - 4s 90us/step - loss: 1.2769 - acc: 0.5961 - val_loss: 1.3922 - val_acc: 0.5982\n",
            "Epoch 11/64\n",
            "50000/50000 [==============================] - 4s 90us/step - loss: 1.2700 - acc: 0.5957 - val_loss: 1.3981 - val_acc: 0.6006\n",
            "Epoch 12/64\n",
            "50000/50000 [==============================] - 4s 87us/step - loss: 1.2573 - acc: 0.6037 - val_loss: 1.4143 - val_acc: 0.6021\n",
            "Epoch 13/64\n",
            "50000/50000 [==============================] - 2s 48us/step - loss: 1.2510 - acc: 0.6087 - val_loss: 1.4349 - val_acc: 0.6100\n",
            "Epoch 14/64\n",
            "50000/50000 [==============================] - 1s 25us/step - loss: 1.2451 - acc: 0.6095 - val_loss: 1.4540 - val_acc: 0.6002\n",
            "Epoch 15/64\n",
            "50000/50000 [==============================] - 1s 24us/step - loss: 1.2384 - acc: 0.6089 - val_loss: 1.4837 - val_acc: 0.5987\n",
            "Epoch 16/64\n",
            "50000/50000 [==============================] - 1s 25us/step - loss: 1.2351 - acc: 0.6104 - val_loss: 1.4983 - val_acc: 0.5965\n",
            "Epoch 17/64\n",
            "50000/50000 [==============================] - 1s 27us/step - loss: 1.2324 - acc: 0.6122 - val_loss: 1.5038 - val_acc: 0.6042\n",
            "Epoch 18/64\n",
            "50000/50000 [==============================] - 2s 31us/step - loss: 1.2170 - acc: 0.6180 - val_loss: 1.5173 - val_acc: 0.6064\n",
            "Epoch 19/64\n",
            "50000/50000 [==============================] - 1s 26us/step - loss: 1.2200 - acc: 0.6158 - val_loss: 1.5367 - val_acc: 0.5982\n",
            "Epoch 20/64\n",
            "50000/50000 [==============================] - 1s 25us/step - loss: 1.2168 - acc: 0.6225 - val_loss: 1.5418 - val_acc: 0.5996\n",
            "Epoch 21/64\n",
            "50000/50000 [==============================] - 1s 24us/step - loss: 1.2084 - acc: 0.6229 - val_loss: 1.5554 - val_acc: 0.5964\n",
            "Epoch 22/64\n",
            "50000/50000 [==============================] - 1s 25us/step - loss: 1.2162 - acc: 0.6227 - val_loss: 1.5449 - val_acc: 0.6025\n",
            "Epoch 23/64\n",
            "50000/50000 [==============================] - 1s 25us/step - loss: 1.2050 - acc: 0.6255 - val_loss: 1.5768 - val_acc: 0.5973\n",
            "Epoch 24/64\n",
            "50000/50000 [==============================] - 1s 26us/step - loss: 1.1991 - acc: 0.6279 - val_loss: 1.5502 - val_acc: 0.6003\n",
            "Epoch 25/64\n",
            "50000/50000 [==============================] - 1s 25us/step - loss: 1.2049 - acc: 0.6303 - val_loss: 1.5653 - val_acc: 0.6044\n",
            "Epoch 26/64\n",
            "50000/50000 [==============================] - 1s 25us/step - loss: 1.1971 - acc: 0.6301 - val_loss: 1.5733 - val_acc: 0.6001\n",
            "Epoch 27/64\n",
            "50000/50000 [==============================] - 1s 24us/step - loss: 1.2028 - acc: 0.6301 - val_loss: 1.6219 - val_acc: 0.5954\n",
            "Epoch 28/64\n",
            "50000/50000 [==============================] - 1s 30us/step - loss: 1.1962 - acc: 0.6333 - val_loss: 1.6461 - val_acc: 0.5981\n",
            "Epoch 29/64\n",
            "50000/50000 [==============================] - 2s 44us/step - loss: 1.1921 - acc: 0.6323 - val_loss: 1.6493 - val_acc: 0.6060\n",
            "Epoch 30/64\n",
            "50000/50000 [==============================] - 5s 97us/step - loss: 1.1963 - acc: 0.6313 - val_loss: 1.6469 - val_acc: 0.6026\n",
            "Epoch 31/64\n",
            "50000/50000 [==============================] - 5s 96us/step - loss: 1.1913 - acc: 0.6328 - val_loss: 1.6979 - val_acc: 0.5984\n",
            "Epoch 32/64\n",
            "50000/50000 [==============================] - 5s 99us/step - loss: 1.1940 - acc: 0.6325 - val_loss: 1.6916 - val_acc: 0.5950\n",
            "Epoch 33/64\n",
            "50000/50000 [==============================] - 5s 101us/step - loss: 1.1963 - acc: 0.6366 - val_loss: 1.7218 - val_acc: 0.6002\n",
            "Epoch 34/64\n",
            "50000/50000 [==============================] - 5s 97us/step - loss: 1.2032 - acc: 0.6356 - val_loss: 1.7186 - val_acc: 0.5953\n",
            "Epoch 35/64\n",
            "50000/50000 [==============================] - 5s 97us/step - loss: 1.2022 - acc: 0.6370 - val_loss: 1.7305 - val_acc: 0.5976\n",
            "Epoch 36/64\n",
            "50000/50000 [==============================] - 4s 86us/step - loss: 1.2042 - acc: 0.6354 - val_loss: 1.7469 - val_acc: 0.5997\n",
            "Epoch 37/64\n",
            "50000/50000 [==============================] - 5s 98us/step - loss: 1.1989 - acc: 0.6362 - val_loss: 1.7524 - val_acc: 0.5998\n",
            "Epoch 38/64\n",
            "50000/50000 [==============================] - 5s 97us/step - loss: 1.2036 - acc: 0.6407 - val_loss: 1.7539 - val_acc: 0.5930\n",
            "Epoch 39/64\n",
            "50000/50000 [==============================] - 5s 97us/step - loss: 1.2036 - acc: 0.6412 - val_loss: 1.7997 - val_acc: 0.5992\n",
            "Epoch 40/64\n",
            "50000/50000 [==============================] - 5s 98us/step - loss: 1.2148 - acc: 0.6369 - val_loss: 1.7862 - val_acc: 0.5962\n",
            "Epoch 41/64\n",
            "50000/50000 [==============================] - 5s 98us/step - loss: 1.2006 - acc: 0.6395 - val_loss: 1.8152 - val_acc: 0.5964\n",
            "Epoch 42/64\n",
            "50000/50000 [==============================] - 5s 92us/step - loss: 1.1981 - acc: 0.6406 - val_loss: 1.8305 - val_acc: 0.5920\n",
            "Epoch 43/64\n",
            "50000/50000 [==============================] - 5s 101us/step - loss: 1.1982 - acc: 0.6413 - val_loss: 1.8424 - val_acc: 0.5973\n",
            "Epoch 44/64\n",
            "50000/50000 [==============================] - 5s 97us/step - loss: 1.2087 - acc: 0.6407 - val_loss: 1.8417 - val_acc: 0.5991\n",
            "Epoch 45/64\n",
            "50000/50000 [==============================] - 5s 97us/step - loss: 1.1989 - acc: 0.6413 - val_loss: 1.8446 - val_acc: 0.5946\n",
            "Epoch 46/64\n",
            "50000/50000 [==============================] - 5s 96us/step - loss: 1.2155 - acc: 0.6397 - val_loss: 1.8422 - val_acc: 0.5872\n",
            "Epoch 47/64\n",
            "50000/50000 [==============================] - 5s 96us/step - loss: 1.2126 - acc: 0.6399 - val_loss: 1.8468 - val_acc: 0.5911\n",
            "Epoch 48/64\n",
            "50000/50000 [==============================] - 5s 92us/step - loss: 1.1956 - acc: 0.6418 - val_loss: 1.8677 - val_acc: 0.5994\n",
            "Epoch 49/64\n",
            "50000/50000 [==============================] - 3s 61us/step - loss: 1.1949 - acc: 0.6446 - val_loss: 1.8342 - val_acc: 0.6032\n",
            "Epoch 50/64\n",
            "50000/50000 [==============================] - 1s 28us/step - loss: 1.2077 - acc: 0.6422 - val_loss: 1.8953 - val_acc: 0.5888\n",
            "Epoch 51/64\n",
            "50000/50000 [==============================] - 1s 27us/step - loss: 1.1979 - acc: 0.6453 - val_loss: 1.9021 - val_acc: 0.6006\n",
            "Epoch 52/64\n",
            "50000/50000 [==============================] - 1s 28us/step - loss: 1.2194 - acc: 0.6424 - val_loss: 1.9038 - val_acc: 0.5977\n",
            "Epoch 53/64\n",
            "50000/50000 [==============================] - 1s 27us/step - loss: 1.2122 - acc: 0.6425 - val_loss: 1.8838 - val_acc: 0.6011\n",
            "Epoch 54/64\n",
            "50000/50000 [==============================] - 1s 25us/step - loss: 1.2170 - acc: 0.6451 - val_loss: 1.9069 - val_acc: 0.5911\n",
            "Epoch 55/64\n",
            "50000/50000 [==============================] - 1s 24us/step - loss: 1.2130 - acc: 0.6423 - val_loss: 1.9040 - val_acc: 0.5999\n",
            "Epoch 56/64\n",
            "50000/50000 [==============================] - 1s 24us/step - loss: 1.2086 - acc: 0.6427 - val_loss: 1.9327 - val_acc: 0.5955\n",
            "Epoch 57/64\n",
            "50000/50000 [==============================] - 1s 25us/step - loss: 1.2159 - acc: 0.6430 - val_loss: 1.9474 - val_acc: 0.5970\n",
            "Epoch 58/64\n",
            "50000/50000 [==============================] - 1s 24us/step - loss: 1.2126 - acc: 0.6430 - val_loss: 1.9262 - val_acc: 0.5923\n",
            "Epoch 59/64\n",
            "50000/50000 [==============================] - 1s 24us/step - loss: 1.2094 - acc: 0.6458 - val_loss: 1.9475 - val_acc: 0.5901\n",
            "Epoch 60/64\n",
            "50000/50000 [==============================] - 1s 24us/step - loss: 1.2132 - acc: 0.6448 - val_loss: 1.9868 - val_acc: 0.5898\n",
            "Epoch 61/64\n",
            "50000/50000 [==============================] - 1s 24us/step - loss: 1.2040 - acc: 0.6459 - val_loss: 2.0108 - val_acc: 0.5978\n",
            "Epoch 62/64\n",
            "50000/50000 [==============================] - 1s 24us/step - loss: 1.2174 - acc: 0.6490 - val_loss: 1.9868 - val_acc: 0.5971\n",
            "Epoch 63/64\n",
            "50000/50000 [==============================] - 1s 24us/step - loss: 1.2255 - acc: 0.6439 - val_loss: 1.9962 - val_acc: 0.5905\n",
            "Epoch 64/64\n",
            "50000/50000 [==============================] - 1s 24us/step - loss: 1.2220 - acc: 0.6447 - val_loss: 2.0062 - val_acc: 0.5872\n"
          ],
          "name": "stdout"
        }
      ]
    },
    {
      "metadata": {
        "id": "LRCkXcE6s1nX",
        "colab_type": "code",
        "colab": {
          "base_uri": "https://localhost:8080/",
          "height": 295
        },
        "outputId": "317012c3-fea8-4670-9b3c-7655a232be96"
      },
      "cell_type": "code",
      "source": [
        "plt.plot(history.history['acc'])\n",
        "plt.plot(history.history['val_acc'])\n",
        "plt.title('model accuracy')\n",
        "plt.ylabel('accuracy')\n",
        "plt.xlabel('epoch')\n",
        "plt.legend(['train', 'test'], loc='upper left')\n",
        "plt.show()"
      ],
      "execution_count": 16,
      "outputs": [
        {
          "output_type": "display_data",
          "data": {
            "image/png": "[encoded data removed]",
            "text/plain": [
              "<Figure size 432x288 with 1 Axes>"
            ]
          },
          "metadata": {
            "tags": []
          }
        }
      ]
    },
    {
      "metadata": {
        "id": "FgoxqULhtOPW",
        "colab_type": "code",
        "colab": {}
      },
      "cell_type": "code",
      "source": [
        ""
      ],
      "execution_count": 0,
      "outputs": []
    }
  ]
}