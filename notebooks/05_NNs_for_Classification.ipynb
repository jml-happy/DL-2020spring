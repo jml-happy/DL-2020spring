{
  "nbformat": 4,
  "nbformat_minor": 0,
  "metadata": {
    "colab": {
      "name": "Predict the onset of diabetes .ipynb",
      "version": "0.3.2",
      "provenance": []
    },
    "kernelspec": {
      "display_name": "Python 3",
      "language": "python",
      "name": "python3"
    }
  },
  "cells": [
    {
      "metadata": {
        "id": "7kUj8gFFxwTZ",
        "colab_type": "text"
      },
      "cell_type": "markdown",
      "source": [
        "# Predict the Onset of Diabetes Based on Diagnostic Measures (The Pima Indians Diabetes Database)\n",
        "\n",
        "**Reference: https://www.kaggle.com/uciml/pima-indians-diabetes-database  **"
      ]
    },
    {
      "metadata": {
        "id": "2n2UFLYnyNzs",
        "colab_type": "text"
      },
      "cell_type": "markdown",
      "source": [
        "## Step 1: Verify that all requires libraries can be imported  \n",
        "**np.random.seed is for for reproducibility of results**"
      ]
    },
    {
      "metadata": {
        "id": "X2Z70wjAxwTd",
        "colab_type": "code",
        "outputId": "0f91991e-88c2-44f0-e0a0-209e06b655e5",
        "colab": {
          "base_uri": "https://localhost:8080/",
          "height": 35
        }
      },
      "cell_type": "code",
      "source": [
        "from keras.models import Sequential\n",
        "from keras.layers import Dense\n",
        "from sklearn.metrics import accuracy_score, precision_score, recall_score, f1_score\n",
        "import numpy as np\n",
        "np.random.seed(7)"
      ],
      "execution_count": 0,
      "outputs": [
        {
          "output_type": "stream",
          "text": [
            "Using TensorFlow backend.\n"
          ],
          "name": "stderr"
        }
      ]
    },
    {
      "metadata": {
        "id": "NCf94zhzxwTk",
        "colab_type": "text"
      },
      "cell_type": "markdown",
      "source": [
        "## Step 2: Load the data \n",
        "**Questions: **  \n",
        "**- How many rows and columns does the data have?**"
      ]
    },
    {
      "metadata": {
        "id": "Ekgp7YlexwTl",
        "colab_type": "code",
        "outputId": "cc5e3f29-f257-4be6-a40d-702142907641",
        "colab": {
          "base_uri": "https://localhost:8080/",
          "height": 35
        }
      },
      "cell_type": "code",
      "source": [
        "# load pima indians dataset\n",
        "dataset = np.loadtxt(\"https://raw.githubusercontent.com/jbrownlee/Datasets/master/pima-indians-diabetes.data.csv\", delimiter=\",\")\n",
        "print(dataset.shape)"
      ],
      "execution_count": 0,
      "outputs": [
        {
          "output_type": "stream",
          "text": [
            "(768, 9)\n"
          ],
          "name": "stdout"
        }
      ]
    },
    {
      "metadata": {
        "id": "qPNA5gq4zY3b",
        "colab_type": "text"
      },
      "cell_type": "markdown",
      "source": [
        "## Step 3: Preview first 5 rows and all columns  \n",
        "** dataset[0:5, :] = Rows 0 to 4 with all columns **"
      ]
    },
    {
      "metadata": {
        "id": "u1SHBcPAzdPA",
        "colab_type": "code",
        "outputId": "2e6ed4d0-a549-4d27-e95d-3eb1d3036a22",
        "colab": {
          "base_uri": "https://localhost:8080/",
          "height": 191
        }
      },
      "cell_type": "code",
      "source": [
        "print(dataset[0:5, :])"
      ],
      "execution_count": 0,
      "outputs": [
        {
          "output_type": "stream",
          "text": [
            "[[6.000e+00 1.480e+02 7.200e+01 3.500e+01 0.000e+00 3.360e+01 6.270e-01\n",
            "  5.000e+01 1.000e+00]\n",
            " [1.000e+00 8.500e+01 6.600e+01 2.900e+01 0.000e+00 2.660e+01 3.510e-01\n",
            "  3.100e+01 0.000e+00]\n",
            " [8.000e+00 1.830e+02 6.400e+01 0.000e+00 0.000e+00 2.330e+01 6.720e-01\n",
            "  3.200e+01 1.000e+00]\n",
            " [1.000e+00 8.900e+01 6.600e+01 2.300e+01 9.400e+01 2.810e+01 1.670e-01\n",
            "  2.100e+01 0.000e+00]\n",
            " [0.000e+00 1.370e+02 4.000e+01 3.500e+01 1.680e+02 4.310e+01 2.288e+00\n",
            "  3.300e+01 1.000e+00]]\n"
          ],
          "name": "stdout"
        }
      ]
    },
    {
      "metadata": {
        "id": "0Tawem2fxwTo",
        "colab_type": "text"
      },
      "cell_type": "markdown",
      "source": [
        "## Step 4: Split the data (768 rows) into Training Set (first 700 rows) and Validation Set (remaining 68 rows)  \n",
        "**- The first 8 columns (0 to 7) are our features used as input to the model**  \n",
        "**- The last column (8) is the true label (diabetes or not) or the ground truth**    \n",
        "#### Questions:\n",
        "**- What is our input and output? **   \n",
        "**- Why \"0:8\" in X and \"8\" in Y?   **\n"
      ]
    },
    {
      "metadata": {
        "id": "ei1fSHBJxwTp",
        "colab_type": "code",
        "colab": {}
      },
      "cell_type": "code",
      "source": [
        "XTRAIN = dataset[:700,0:8]\n",
        "YTRAIN = dataset[:700,8]\n",
        "XVALIDATION = dataset[700:,0:8]\n",
        "YVALIDATION = dataset[700:,8]"
      ],
      "execution_count": 0,
      "outputs": []
    },
    {
      "metadata": {
        "id": "_1TpDX4H4c43",
        "colab_type": "text"
      },
      "cell_type": "markdown",
      "source": [
        "## Step 5: Review the dimensions of our Training Dataset and Validation Dataset\n",
        "**Also preview some of the \"input features\" and \"correct labels\" for the datasets**"
      ]
    },
    {
      "metadata": {
        "id": "Ktv3rFpVxwTs",
        "colab_type": "code",
        "outputId": "7dc4cde9-2a39-466d-c541-f1b98435416a",
        "colab": {
          "base_uri": "https://localhost:8080/",
          "height": 225
        }
      },
      "cell_type": "code",
      "source": [
        "print(XTRAIN.shape)\n",
        "print(YTRAIN.shape)\n",
        "print(XVALIDATION.shape)\n",
        "print(YVALIDATION.shape)\n",
        "print(XTRAIN[0:3,])\n",
        "print(YTRAIN[0:3])\n",
        "print(XVALIDATION[0:3,])\n",
        "print(YVALIDATION[0:3])"
      ],
      "execution_count": 0,
      "outputs": [
        {
          "output_type": "stream",
          "text": [
            "(700, 8)\n",
            "(700,)\n",
            "(68, 8)\n",
            "(68,)\n",
            "[[  6.    148.     72.     35.      0.     33.6     0.627  50.   ]\n",
            " [  1.     85.     66.     29.      0.     26.6     0.351  31.   ]\n",
            " [  8.    183.     64.      0.      0.     23.3     0.672  32.   ]]\n",
            "[1. 0. 1.]\n",
            "[[  2.    122.     76.     27.    200.     35.9     0.483  26.   ]\n",
            " [  6.    125.     78.     31.      0.     27.6     0.565  49.   ]\n",
            " [  1.    168.     88.     29.      0.     35.      0.905  52.   ]]\n",
            "[0. 1. 1.]\n"
          ],
          "name": "stdout"
        }
      ]
    },
    {
      "metadata": {
        "id": "-3DxGlB2xwTv",
        "colab_type": "text"
      },
      "cell_type": "markdown",
      "source": [
        "## Step 6: Create a neural network model with 12 neurons in layer 1, 8 neurons in layer 2, and 1 neuron as the last layer\n",
        "**Questions:**  \n",
        "**- Why is input_dim = 8? It can also be replaced with X[0, :]**\n"
      ]
    },
    {
      "metadata": {
        "id": "FhRrPhElxwTw",
        "colab_type": "code",
        "outputId": "35770356-08a2-4134-f474-30245443c6f2",
        "colab": {
          "base_uri": "https://localhost:8080/",
          "height": 260
        }
      },
      "cell_type": "code",
      "source": [
        "model = Sequential()\n",
        "model.add(Dense(12, input_dim=8, activation='relu'))\n",
        "model.add(Dense(8, activation='relu'))\n",
        "model.add(Dense(1, activation='sigmoid'))\n",
        "print(model.summary())"
      ],
      "execution_count": 0,
      "outputs": [
        {
          "output_type": "stream",
          "text": [
            "_________________________________________________________________\n",
            "Layer (type)                 Output Shape              Param #   \n",
            "=================================================================\n",
            "dense_1 (Dense)              (None, 12)                108       \n",
            "_________________________________________________________________\n",
            "dense_2 (Dense)              (None, 8)                 104       \n",
            "_________________________________________________________________\n",
            "dense_3 (Dense)              (None, 1)                 9         \n",
            "=================================================================\n",
            "Total params: 221\n",
            "Trainable params: 221\n",
            "Non-trainable params: 0\n",
            "_________________________________________________________________\n",
            "None\n"
          ],
          "name": "stdout"
        }
      ]
    },
    {
      "metadata": {
        "id": "OJhrMV9xxwT4",
        "colab_type": "text"
      },
      "cell_type": "markdown",
      "source": [
        "## Step 6: Check for proper neural connections by compiling the model"
      ]
    },
    {
      "metadata": {
        "id": "jWYDiRrhxwT6",
        "colab_type": "code",
        "colab": {}
      },
      "cell_type": "code",
      "source": [
        "model.compile(loss='binary_crossentropy', optimizer='adam', metrics=['accuracy'])"
      ],
      "execution_count": 0,
      "outputs": []
    },
    {
      "metadata": {
        "id": "MlPJMFYAxwT8",
        "colab_type": "text"
      },
      "cell_type": "markdown",
      "source": [
        "## Step 7: Do the Training (i.e. Fit the model)\n",
        "**- We feed XTRAIN into the model and the model calculates errors using YTRAIN**  \n",
        "**- In one epoch the model scans through the entire rows in the XTRAIN**  \n",
        "**- Updating the number of epochs usually increases the accuracy of the model**  \n",
        "**- To observe the accuracy on the VALIDATION data during the training, add \", validation_data = (XTEST, YTEST)\" ** "
      ]
    },
    {
      "metadata": {
        "id": "dytoL_9SxwT9",
        "colab_type": "code",
        "outputId": "a6dd97b6-4541-4dbe-bd28-e57474a25d61",
        "colab": {
          "base_uri": "https://localhost:8080/",
          "height": 555
        }
      },
      "cell_type": "code",
      "source": [
        "model.fit(XTRAIN, YTRAIN, epochs=15, batch_size=10)"
      ],
      "execution_count": 0,
      "outputs": [
        {
          "output_type": "stream",
          "text": [
            "Epoch 1/15\n",
            "700/700 [==============================] - 1s 862us/step - loss: 3.9431 - acc: 0.6286\n",
            "Epoch 2/15\n",
            "700/700 [==============================] - 0s 106us/step - loss: 1.1087 - acc: 0.5829\n",
            "Epoch 3/15\n",
            "700/700 [==============================] - 0s 106us/step - loss: 0.7455 - acc: 0.6543\n",
            "Epoch 4/15\n",
            "700/700 [==============================] - 0s 111us/step - loss: 0.6910 - acc: 0.6571\n",
            "Epoch 5/15\n",
            "700/700 [==============================] - 0s 107us/step - loss: 0.6687 - acc: 0.6557\n",
            "Epoch 6/15\n",
            "700/700 [==============================] - 0s 119us/step - loss: 0.6512 - acc: 0.6843\n",
            "Epoch 7/15\n",
            "700/700 [==============================] - 0s 121us/step - loss: 0.6277 - acc: 0.6857\n",
            "Epoch 8/15\n",
            "700/700 [==============================] - 0s 123us/step - loss: 0.6446 - acc: 0.6800\n",
            "Epoch 9/15\n",
            "700/700 [==============================] - 0s 116us/step - loss: 0.6519 - acc: 0.6814\n",
            "Epoch 10/15\n",
            "700/700 [==============================] - 0s 118us/step - loss: 0.6185 - acc: 0.6757\n",
            "Epoch 11/15\n",
            "700/700 [==============================] - 0s 110us/step - loss: 0.6129 - acc: 0.6971\n",
            "Epoch 12/15\n",
            "700/700 [==============================] - 0s 109us/step - loss: 0.6133 - acc: 0.6843\n",
            "Epoch 13/15\n",
            "700/700 [==============================] - 0s 108us/step - loss: 0.6043 - acc: 0.6986\n",
            "Epoch 14/15\n",
            "700/700 [==============================] - 0s 111us/step - loss: 0.5967 - acc: 0.6943\n",
            "Epoch 15/15\n",
            "700/700 [==============================] - 0s 113us/step - loss: 0.5878 - acc: 0.6986\n"
          ],
          "name": "stdout"
        },
        {
          "output_type": "execute_result",
          "data": {
            "text/plain": [
              "<keras.callbacks.History at 0x7f4229beb4a8>"
            ]
          },
          "metadata": {
            "tags": []
          },
          "execution_count": 8
        }
      ]
    },
    {
      "metadata": {
        "id": "FpNRAdsAxwUC",
        "colab_type": "text"
      },
      "cell_type": "markdown",
      "source": [
        "## Step 8: Evaluate the model on the Training data (the same data we used to train the model)"
      ]
    },
    {
      "metadata": {
        "id": "iXE5jrkWxwUC",
        "colab_type": "code",
        "outputId": "e3dd507d-264e-4c28-bdec-12846299076e",
        "colab": {
          "base_uri": "https://localhost:8080/",
          "height": 104
        }
      },
      "cell_type": "code",
      "source": [
        "scores = model.evaluate(XTRAIN, YTRAIN)\n",
        "print(model.metrics_names)\n",
        "print(scores)\n",
        "print(\"\\n%s: %.2f%%\" % (model.metrics_names[1], scores[1]*100))"
      ],
      "execution_count": 0,
      "outputs": [
        {
          "output_type": "stream",
          "text": [
            "700/700 [==============================] - 0s 67us/step\n",
            "['loss', 'acc']\n",
            "[0.6603473850658962, 0.6885714292526245]\n",
            "\n",
            "acc: 68.86%\n"
          ],
          "name": "stdout"
        }
      ]
    },
    {
      "metadata": {
        "id": "bKiUus2cxwUM",
        "colab_type": "text"
      },
      "cell_type": "markdown",
      "source": [
        "## Step 9: The real test of the model we trained\n",
        "** We will evaluate the model on the \"Unknown\" dataset (i.e. validation dataset) **"
      ]
    },
    {
      "metadata": {
        "id": "4AdOsks3xwUN",
        "colab_type": "code",
        "outputId": "856c5ed2-49e1-44b5-c9a0-032d4a87d40d",
        "colab": {
          "base_uri": "https://localhost:8080/",
          "height": 69
        }
      },
      "cell_type": "code",
      "source": [
        "scores = model.evaluate(XVALIDATION, YVALIDATION)\n",
        "print(\"\\n%s: %.2f%%\" % (model.metrics_names[1], scores[1]*100))"
      ],
      "execution_count": 0,
      "outputs": [
        {
          "output_type": "stream",
          "text": [
            "68/68 [==============================] - 0s 63us/step\n",
            "\n",
            "acc: 60.29%\n"
          ],
          "name": "stdout"
        }
      ]
    },
    {
      "metadata": {
        "id": "LcvxStrUxwUS",
        "colab_type": "text"
      },
      "cell_type": "markdown",
      "source": [
        "## Step 10: Look into what the model actually predicted\n",
        "** An example of what the model has predicted and comparison with the true classes **"
      ]
    },
    {
      "metadata": {
        "id": "_yu6sxhTxwUU",
        "colab_type": "code",
        "outputId": "effa5930-e9f8-428c-d7f5-9161d2cab4b4",
        "colab": {
          "base_uri": "https://localhost:8080/",
          "height": 121
        }
      },
      "cell_type": "code",
      "source": [
        "print(XVALIDATION[0:5])\n",
        "print(YVALIDATION[0:5])"
      ],
      "execution_count": 0,
      "outputs": [
        {
          "output_type": "stream",
          "text": [
            "[[2.00e+00 1.22e+02 7.60e+01 2.70e+01 2.00e+02 3.59e+01 4.83e-01 2.60e+01]\n",
            " [6.00e+00 1.25e+02 7.80e+01 3.10e+01 0.00e+00 2.76e+01 5.65e-01 4.90e+01]\n",
            " [1.00e+00 1.68e+02 8.80e+01 2.90e+01 0.00e+00 3.50e+01 9.05e-01 5.20e+01]\n",
            " [2.00e+00 1.29e+02 0.00e+00 0.00e+00 0.00e+00 3.85e+01 3.04e-01 4.10e+01]\n",
            " [4.00e+00 1.10e+02 7.60e+01 2.00e+01 1.00e+02 2.84e+01 1.18e-01 2.70e+01]]\n",
            "[0. 1. 1. 0. 0.]\n"
          ],
          "name": "stdout"
        }
      ]
    },
    {
      "metadata": {
        "id": "vYKKA1JfxwUk",
        "colab_type": "code",
        "colab": {}
      },
      "cell_type": "code",
      "source": [
        "prediction = model.predict(XVALIDATION)"
      ],
      "execution_count": 0,
      "outputs": []
    },
    {
      "metadata": {
        "id": "krXuEXj8xwUn",
        "colab_type": "code",
        "outputId": "3c65957a-3036-4b29-cf52-fa911a13f0a9",
        "colab": {
          "base_uri": "https://localhost:8080/",
          "height": 104
        }
      },
      "cell_type": "code",
      "source": [
        "print(prediction[0:5])"
      ],
      "execution_count": 0,
      "outputs": [
        {
          "output_type": "stream",
          "text": [
            "[[0.27730972]\n",
            " [0.16372836]\n",
            " [0.14317933]\n",
            " [0.33861685]\n",
            " [0.19883561]]\n"
          ],
          "name": "stdout"
        }
      ]
    },
    {
      "metadata": {
        "id": "Xg7sUMwcxwUp",
        "colab_type": "code",
        "outputId": "acdd76cd-e58e-4a21-d4c8-62bbbab15967",
        "colab": {
          "base_uri": "https://localhost:8080/",
          "height": 104
        }
      },
      "cell_type": "code",
      "source": [
        "print(prediction[0:5].round())"
      ],
      "execution_count": 0,
      "outputs": [
        {
          "output_type": "stream",
          "text": [
            "[[0.]\n",
            " [0.]\n",
            " [0.]\n",
            " [0.]\n",
            " [0.]]\n"
          ],
          "name": "stdout"
        }
      ]
    },
    {
      "metadata": {
        "id": "rbZgrutwxwUr",
        "colab_type": "text"
      },
      "cell_type": "markdown",
      "source": [
        "## Step 11: Accuracy is not sufficient to evaluate our model's ability to do binary classification  \n",
        "** We can further evaluate the model using precision, recall, and F1-score **"
      ]
    },
    {
      "metadata": {
        "id": "ScjNBZNYxwUw",
        "colab_type": "code",
        "outputId": "c484d970-a856-4c13-f552-cf3b5cd42c08",
        "colab": {
          "base_uri": "https://localhost:8080/",
          "height": 87
        }
      },
      "cell_type": "code",
      "source": [
        "accuracy = accuracy_score(YVALIDATION, prediction.round())\n",
        "precision = precision_score(YVALIDATION, prediction.round())\n",
        "recall = recall_score(YVALIDATION, prediction.round())\n",
        "f1score = f1_score(YVALIDATION, prediction.round())\n",
        "print(\"Accuracy: %.2f%%\" % (accuracy * 100.0))\n",
        "print(\"Precision: %.2f%%\" % (precision * 100.0))\n",
        "print(\"Recall: %.2f%%\" % (recall * 100.0))\n",
        "print(\"F1-score: %.2f\" % (f1score))"
      ],
      "execution_count": 0,
      "outputs": [
        {
          "output_type": "stream",
          "text": [
            "Accuracy: 60.29%\n",
            "Precision: 50.00%\n",
            "Recall: 7.41%\n",
            "F1-score: 0.13\n"
          ],
          "name": "stdout"
        }
      ]
    },
    {
      "metadata": {
        "id": "qAIlkVsu8-TW",
        "colab_type": "text"
      },
      "cell_type": "markdown",
      "source": [
        "## Step 12: How can the model's performance be improved?  \n",
        "** - Increase the number of epochs to 100 or 150 **  \n",
        "** - Add more layers into the neural networks **  \n",
        "** - Increase/Decrease the number of rows in the training/validation set **"
      ]
    },
    {
      "metadata": {
        "id": "9qOCQMmL9axc",
        "colab_type": "code",
        "colab": {}
      },
      "cell_type": "code",
      "source": [
        ""
      ],
      "execution_count": 0,
      "outputs": []
    }
  ]
}