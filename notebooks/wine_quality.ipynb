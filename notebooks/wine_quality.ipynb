{
  "nbformat": 4,
  "nbformat_minor": 0,
  "metadata": {
    "colab": {
      "name": "wine-quality.ipynb",
      "provenance": [],
      "collapsed_sections": [],
      "include_colab_link": true
    },
    "kernelspec": {
      "display_name": "Python 3",
      "language": "python",
      "name": "python3"
    }
  },
  "cells": [
    {
      "cell_type": "markdown",
      "metadata": {
        "id": "view-in-github",
        "colab_type": "text"
      },
      "source": [
        "<a href=\"https://colab.research.google.com/github/badriadhikari/DL-2020spring/blob/master/notebooks/wine_quality.ipynb\" target=\"_parent\"><img src=\"https://colab.research.google.com/assets/colab-badge.svg\" alt=\"Open In Colab\"/></a>"
      ]
    },
    {
      "cell_type": "markdown",
      "metadata": {
        "id": "TKR-A1-1NwSR",
        "colab_type": "text"
      },
      "source": [
        "# Binary Classification using Tensorflow and Keras\n",
        "Badri Adhikari, University of Missouri-St. Louis"
      ]
    },
    {
      "cell_type": "markdown",
      "metadata": {
        "id": "7kUj8gFFxwTZ",
        "colab_type": "text"
      },
      "source": [
        "### **Problem:**\n",
        "* We would like to predict 'red wine quality'.\n",
        "* Dataset: `winequality-red.csv` in the `./data/` folder\n",
        "  - If Quality > 5.5 => \"good wine\" (for now)\n",
        "* Original data at [Kaggle](https://www.kaggle.com/uciml/red-wine-quality-cortez-et-al-2009)"
      ]
    },
    {
      "cell_type": "code",
      "metadata": {
        "id": "30aoILWS7WDY",
        "colab_type": "code",
        "colab": {}
      },
      "source": [
        "%tensorflow_version 2.x"
      ],
      "execution_count": 0,
      "outputs": []
    },
    {
      "cell_type": "markdown",
      "metadata": {
        "id": "NCf94zhzxwTk",
        "colab_type": "text"
      },
      "source": [
        "## Step 0: Load the data "
      ]
    },
    {
      "cell_type": "code",
      "metadata": {
        "id": "-medMLluC4Ge",
        "colab_type": "code",
        "colab": {}
      },
      "source": [
        "from google.colab import files\n",
        "files.upload()"
      ],
      "execution_count": 0,
      "outputs": []
    },
    {
      "cell_type": "markdown",
      "metadata": {
        "id": "bFsuuUgROA5H",
        "colab_type": "text"
      },
      "source": [
        "The back-end is a Linux shell, so we can run `ls -l` and `head`."
      ]
    },
    {
      "cell_type": "code",
      "metadata": {
        "id": "toJghH9gONiE",
        "colab_type": "code",
        "colab": {}
      },
      "source": [
        "! ls -l"
      ],
      "execution_count": 0,
      "outputs": []
    },
    {
      "cell_type": "code",
      "metadata": {
        "id": "0MVt52IXE0V0",
        "colab_type": "code",
        "colab": {}
      },
      "source": [
        "! head winequality-red.csv"
      ],
      "execution_count": 0,
      "outputs": []
    },
    {
      "cell_type": "code",
      "metadata": {
        "id": "UU8-ZcAmD6JG",
        "colab_type": "code",
        "colab": {}
      },
      "source": [
        "import numpy as np\n",
        "dataset = np.loadtxt('winequality-red.csv', delimiter=\",\", skiprows=1)"
      ],
      "execution_count": 0,
      "outputs": []
    },
    {
      "cell_type": "code",
      "metadata": {
        "id": "Ekgp7YlexwTl",
        "colab_type": "code",
        "colab": {}
      },
      "source": [
        "print(dataset.shape)"
      ],
      "execution_count": 0,
      "outputs": []
    },
    {
      "cell_type": "markdown",
      "metadata": {
        "id": "hv4sod7ZoKcE",
        "colab_type": "text"
      },
      "source": [
        "### Questions:\n",
        "* How many rows and columns does the data have?\n",
        "* How to load a dataset that has non-numbers?"
      ]
    },
    {
      "cell_type": "markdown",
      "metadata": {
        "id": "qPNA5gq4zY3b",
        "colab_type": "text"
      },
      "source": [
        "## Step 1: Preview the first 5 rows\n",
        "`dataset[0:5, :]` means 'Rows 0 to 4 with all columns'"
      ]
    },
    {
      "cell_type": "code",
      "metadata": {
        "id": "u1SHBcPAzdPA",
        "colab_type": "code",
        "colab": {}
      },
      "source": [
        "np.set_printoptions(formatter={'float': lambda x: \"{0:0.2f}\".format(x)})\n",
        "print(dataset[0:5, :])"
      ],
      "execution_count": 0,
      "outputs": []
    },
    {
      "cell_type": "markdown",
      "metadata": {
        "id": "Vl_uzbZ-JKCB",
        "colab_type": "text"
      },
      "source": [
        "## Step 2: Prepare the output"
      ]
    },
    {
      "cell_type": "markdown",
      "metadata": {
        "id": "VTamsVjgO8Z_",
        "colab_type": "text"
      },
      "source": [
        "If the last column < 5.5, set it to 0, otherwise 1 (good wine = 1, bad wine = 0)"
      ]
    },
    {
      "cell_type": "code",
      "metadata": {
        "id": "9WiypIdGGfUq",
        "colab_type": "code",
        "colab": {}
      },
      "source": [
        "dataset[dataset[:, -1] < 5.5, -1] = 0 \n",
        "dataset[dataset[:, -1] >= 5.5, -1] = 1"
      ],
      "execution_count": 0,
      "outputs": []
    },
    {
      "cell_type": "code",
      "metadata": {
        "id": "k1qEjZwXJPi9",
        "colab_type": "code",
        "colab": {}
      },
      "source": [
        "print(dataset[0:10, :])"
      ],
      "execution_count": 0,
      "outputs": []
    },
    {
      "cell_type": "markdown",
      "metadata": {
        "id": "UHJBKnFUBMWp",
        "colab_type": "text"
      },
      "source": [
        "### Questions:\n",
        "* What happens if we reverse the two statements that replace wine quality with binary values?"
      ]
    },
    {
      "cell_type": "markdown",
      "metadata": {
        "id": "MnqaFGoLNeGv",
        "colab_type": "text"
      },
      "source": [
        "## Step 3: Shuffle the rows"
      ]
    },
    {
      "cell_type": "markdown",
      "metadata": {
        "id": "3SZ-Zu_QPeYp",
        "colab_type": "text"
      },
      "source": [
        "Shuffling may be bad for reproducibility, but it is good for reliability"
      ]
    },
    {
      "cell_type": "code",
      "metadata": {
        "id": "n2RsUtAKE6-g",
        "colab_type": "code",
        "colab": {}
      },
      "source": [
        "import random\n",
        "np.random.shuffle(dataset)"
      ],
      "execution_count": 0,
      "outputs": []
    },
    {
      "cell_type": "markdown",
      "metadata": {
        "id": "0Tawem2fxwTo",
        "colab_type": "text"
      },
      "source": [
        "## Step 4: Split into Training/Validation Set\n",
        "![](https://github.com/badriadhikari/DL-2020spring/blob/master/notebooks/data-split.png?raw=true)"
      ]
    },
    {
      "cell_type": "code",
      "metadata": {
        "id": "ei1fSHBJxwTp",
        "colab_type": "code",
        "colab": {}
      },
      "source": [
        "index_20percent = int(0.2 * len(dataset[:, 0]))\n",
        "print(index_20percent)"
      ],
      "execution_count": 0,
      "outputs": []
    },
    {
      "cell_type": "code",
      "metadata": {
        "id": "bzaApmMeF0uU",
        "colab_type": "code",
        "colab": {}
      },
      "source": [
        "XVALIDATION = dataset[:index_20percent, :-1]\n",
        "YVALIDATION = dataset[:index_20percent, -1]\n",
        "\n",
        "XTRAIN = dataset[index_20percent:, 0:-1]\n",
        "YTRAIN = dataset[index_20percent:, -1]"
      ],
      "execution_count": 0,
      "outputs": []
    },
    {
      "cell_type": "markdown",
      "metadata": {
        "id": "g3kmFFjToNTa",
        "colab_type": "text"
      },
      "source": [
        "### Questions:\n",
        "* What is our input and output?  \n",
        "* Why `0:-1` in X and `-1` in Y?\n",
        "* What may happen if we don't shuffle the data?"
      ]
    },
    {
      "cell_type": "markdown",
      "metadata": {
        "id": "ATsB4EuFob8c",
        "colab_type": "text"
      },
      "source": [
        "## Step 5: Normalize (if needed)"
      ]
    },
    {
      "cell_type": "code",
      "metadata": {
        "id": "1vdPWvlaqgL4",
        "colab_type": "code",
        "colab": {}
      },
      "source": [
        "import matplotlib.pyplot as plt\n",
        "\n",
        "plt.hist(XTRAIN[:, 0])\n",
        "plt.ylabel('0th Column (fixed acidity)')\n",
        "plt.show()"
      ],
      "execution_count": 0,
      "outputs": []
    },
    {
      "cell_type": "code",
      "metadata": {
        "id": "2Vl2Y05rrlkO",
        "colab_type": "code",
        "colab": {}
      },
      "source": [
        "plt.hist(YTRAIN)\n",
        "plt.ylabel('Output labels')\n",
        "plt.show()\n",
        "\n",
        "plt.hist(YVALIDATION)\n",
        "plt.ylabel('Output labels')\n",
        "plt.show()"
      ],
      "execution_count": 0,
      "outputs": []
    },
    {
      "cell_type": "code",
      "metadata": {
        "id": "r66Oy-sPobOH",
        "colab_type": "code",
        "colab": {}
      },
      "source": [
        "mean = XTRAIN.mean(axis=0)\n",
        "XTRAIN -= mean\n",
        "std = XTRAIN.std(axis=0)\n",
        "XTRAIN /= std\n",
        "\n",
        "XVALIDATION -= mean\n",
        "XVALIDATION /= std"
      ],
      "execution_count": 0,
      "outputs": []
    },
    {
      "cell_type": "code",
      "metadata": {
        "id": "WtWm3Jk2sAGW",
        "colab_type": "code",
        "colab": {}
      },
      "source": [
        "print(mean)\n",
        "print(std)"
      ],
      "execution_count": 0,
      "outputs": []
    },
    {
      "cell_type": "code",
      "metadata": {
        "id": "E3qBMMnEsKmP",
        "colab_type": "code",
        "colab": {}
      },
      "source": [
        "plt.hist(XTRAIN[:, 0])\n",
        "plt.ylabel('0th Column (fixed acidity)')\n",
        "plt.show()"
      ],
      "execution_count": 0,
      "outputs": []
    },
    {
      "cell_type": "markdown",
      "metadata": {
        "id": "CNpUSrx9BEcM",
        "colab_type": "text"
      },
      "source": [
        "### Questions:\n",
        "* Why did we use only the training data to obtain `mean` and `std`?"
      ]
    },
    {
      "cell_type": "markdown",
      "metadata": {
        "id": "_1TpDX4H4c43",
        "colab_type": "text"
      },
      "source": [
        "## Step 6: Review the dimensions of training & validation set\n",
        "**Also preview some of the \"input features\" and \"correct labels\" for the datasets**"
      ]
    },
    {
      "cell_type": "code",
      "metadata": {
        "id": "Ktv3rFpVxwTs",
        "colab_type": "code",
        "colab": {}
      },
      "source": [
        "print(XTRAIN.shape)\n",
        "print(YTRAIN.shape)\n",
        "print(XVALIDATION.shape)\n",
        "print(YVALIDATION.shape)\n",
        "print(XTRAIN[0:3,])\n",
        "print(YTRAIN[0:3])\n",
        "print(XVALIDATION[0:3,])\n",
        "print(YVALIDATION[0:3])"
      ],
      "execution_count": 0,
      "outputs": []
    },
    {
      "cell_type": "markdown",
      "metadata": {
        "id": "-3DxGlB2xwTv",
        "colab_type": "text"
      },
      "source": [
        "## Step 7: Create a neural network model\n",
        "A network with the following architecture:\n",
        "- 12 neurons in layer 1\n",
        "- 8 neurons in layer 2, and\n",
        "- 1 neuron as the last layer"
      ]
    },
    {
      "cell_type": "code",
      "metadata": {
        "id": "FhRrPhElxwTw",
        "colab_type": "code",
        "colab": {}
      },
      "source": [
        "from tensorflow.keras.models import Sequential\n",
        "from tensorflow.keras.layers import Dense\n",
        "\n",
        "model = Sequential()\n",
        "model.add(Dense(8, input_dim = len(XTRAIN[0, :]), activation='relu'))\n",
        "model.add(Dense(4, activation='relu'))\n",
        "model.add(Dense(1, activation='sigmoid'))\n",
        "print(model.summary())"
      ],
      "execution_count": 0,
      "outputs": []
    },
    {
      "cell_type": "markdown",
      "metadata": {
        "id": "Ysp8T2iGGL0I",
        "colab_type": "text"
      },
      "source": [
        "![](https://github.com/badriadhikari/DL-2020spring/blob/master/notebooks/neural-network.png?raw=true)"
      ]
    },
    {
      "cell_type": "markdown",
      "metadata": {
        "id": "xanb3tlopBCs",
        "colab_type": "text"
      },
      "source": [
        "### Questions: \n",
        "* What does `input_dim = len(XTRAIN[0, :])` mean?"
      ]
    },
    {
      "cell_type": "markdown",
      "metadata": {
        "id": "OJhrMV9xxwT4",
        "colab_type": "text"
      },
      "source": [
        "## Step 8: Compile the model\n",
        "Checks if there are any cycles in the Sequential model"
      ]
    },
    {
      "cell_type": "code",
      "metadata": {
        "id": "jWYDiRrhxwT6",
        "colab_type": "code",
        "colab": {}
      },
      "source": [
        "model.compile(loss='binary_crossentropy', optimizer='adam', metrics=['accuracy'])"
      ],
      "execution_count": 0,
      "outputs": []
    },
    {
      "cell_type": "markdown",
      "metadata": {
        "id": "MlPJMFYAxwT8",
        "colab_type": "text"
      },
      "source": [
        "## Step 9: Train the model\n",
        "* We feed `XTRAIN` into the model and the model calculates errors using `YTRAIN`\n",
        "* In one epoch the model scans through the entire rows in the `XTRAIN`\n",
        "* Updating the number of epochs usually increases the accuracy of the model\n",
        "* To observe the accuracy on the `VALIDATION` data during the training, add `validation_data = (XTEST, YTEST)`"
      ]
    },
    {
      "cell_type": "code",
      "metadata": {
        "id": "dytoL_9SxwT9",
        "colab_type": "code",
        "colab": {}
      },
      "source": [
        "from keras.callbacks import EarlyStopping, ModelCheckpoint\n",
        "callback_a = ModelCheckpoint(filepath = 'my_best_model.hdf5', monitor='val_loss', save_best_only = True, save_weights_only = True, verbose = 1)\n",
        "callback_b = EarlyStopping(monitor='val_loss', mode='min', patience=20, verbose=1)"
      ],
      "execution_count": 0,
      "outputs": []
    },
    {
      "cell_type": "code",
      "metadata": {
        "id": "NVpKheFFMU_Z",
        "colab_type": "code",
        "colab": {}
      },
      "source": [
        "history = model.fit(XTRAIN, YTRAIN, validation_data=(XVALIDATION, YVALIDATION), epochs=256, batch_size=10, callbacks = [callback_a, callback_b])"
      ],
      "execution_count": 0,
      "outputs": []
    },
    {
      "cell_type": "markdown",
      "metadata": {
        "id": "fIJ0JwKNQjUs",
        "colab_type": "text"
      },
      "source": [
        "## Step 10: Check the learning curves"
      ]
    },
    {
      "cell_type": "code",
      "metadata": {
        "id": "NHHXKF0aQo6d",
        "colab_type": "code",
        "colab": {}
      },
      "source": [
        "print(history.params)"
      ],
      "execution_count": 0,
      "outputs": []
    },
    {
      "cell_type": "code",
      "metadata": {
        "id": "DJSwjhWIQZvJ",
        "colab_type": "code",
        "colab": {}
      },
      "source": [
        "plt.plot(history.history['accuracy'])\n",
        "plt.plot(history.history['val_accuracy'])\n",
        "plt.ylabel('Accuracy')\n",
        "plt.xlabel('epoch')\n",
        "plt.legend(['training data', 'validation data'], loc='lower right')\n",
        "plt.show()"
      ],
      "execution_count": 0,
      "outputs": []
    },
    {
      "cell_type": "code",
      "metadata": {
        "id": "UnS04hx2MzoK",
        "colab_type": "code",
        "colab": {}
      },
      "source": [
        "model.load_weights('my_best_model.hdf5')"
      ],
      "execution_count": 0,
      "outputs": []
    },
    {
      "cell_type": "markdown",
      "metadata": {
        "id": "FpNRAdsAxwUC",
        "colab_type": "text"
      },
      "source": [
        "## Step 11: Evaluate the model on the training data\n",
        "Yes, the same data we used to train the model"
      ]
    },
    {
      "cell_type": "code",
      "metadata": {
        "id": "iXE5jrkWxwUC",
        "colab_type": "code",
        "colab": {}
      },
      "source": [
        "scores = model.evaluate(XTRAIN, YTRAIN)\n",
        "print(model.metrics_names)\n",
        "print(scores)\n",
        "print(\"\\n%s: %.2f%%\" % (model.metrics_names[1], scores[1]*100))"
      ],
      "execution_count": 0,
      "outputs": []
    },
    {
      "cell_type": "markdown",
      "metadata": {
        "id": "bKiUus2cxwUM",
        "colab_type": "text"
      },
      "source": [
        "## Step 12: Evaluate on validation set\n",
        "* This is a real test of the model\n",
        "* We will evaluate the model on the \"Unknown\" dataset (i.e. validation dataset)"
      ]
    },
    {
      "cell_type": "code",
      "metadata": {
        "id": "4AdOsks3xwUN",
        "colab_type": "code",
        "colab": {}
      },
      "source": [
        "scores = model.evaluate(XVALIDATION, YVALIDATION)\n",
        "print(\"\\n%s: %.2f%%\" % (model.metrics_names[1], scores[1]*100))"
      ],
      "execution_count": 0,
      "outputs": []
    },
    {
      "cell_type": "markdown",
      "metadata": {
        "id": "LcvxStrUxwUS",
        "colab_type": "text"
      },
      "source": [
        "## Step 13: Check what what the model actually predicts\n",
        "* An example of what the model has predicted and comparison with the true classes"
      ]
    },
    {
      "cell_type": "code",
      "metadata": {
        "id": "_yu6sxhTxwUU",
        "colab_type": "code",
        "colab": {}
      },
      "source": [
        "print(XVALIDATION[0:5])\n",
        "print(YVALIDATION[0:5])"
      ],
      "execution_count": 0,
      "outputs": []
    },
    {
      "cell_type": "code",
      "metadata": {
        "id": "vYKKA1JfxwUk",
        "colab_type": "code",
        "colab": {}
      },
      "source": [
        "prediction = model.predict(XVALIDATION)"
      ],
      "execution_count": 0,
      "outputs": []
    },
    {
      "cell_type": "code",
      "metadata": {
        "id": "krXuEXj8xwUn",
        "colab_type": "code",
        "colab": {}
      },
      "source": [
        "print(prediction[0:10])"
      ],
      "execution_count": 0,
      "outputs": []
    },
    {
      "cell_type": "code",
      "metadata": {
        "id": "Xg7sUMwcxwUp",
        "colab_type": "code",
        "colab": {}
      },
      "source": [
        "print(prediction[0:10].round())"
      ],
      "execution_count": 0,
      "outputs": []
    },
    {
      "cell_type": "code",
      "metadata": {
        "id": "j_oeM8FpsxUZ",
        "colab_type": "code",
        "colab": {}
      },
      "source": [
        "plt.plot(YVALIDATION, prediction, '.', alpha = 0.3)\n",
        "plt.xlabel('Correct labels')\n",
        "plt.ylabel('Predicted confidence scores')\n",
        "plt.show()"
      ],
      "execution_count": 0,
      "outputs": []
    },
    {
      "cell_type": "markdown",
      "metadata": {
        "id": "rbZgrutwxwUr",
        "colab_type": "text"
      },
      "source": [
        "## Step 14: Is 'accuracy' sufficient to evaluate our model?\n",
        "* We can further evaluate the model using precision, recall, and F1-score"
      ]
    },
    {
      "cell_type": "code",
      "metadata": {
        "id": "ScjNBZNYxwUw",
        "colab_type": "code",
        "colab": {}
      },
      "source": [
        "from sklearn.metrics import accuracy_score, precision_score, recall_score, f1_score\n",
        "\n",
        "accuracy = accuracy_score(YVALIDATION, prediction.round())\n",
        "precision = precision_score(YVALIDATION, prediction.round())\n",
        "recall = recall_score(YVALIDATION, prediction.round())\n",
        "f1score = f1_score(YVALIDATION, prediction.round())\n",
        "print(\"Accuracy: %.2f%%\" % (accuracy * 100.0))\n",
        "print(\"Precision: %.2f%%\" % (precision * 100.0))\n",
        "print(\"Recall: %.2f%%\" % (recall * 100.0))\n",
        "print(\"F1-score: %.2f\" % (f1score))"
      ],
      "execution_count": 0,
      "outputs": []
    },
    {
      "cell_type": "markdown",
      "metadata": {
        "id": "qAIlkVsu8-TW",
        "colab_type": "text"
      },
      "source": [
        "## Step 15: How can the performance be improved?  \n",
        "* Increase the number of epochs to 100 or 150 \n",
        "* Add more layers into the neural networks \n",
        "* How to balance the data?\n",
        "* Increase/Decrease the number of rows in the training/validation set"
      ]
    },
    {
      "cell_type": "code",
      "metadata": {
        "id": "9qOCQMmL9axc",
        "colab_type": "code",
        "colab": {}
      },
      "source": [
        ""
      ],
      "execution_count": 0,
      "outputs": []
    }
  ]
}