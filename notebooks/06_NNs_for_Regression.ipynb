{
  "nbformat": 4,
  "nbformat_minor": 0,
  "metadata": {
    "colab": {
      "name": "DL - NNs for Regression.ipynb",
      "version": "0.3.2",
      "provenance": []
    },
    "kernelspec": {
      "display_name": "Python 3",
      "language": "python",
      "name": "python3"
    }
  },
  "cells": [
    {
      "metadata": {
        "id": "7kUj8gFFxwTZ",
        "colab_type": "text"
      },
      "cell_type": "markdown",
      "source": [
        "# (Original) Predict the Onset of Diabetes Based on Diagnostic Measures (The Pima Indians Diabetes Database)\n",
        "# (This example) Predict Age from all other features\n",
        "\n",
        "**Reference: https://www.kaggle.com/uciml/pima-indians-diabetes-database  **"
      ]
    },
    {
      "metadata": {
        "id": "2n2UFLYnyNzs",
        "colab_type": "text"
      },
      "cell_type": "markdown",
      "source": [
        "## Step 1: Verify that all requires libraries can be imported  \n",
        "**np.random.seed is for for reproducibility of results**"
      ]
    },
    {
      "metadata": {
        "id": "X2Z70wjAxwTd",
        "colab_type": "code",
        "outputId": "e4d0a840-d796-4e52-b9a2-973cc56064e8",
        "colab": {
          "base_uri": "https://localhost:8080/",
          "height": 35
        }
      },
      "cell_type": "code",
      "source": [
        "from keras.models import Sequential\n",
        "from keras.layers import Dense\n",
        "from sklearn.metrics import accuracy_score, precision_score, recall_score, f1_score\n",
        "import numpy as np\n",
        "np.random.seed(7)"
      ],
      "execution_count": 1,
      "outputs": [
        {
          "output_type": "stream",
          "text": [
            "Using TensorFlow backend.\n"
          ],
          "name": "stderr"
        }
      ]
    },
    {
      "metadata": {
        "id": "NCf94zhzxwTk",
        "colab_type": "text"
      },
      "cell_type": "markdown",
      "source": [
        "## Step 2: Load the data \n",
        "**Questions: **  \n",
        "**- How many rows and columns does the data have?**"
      ]
    },
    {
      "metadata": {
        "id": "Ekgp7YlexwTl",
        "colab_type": "code",
        "outputId": "56758001-5320-48b0-9cf6-6a0773d44137",
        "colab": {
          "base_uri": "https://localhost:8080/",
          "height": 35
        }
      },
      "cell_type": "code",
      "source": [
        "# load pima indians dataset\n",
        "dataset = np.loadtxt(\"https://raw.githubusercontent.com/jbrownlee/Datasets/master/pima-indians-diabetes.data.csv\", delimiter=\",\")\n",
        "print(dataset.shape)"
      ],
      "execution_count": 2,
      "outputs": [
        {
          "output_type": "stream",
          "text": [
            "(768, 9)\n"
          ],
          "name": "stdout"
        }
      ]
    },
    {
      "metadata": {
        "id": "qPNA5gq4zY3b",
        "colab_type": "text"
      },
      "cell_type": "markdown",
      "source": [
        "## Step 3: Preview first 5 rows and all columns  \n",
        "** dataset[0:5, :] = Rows 0 to 4 with all columns **"
      ]
    },
    {
      "metadata": {
        "id": "-hmmLLaofpU_",
        "colab_type": "code",
        "colab": {}
      },
      "cell_type": "code",
      "source": [
        "np.set_printoptions(formatter={'float': lambda x: \"{0:0.2f}\".format(x)})"
      ],
      "execution_count": 0,
      "outputs": []
    },
    {
      "metadata": {
        "id": "u1SHBcPAzdPA",
        "colab_type": "code",
        "outputId": "09008f76-a876-49ef-fc2b-ce2143c14af3",
        "colab": {
          "base_uri": "https://localhost:8080/",
          "height": 104
        }
      },
      "cell_type": "code",
      "source": [
        "print(dataset[0:5, :])"
      ],
      "execution_count": 4,
      "outputs": [
        {
          "output_type": "stream",
          "text": [
            "[[6.00 148.00 72.00 35.00 0.00 33.60 0.63 50.00 1.00]\n",
            " [1.00 85.00 66.00 29.00 0.00 26.60 0.35 31.00 0.00]\n",
            " [8.00 183.00 64.00 0.00 0.00 23.30 0.67 32.00 1.00]\n",
            " [1.00 89.00 66.00 23.00 94.00 28.10 0.17 21.00 0.00]\n",
            " [0.00 137.00 40.00 35.00 168.00 43.10 2.29 33.00 1.00]]\n"
          ],
          "name": "stdout"
        }
      ]
    },
    {
      "metadata": {
        "id": "0Tawem2fxwTo",
        "colab_type": "text"
      },
      "cell_type": "markdown",
      "source": [
        "## Step 4: Split the data (768 rows) into Training Set (first 700 rows) and Validation Set (remaining 68 rows)  \n",
        "**- The first 8 columns (0 to 7) are our features used as input to the model**  \n",
        "**- The last column (8) is the true label (diabetes or not) or the ground truth**    \n",
        "#### Questions:\n",
        "**- What is our input and output? **   \n",
        "**- Why \"0:8\" in X and \"8\" in Y?   **\n"
      ]
    },
    {
      "metadata": {
        "id": "ei1fSHBJxwTp",
        "colab_type": "code",
        "colab": {}
      },
      "cell_type": "code",
      "source": [
        "XTRAIN = dataset[:700,[0,1,2,3,4,5,6,8]]\n",
        "YTRAIN = dataset[:700,7]\n",
        "XVALIDATION = dataset[700:,[0,1,2,3,4,5,6,8]]\n",
        "YVALIDATION = dataset[700:,7]"
      ],
      "execution_count": 0,
      "outputs": []
    },
    {
      "metadata": {
        "id": "_1TpDX4H4c43",
        "colab_type": "text"
      },
      "cell_type": "markdown",
      "source": [
        "## Step 5: Review the dimensions (and values) of our Training Dataset and Validation Dataset\n",
        "**Also preview some of the \"input features\" and \"correct labels\" for the datasets**"
      ]
    },
    {
      "metadata": {
        "id": "Ktv3rFpVxwTs",
        "colab_type": "code",
        "outputId": "9e7d8af7-5ede-40b9-d544-c630184f8c24",
        "colab": {
          "base_uri": "https://localhost:8080/",
          "height": 225
        }
      },
      "cell_type": "code",
      "source": [
        "print(XTRAIN.shape)\n",
        "print(YTRAIN.shape)\n",
        "print(XVALIDATION.shape)\n",
        "print(YVALIDATION.shape)\n",
        "print(XTRAIN[0:3,])\n",
        "print(YTRAIN[0:3])\n",
        "print(XVALIDATION[0:3,])\n",
        "print(YVALIDATION[0:3])"
      ],
      "execution_count": 6,
      "outputs": [
        {
          "output_type": "stream",
          "text": [
            "(700, 8)\n",
            "(700,)\n",
            "(68, 8)\n",
            "(68,)\n",
            "[[6.00 148.00 72.00 35.00 0.00 33.60 0.63 1.00]\n",
            " [1.00 85.00 66.00 29.00 0.00 26.60 0.35 0.00]\n",
            " [8.00 183.00 64.00 0.00 0.00 23.30 0.67 1.00]]\n",
            "[50.00 31.00 32.00]\n",
            "[[2.00 122.00 76.00 27.00 200.00 35.90 0.48 0.00]\n",
            " [6.00 125.00 78.00 31.00 0.00 27.60 0.56 1.00]\n",
            " [1.00 168.00 88.00 29.00 0.00 35.00 0.91 1.00]]\n",
            "[26.00 49.00 52.00]\n"
          ],
          "name": "stdout"
        }
      ]
    },
    {
      "metadata": {
        "id": "-3DxGlB2xwTv",
        "colab_type": "text"
      },
      "cell_type": "markdown",
      "source": [
        "## Step 6: Create a neural network model with 12 neurons in layer 1, 8 neurons in layer 2, and 1 neuron as the last layer\n",
        "**Questions:**  \n",
        "**- Why is input_dim = 8? It can also be replaced with X[0, :]**\n"
      ]
    },
    {
      "metadata": {
        "id": "FhRrPhElxwTw",
        "colab_type": "code",
        "outputId": "f4580841-4c0d-40d9-e427-2ebac752706a",
        "colab": {
          "base_uri": "https://localhost:8080/",
          "height": 260
        }
      },
      "cell_type": "code",
      "source": [
        "model = Sequential()\n",
        "model.add(Dense(12, input_dim=8, activation='sigmoid'))\n",
        "model.add(Dense(8, activation='sigmoid'))\n",
        "model.add(Dense(1, activation='linear'))\n",
        "print(model.summary())"
      ],
      "execution_count": 7,
      "outputs": [
        {
          "output_type": "stream",
          "text": [
            "_________________________________________________________________\n",
            "Layer (type)                 Output Shape              Param #   \n",
            "=================================================================\n",
            "dense_1 (Dense)              (None, 12)                108       \n",
            "_________________________________________________________________\n",
            "dense_2 (Dense)              (None, 8)                 104       \n",
            "_________________________________________________________________\n",
            "dense_3 (Dense)              (None, 1)                 9         \n",
            "=================================================================\n",
            "Total params: 221\n",
            "Trainable params: 221\n",
            "Non-trainable params: 0\n",
            "_________________________________________________________________\n",
            "None\n"
          ],
          "name": "stdout"
        }
      ]
    },
    {
      "metadata": {
        "id": "OJhrMV9xxwT4",
        "colab_type": "text"
      },
      "cell_type": "markdown",
      "source": [
        "## Step 6: Check for proper neural connections by compiling the model"
      ]
    },
    {
      "metadata": {
        "id": "jWYDiRrhxwT6",
        "colab_type": "code",
        "colab": {}
      },
      "cell_type": "code",
      "source": [
        "model.compile(loss='mse', optimizer='adam', metrics=['mse']) # mse = mean squared error"
      ],
      "execution_count": 0,
      "outputs": []
    },
    {
      "metadata": {
        "id": "MlPJMFYAxwT8",
        "colab_type": "text"
      },
      "cell_type": "markdown",
      "source": [
        "## Step 7: Do the Training (i.e. Fit the model)\n",
        "**- We feed XTRAIN into the model and the model calculates errors using YTRAIN**  \n",
        "**- In one epoch the model scans through the entire rows in the XTRAIN**  \n",
        "**- Updating the number of epochs usually increases the accuracy of the model**  \n",
        "**- To observe the accuracy on the VALIDATION data during the training, add \", validation_data = (XTEST, YTEST)\" ** "
      ]
    },
    {
      "metadata": {
        "id": "dytoL_9SxwT9",
        "colab_type": "code",
        "outputId": "5a8b8d8f-bc07-4151-e132-4df8483224f5",
        "colab": {
          "base_uri": "https://localhost:8080/",
          "height": 381
        }
      },
      "cell_type": "code",
      "source": [
        "model.fit(XTRAIN, YTRAIN, epochs=10, batch_size=10)"
      ],
      "execution_count": 9,
      "outputs": [
        {
          "output_type": "stream",
          "text": [
            "Epoch 1/10\n",
            "700/700 [==============================] - 0s 320us/step - loss: 1249.9626 - mean_squared_error: 1249.9626\n",
            "Epoch 2/10\n",
            "700/700 [==============================] - 0s 100us/step - loss: 1205.4748 - mean_squared_error: 1205.4748\n",
            "Epoch 3/10\n",
            "700/700 [==============================] - 0s 108us/step - loss: 1167.0316 - mean_squared_error: 1167.0316\n",
            "Epoch 4/10\n",
            "700/700 [==============================] - 0s 114us/step - loss: 1133.7153 - mean_squared_error: 1133.7153\n",
            "Epoch 5/10\n",
            "700/700 [==============================] - 0s 100us/step - loss: 1103.9833 - mean_squared_error: 1103.9833\n",
            "Epoch 6/10\n",
            "700/700 [==============================] - 0s 106us/step - loss: 1073.1331 - mean_squared_error: 1073.1331\n",
            "Epoch 7/10\n",
            "700/700 [==============================] - 0s 107us/step - loss: 1041.6092 - mean_squared_error: 1041.6092\n",
            "Epoch 8/10\n",
            "700/700 [==============================] - 0s 102us/step - loss: 1013.0478 - mean_squared_error: 1013.0478\n",
            "Epoch 9/10\n",
            "700/700 [==============================] - 0s 98us/step - loss: 987.2681 - mean_squared_error: 987.2681\n",
            "Epoch 10/10\n",
            "700/700 [==============================] - 0s 102us/step - loss: 963.3540 - mean_squared_error: 963.3540\n"
          ],
          "name": "stdout"
        },
        {
          "output_type": "execute_result",
          "data": {
            "text/plain": [
              "<keras.callbacks.History at 0x7f4fddeb7710>"
            ]
          },
          "metadata": {
            "tags": []
          },
          "execution_count": 9
        }
      ]
    },
    {
      "metadata": {
        "id": "FpNRAdsAxwUC",
        "colab_type": "text"
      },
      "cell_type": "markdown",
      "source": [
        "## Step 8: Evaluate the model on the Training data (the same data we used to train the model)"
      ]
    },
    {
      "metadata": {
        "id": "iXE5jrkWxwUC",
        "colab_type": "code",
        "outputId": "d840e3a9-104e-4734-b28d-9e99f20bfdf7",
        "colab": {
          "base_uri": "https://localhost:8080/",
          "height": 104
        }
      },
      "cell_type": "code",
      "source": [
        "scores = model.evaluate(XTRAIN, YTRAIN)\n",
        "print(model.metrics_names)\n",
        "print(scores)\n",
        "print(\"\\n%s: %.2f\" % (model.metrics_names[1], scores[1]))"
      ],
      "execution_count": 10,
      "outputs": [
        {
          "output_type": "stream",
          "text": [
            "700/700 [==============================] - 0s 49us/step\n",
            "['loss', 'mean_squared_error']\n",
            "[951.827782156808, 951.827782156808]\n",
            "\n",
            "mean_squared_error: 951.83\n"
          ],
          "name": "stdout"
        }
      ]
    },
    {
      "metadata": {
        "id": "bKiUus2cxwUM",
        "colab_type": "text"
      },
      "cell_type": "markdown",
      "source": [
        "## Step 9: The real test of the model we trained\n",
        "** We will evaluate the model on the \"Unknown\" dataset (i.e. validation dataset) **"
      ]
    },
    {
      "metadata": {
        "id": "4AdOsks3xwUN",
        "colab_type": "code",
        "outputId": "f7c85db2-e611-47ae-bc9e-0b4a3875bcb5",
        "colab": {
          "base_uri": "https://localhost:8080/",
          "height": 69
        }
      },
      "cell_type": "code",
      "source": [
        "scores = model.evaluate(XVALIDATION, YVALIDATION)\n",
        "print(\"\\n%s: %.2f\" % (model.metrics_names[1], scores[1]))"
      ],
      "execution_count": 11,
      "outputs": [
        {
          "output_type": "stream",
          "text": [
            "68/68 [==============================] - 0s 64us/step\n",
            "\n",
            "mean_squared_error: 1020.77\n"
          ],
          "name": "stdout"
        }
      ]
    },
    {
      "metadata": {
        "id": "LcvxStrUxwUS",
        "colab_type": "text"
      },
      "cell_type": "markdown",
      "source": [
        "## Step 10: Look into what the model actually predicted\n",
        "** An example of what the model has predicted and comparison with the true classes **"
      ]
    },
    {
      "metadata": {
        "id": "_yu6sxhTxwUU",
        "colab_type": "code",
        "outputId": "ac073033-01c8-4a74-fae0-5ee176afa80a",
        "colab": {
          "base_uri": "https://localhost:8080/",
          "height": 139
        }
      },
      "cell_type": "code",
      "source": [
        "print(XVALIDATION[0:5])\n",
        "print ('')\n",
        "print(YVALIDATION[0:5])"
      ],
      "execution_count": 12,
      "outputs": [
        {
          "output_type": "stream",
          "text": [
            "[[2.00 122.00 76.00 27.00 200.00 35.90 0.48 0.00]\n",
            " [6.00 125.00 78.00 31.00 0.00 27.60 0.56 1.00]\n",
            " [1.00 168.00 88.00 29.00 0.00 35.00 0.91 1.00]\n",
            " [2.00 129.00 0.00 0.00 0.00 38.50 0.30 0.00]\n",
            " [4.00 110.00 76.00 20.00 100.00 28.40 0.12 0.00]]\n",
            "\n",
            "[26.00 49.00 52.00 41.00 27.00]\n"
          ],
          "name": "stdout"
        }
      ]
    },
    {
      "metadata": {
        "id": "vYKKA1JfxwUk",
        "colab_type": "code",
        "colab": {}
      },
      "cell_type": "code",
      "source": [
        "prediction = model.predict(XVALIDATION)"
      ],
      "execution_count": 0,
      "outputs": []
    },
    {
      "metadata": {
        "id": "krXuEXj8xwUn",
        "colab_type": "code",
        "outputId": "33c0892a-1ef4-4219-95a8-b8973bd2b880",
        "colab": {
          "base_uri": "https://localhost:8080/",
          "height": 104
        }
      },
      "cell_type": "code",
      "source": [
        "print(prediction[0:5])"
      ],
      "execution_count": 14,
      "outputs": [
        {
          "output_type": "stream",
          "text": [
            "[[4.60]\n",
            " [4.61]\n",
            " [4.61]\n",
            " [4.58]\n",
            " [4.60]]\n"
          ],
          "name": "stdout"
        }
      ]
    },
    {
      "metadata": {
        "id": "qAIlkVsu8-TW",
        "colab_type": "text"
      },
      "cell_type": "markdown",
      "source": [
        "## Step 12: How can the model's performance be improved?  \n",
        "** - Increase the number of epochs to 100 or 150 **  \n",
        "** - Add more layers into the neural networks **  \n",
        "** - Increase/Decrease the number of rows in the training/validation set **"
      ]
    },
    {
      "metadata": {
        "id": "9qOCQMmL9axc",
        "colab_type": "code",
        "colab": {}
      },
      "cell_type": "code",
      "source": [
        ""
      ],
      "execution_count": 0,
      "outputs": []
    }
  ]
}