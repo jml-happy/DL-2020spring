{
  "nbformat": 4,
  "nbformat_minor": 0,
  "metadata": {
    "colab": {
      "name": "DL Digit Image Classification MNIST.ipynb",
      "version": "0.3.2",
      "provenance": []
    },
    "kernelspec": {
      "display_name": "Python 3",
      "language": "python",
      "name": "python3"
    }
  },
  "cells": [
    {
      "metadata": {
        "id": "ehzTqE4tDOkI",
        "colab_type": "text"
      },
      "cell_type": "markdown",
      "source": [
        "# Digits Image (MNIST Dataset) Classification using CNNs  \n",
        "**Classify the images of digits (0, 1, 2, etc.) correctly using Convolutional Neural Networks**  \n",
        "**Reference: https://www.kaggle.com/c/digit-recognizer/kernels**"
      ]
    },
    {
      "metadata": {
        "id": "v5J5g7zpCLdF",
        "colab_type": "text"
      },
      "cell_type": "markdown",
      "source": [
        "## Step 1: Verify that all requires libraries can be imported"
      ]
    },
    {
      "metadata": {
        "id": "TTn-dOAKCLdH",
        "colab_type": "code",
        "colab": {
          "base_uri": "https://localhost:8080/",
          "height": 35
        },
        "outputId": "d6e740fb-7fb7-4563-9a0b-25a13be58d29"
      },
      "cell_type": "code",
      "source": [
        "from keras.datasets import mnist\n",
        "from keras.utils import to_categorical\n",
        "from keras import layers, models\n",
        "import matplotlib.pyplot as plt"
      ],
      "execution_count": 1,
      "outputs": [
        {
          "output_type": "stream",
          "text": [
            "Using TensorFlow backend.\n"
          ],
          "name": "stderr"
        }
      ]
    },
    {
      "metadata": {
        "id": "scuh8OJnCLdN",
        "colab_type": "text"
      },
      "cell_type": "markdown",
      "source": [
        "## Step 2: Load MNIST dataset from the Internet  \n",
        "**The path for MNIST dataset is already in the Keras datasets library**  \n",
        "**The mnist.load_data() module automatically returns the four sets of data we need** "
      ]
    },
    {
      "metadata": {
        "id": "mixrJeYxCLdN",
        "colab_type": "code",
        "colab": {}
      },
      "cell_type": "code",
      "source": [
        "( train_images, train_labels ), ( validation_images, validation_labels ) = mnist.load_data()"
      ],
      "execution_count": 0,
      "outputs": []
    },
    {
      "metadata": {
        "id": "Fiay5uU0EhDl",
        "colab_type": "text"
      },
      "cell_type": "markdown",
      "source": [
        "## Step 3: Check how many images are in the Training set and Validation set\n",
        "** What is the dimension of each image?**"
      ]
    },
    {
      "metadata": {
        "id": "CbiupfMXEiiK",
        "colab_type": "code",
        "colab": {
          "base_uri": "https://localhost:8080/",
          "height": 121
        },
        "outputId": "45689f22-c565-4b7a-c434-92a495269e78"
      },
      "cell_type": "code",
      "source": [
        "print(\"Training dataset:\")\n",
        "print(train_images.shape)\n",
        "print(train_labels.shape)\n",
        "print('Validation dataset:')\n",
        "print(validation_images.shape)\n",
        "print(validation_labels.shape)"
      ],
      "execution_count": 3,
      "outputs": [
        {
          "output_type": "stream",
          "text": [
            "Training dataset:\n",
            "(60000, 28, 28)\n",
            "(60000,)\n",
            "Validation dataset:\n",
            "(10000, 28, 28)\n",
            "(10000,)\n"
          ],
          "name": "stdout"
        }
      ]
    },
    {
      "metadata": {
        "id": "n5Q0TUrGCLdS",
        "colab_type": "text"
      },
      "cell_type": "markdown",
      "source": [
        "## Step 4: Visualize a random image (for example, 0th image) in the train dataset"
      ]
    },
    {
      "metadata": {
        "id": "c7B300HnCLdS",
        "colab_type": "code",
        "colab": {
          "base_uri": "https://localhost:8080/",
          "height": 355
        },
        "outputId": "19c378c1-fafe-4818-edcb-efa22de06032"
      },
      "cell_type": "code",
      "source": [
        "plt.matshow( train_images[0], cmap = 'gray')\n",
        "plt.show()"
      ],
      "execution_count": 4,
      "outputs": [
        {
          "output_type": "display_data",
          "data": {
            "image/png": "[encoded data removed]",
            "text/plain": [
              "<Figure size 396x396 with 1 Axes>"
            ]
          },
          "metadata": {
            "tags": []
          }
        }
      ]
    },
    {
      "metadata": {
        "id": "lsFvaPqsFq5u",
        "colab_type": "text"
      },
      "cell_type": "markdown",
      "source": [
        "## Step 5: Verify that the \"true\" label is correct"
      ]
    },
    {
      "metadata": {
        "id": "6nIxGD7cCLdX",
        "colab_type": "code",
        "colab": {
          "base_uri": "https://localhost:8080/",
          "height": 35
        },
        "outputId": "1478708f-7fd6-404a-9193-2544442d8eb3"
      },
      "cell_type": "code",
      "source": [
        "print(train_labels[0])"
      ],
      "execution_count": 5,
      "outputs": [
        {
          "output_type": "stream",
          "text": [
            "5\n"
          ],
          "name": "stdout"
        }
      ]
    },
    {
      "metadata": {
        "id": "MtSwoHaQCLdb",
        "colab_type": "text"
      },
      "cell_type": "markdown",
      "source": [
        "## Step 6: Reformat the datasets so that we can feed the data to the model we will build  \n",
        "** A 2D CNN model will accept a 4D input data - \\[number of data, height, width, depth of image]**  \n",
        "** So, we will reshape each image of dimension \\[28, 28] to \\[28, 28, 1]**   \n",
        "** Also, the image intensities can be anywhere from 0 to 255 - we want these numbers to be between 0 and 1 **"
      ]
    },
    {
      "metadata": {
        "id": "13ZyN_wxCLdc",
        "colab_type": "code",
        "colab": {}
      },
      "cell_type": "code",
      "source": [
        "train_images = train_images.reshape( ( 60000, 28, 28, 1 ) )\n",
        "train_images = train_images.astype( 'float32' ) / 255\n",
        "validation_images = validation_images.reshape( ( 10000, 28, 28, 1 ) )\n",
        "validation_images = validation_images.astype( 'float32' ) / 255"
      ],
      "execution_count": 0,
      "outputs": []
    },
    {
      "metadata": {
        "id": "32qh5r4HGoT9",
        "colab_type": "text"
      },
      "cell_type": "markdown",
      "source": [
        "## Step 7: Our network will have 10 output nodes, we need to convert our labels accordingly\n",
        "** Don't you rerun this more than once**   \n",
        "** Verify that the shape of train_labels is (60000, 10) **  "
      ]
    },
    {
      "metadata": {
        "id": "bvDeN5B1G3WF",
        "colab_type": "code",
        "colab": {
          "base_uri": "https://localhost:8080/",
          "height": 121
        },
        "outputId": "354eff29-546c-475c-dcc2-5aabb5821cff"
      },
      "cell_type": "code",
      "source": [
        "print(\"Before:\")\n",
        "print( train_labels.shape )\n",
        "print( train_labels[0] )\n",
        "train_labels = to_categorical( train_labels )\n",
        "validation_labels = to_categorical( validation_labels )\n",
        "print(\"After:\")\n",
        "print( train_labels.shape )\n",
        "print( train_labels[0] )"
      ],
      "execution_count": 7,
      "outputs": [
        {
          "output_type": "stream",
          "text": [
            "Before:\n",
            "(60000,)\n",
            "5\n",
            "After:\n",
            "(60000, 10)\n",
            "[0. 0. 0. 0. 0. 1. 0. 0. 0. 0.]\n"
          ],
          "name": "stdout"
        }
      ]
    },
    {
      "metadata": {
        "id": "OHUZowOTCLdg",
        "colab_type": "text"
      },
      "cell_type": "markdown",
      "source": [
        "## Step 8: Create a neural network with following architecture:  \n",
        "**- The first layer has 16 filters (kernels), each of size 3x3**  \n",
        "**- The third layer has 4 filters (kernels), each of size 3x3**  \n",
        "**- The last layer is a set of 10 neurons - one for each of the 10 digit labels**  \n",
        "\n",
        "#### Notes:\n",
        "**- You could use just the Dense layers to achieve digit identification - CNNs usually deliver better accuracy**  \n",
        "**- Conv2D is the convolutional layer - Conv2D( filters, (filter_height, filter_width), (activation), (input_shape) )**  \n",
        "**- The filter will move through the image pixel by pixel (or \"convolves\") around the image picking up values - output of: 26 x 26**  \n",
        "**- The last layer - 10 neurons for digits between 0 and 9 - Each neuron will contain values be between 0 - 1 and all of the values will sum to 1**  \n",
        "**- We have a probability for a digit prediction - the highest probability will be the model's prediction for the digit**  "
      ]
    },
    {
      "metadata": {
        "id": "ixyuwzFYCLdh",
        "colab_type": "code",
        "colab": {
          "base_uri": "https://localhost:8080/",
          "height": 277
        },
        "outputId": "d0639309-90c9-467e-8526-9cc068833dbe"
      },
      "cell_type": "code",
      "source": [
        "model = models.Sequential()\n",
        "model.add( layers.Conv2D( 16, ( 3, 3 ), activation = 'sigmoid', input_shape = train_images[0, :, :, :].shape ) )\n",
        "model.add( layers.Conv2D( 4, ( 3, 3 ), activation = 'sigmoid' ) )\n",
        "model.add( layers.Flatten() )\n",
        "model.add( layers.Dense( 10, activation = 'softmax' ) )\n",
        "model.summary()"
      ],
      "execution_count": 8,
      "outputs": [
        {
          "output_type": "stream",
          "text": [
            "_________________________________________________________________\n",
            "Layer (type)                 Output Shape              Param #   \n",
            "=================================================================\n",
            "conv2d_1 (Conv2D)            (None, 26, 26, 16)        160       \n",
            "_________________________________________________________________\n",
            "conv2d_2 (Conv2D)            (None, 24, 24, 4)         580       \n",
            "_________________________________________________________________\n",
            "flatten_1 (Flatten)          (None, 2304)              0         \n",
            "_________________________________________________________________\n",
            "dense_1 (Dense)              (None, 10)                23050     \n",
            "=================================================================\n",
            "Total params: 23,790\n",
            "Trainable params: 23,790\n",
            "Non-trainable params: 0\n",
            "_________________________________________________________________\n"
          ],
          "name": "stdout"
        }
      ]
    },
    {
      "metadata": {
        "id": "mj9I8_OzCLdm",
        "colab_type": "text"
      },
      "cell_type": "markdown",
      "source": [
        "## Step 9: Compile the model and Do the training"
      ]
    },
    {
      "metadata": {
        "id": "F3sh0E3OCLdn",
        "colab_type": "code",
        "colab": {
          "base_uri": "https://localhost:8080/",
          "height": 69
        },
        "outputId": "045aeeb2-7283-4205-d1dc-594d794449f9"
      },
      "cell_type": "code",
      "source": [
        "model.compile( optimizer = 'rmsprop', loss = 'categorical_crossentropy', metrics = [ 'accuracy' ] )\n",
        "model.fit( train_images, train_labels, epochs = 1, batch_size = 256 )"
      ],
      "execution_count": 9,
      "outputs": [
        {
          "output_type": "stream",
          "text": [
            "Epoch 1/1\n",
            "60000/60000 [==============================] - 41s 686us/step - loss: 1.6491 - acc: 0.4396\n"
          ],
          "name": "stdout"
        },
        {
          "output_type": "execute_result",
          "data": {
            "text/plain": [
              "<keras.callbacks.History at 0x7f642282c4e0>"
            ]
          },
          "metadata": {
            "tags": []
          },
          "execution_count": 9
        }
      ]
    },
    {
      "metadata": {
        "id": "Cng1uxfwMIco",
        "colab_type": "text"
      },
      "cell_type": "markdown",
      "source": [
        "## Step 10: Evaluate the model on the test validation set"
      ]
    },
    {
      "metadata": {
        "id": "jPqgW345CLdt",
        "colab_type": "code",
        "colab": {
          "base_uri": "https://localhost:8080/",
          "height": 52
        },
        "outputId": "1d0a7657-cbdb-49ce-d963-e2d824bf9802"
      },
      "cell_type": "code",
      "source": [
        "validation_loss, validation_acc = model.evaluate( validation_images, validation_labels )\n",
        "print( 'validation_acc:', validation_acc )"
      ],
      "execution_count": 10,
      "outputs": [
        {
          "output_type": "stream",
          "text": [
            "10000/10000 [==============================] - 3s 307us/step\n",
            "validation_acc: 0.7906\n"
          ],
          "name": "stdout"
        }
      ]
    },
    {
      "metadata": {
        "id": "3bwpB6B_CLdv",
        "colab_type": "text"
      },
      "cell_type": "markdown",
      "source": [
        "## Step 11: Look into what the model actually predicted\n",
        "** An example of what the model has predicted and comparison with the true classes**\n"
      ]
    },
    {
      "metadata": {
        "id": "yUiGV9R4CLdx",
        "colab_type": "code",
        "colab": {
          "base_uri": "https://localhost:8080/",
          "height": 373
        },
        "outputId": "fcb051b0-84a3-4f9a-8e31-598ce494fd51"
      },
      "cell_type": "code",
      "source": [
        "plt.matshow( validation_images[0, :, :, 0], cmap = 'gray' )\n",
        "plt.show()\n",
        "print( validation_labels[0] )"
      ],
      "execution_count": 11,
      "outputs": [
        {
          "output_type": "display_data",
          "data": {
            "image/png": "[encoded data removed]",
            "text/plain": [
              "<Figure size 396x396 with 1 Axes>"
            ]
          },
          "metadata": {
            "tags": []
          }
        },
        {
          "output_type": "stream",
          "text": [
            "[0. 0. 0. 0. 0. 0. 0. 1. 0. 0.]\n"
          ],
          "name": "stdout"
        }
      ]
    },
    {
      "metadata": {
        "id": "fwrAOqP9CLdz",
        "colab_type": "text"
      },
      "cell_type": "markdown",
      "source": [
        "** Visualizing the predictions predictions on the unseen data - this is going to show us how the model is predicting the images**  \n",
        "**  The output is an array of values where each value is associated to a digit**"
      ]
    },
    {
      "metadata": {
        "id": "88ZhvGptCLd0",
        "colab_type": "code",
        "colab": {
          "base_uri": "https://localhost:8080/",
          "height": 52
        },
        "outputId": "4d559983-bcd4-44b4-a48b-e98131a96f65"
      },
      "cell_type": "code",
      "source": [
        "import numpy as np\n",
        "np.set_printoptions(formatter={'float': lambda x: \"{0:0.7f}\".format(x)})\n",
        "\n",
        "predictions = model.predict( validation_images )\n",
        "print( predictions[0] )"
      ],
      "execution_count": 18,
      "outputs": [
        {
          "output_type": "stream",
          "text": [
            "[0.0000092 0.0000096 0.0000216 0.0002000 0.0003006 0.0003302 0.0000044\n",
            " 0.9986088 0.0000202 0.0004954]\n"
          ],
          "name": "stdout"
        }
      ]
    },
    {
      "metadata": {
        "id": "EO3b5Kn5CLd4",
        "colab_type": "text"
      },
      "cell_type": "markdown",
      "source": [
        "** After rounding we can see the output of the prediction**  "
      ]
    },
    {
      "metadata": {
        "id": "lyTTJas1CLd4",
        "colab_type": "code",
        "colab": {
          "base_uri": "https://localhost:8080/",
          "height": 35
        },
        "outputId": "c5af0e9c-c58c-497b-b799-d843f4be79fc"
      },
      "cell_type": "code",
      "source": [
        "print( predictions[0].round() )"
      ],
      "execution_count": 13,
      "outputs": [
        {
          "output_type": "stream",
          "text": [
            "[0. 0. 0. 0. 0. 0. 0. 1. 0. 0.]\n"
          ],
          "name": "stdout"
        }
      ]
    },
    {
      "metadata": {
        "id": "_PbETHIHCLd8",
        "colab_type": "text"
      },
      "cell_type": "markdown",
      "source": [
        "## Step 12: How can the model's performance be improved?\n",
        "- Use GPU for training\n",
        "- Increase the number of epochs\n",
        "- Increase the number of filters in the first layer, and subsequent layers\n",
        "- Add more layers into the neural networks \n",
        "- Increase the number of Conv2D layers (i.e. add extra layers)\n",
        "- What is the baseline accuracy (i.e. accuracy of a random model)?"
      ]
    },
    {
      "metadata": {
        "id": "Aiew4WBlCLd9",
        "colab_type": "code",
        "colab": {}
      },
      "cell_type": "code",
      "source": [
        ""
      ],
      "execution_count": 0,
      "outputs": []
    }
  ]
}