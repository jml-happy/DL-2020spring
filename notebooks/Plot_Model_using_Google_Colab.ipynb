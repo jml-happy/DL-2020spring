{
  "nbformat": 4,
  "nbformat_minor": 0,
  "metadata": {
    "colab": {
      "name": "Plot Model using Google Colab",
      "version": "0.3.2",
      "provenance": [],
      "collapsed_sections": [],
      "include_colab_link": true
    },
    "kernelspec": {
      "name": "python3",
      "display_name": "Python 3"
    },
    "accelerator": "GPU"
  },
  "cells": [
    {
      "cell_type": "markdown",
      "metadata": {
        "id": "view-in-github",
        "colab_type": "text"
      },
      "source": [
        "<a href=\"https://colab.research.google.com/github/badriadhikari/2019-Spring-DL/blob/master/supplementary/Plot_Model_using_Google_Colab.ipynb\" target=\"_parent\"><img src=\"https://colab.research.google.com/assets/colab-badge.svg\" alt=\"Open In Colab\"/></a>"
      ]
    },
    {
      "metadata": {
        "id": "jxnaRibE7CDJ",
        "colab_type": "code",
        "outputId": "a7a576a6-9d0a-4fd4-c418-b5ea1e4331c2",
        "colab": {
          "base_uri": "https://localhost:8080/",
          "height": 364
        }
      },
      "cell_type": "code",
      "source": [
        "import keras\n",
        "from keras import layers\n",
        "from keras.models import Sequential\n",
        "from keras.layers import Activation, Flatten, Input\n",
        "from keras.models import Model\n",
        "from keras.layers import Convolution2D\n",
        "from keras.layers.normalization import BatchNormalization\n",
        "import pydot\n",
        "from keras.utils import plot_model\n",
        "\n",
        "def build_model(xydim, n_channels):\n",
        "    input_shape = Input(shape = (xydim, xydim, n_channels))\n",
        "    tower = BatchNormalization()(input_shape)\n",
        "    tower = Activation('relu')(tower)\n",
        "    tower = Convolution2D(1, 3, padding = 'same')(tower)\n",
        "    tower = Activation('sigmoid')(tower)\n",
        "    tower = Flatten()(tower)\n",
        "    model = Model(input_shape, tower)\n",
        "    return model\n",
        "\n",
        "model = build_model(28, 3)\n",
        "\n",
        "model.compile(loss = 'binary_crossentropy', optimizer = 'adam', metrics = ['accuracy'])\n",
        "\n",
        "print (model.summary())\n",
        "\n",
        "# Option 1: With layer names\n",
        "plot_model(model, show_shapes=True, show_layer_names=True, to_file = 'mymodel-layers.png')\n",
        "from google.colab import files\n",
        "files.download('mymodel-layers.png')\n",
        "\n",
        "# Option 2: Without layer names\n",
        "plot_model(model, show_shapes=True, show_layer_names=False, to_file = 'mymodel.png')\n",
        "from google.colab import files\n",
        "files.download('mymodel.png')\n",
        "\n",
        "# Option 3: Without shapes\n",
        "plot_model(model, show_shapes=False, show_layer_names=False, to_file = 'mymodel-noshapes.png')\n",
        "from google.colab import files\n",
        "files.download('mymodel-noshapes.png')"
      ],
      "execution_count": 5,
      "outputs": [
        {
          "output_type": "stream",
          "text": [
            "_________________________________________________________________\n",
            "Layer (type)                 Output Shape              Param #   \n",
            "=================================================================\n",
            "input_5 (InputLayer)         (None, 28, 28, 3)         0         \n",
            "_________________________________________________________________\n",
            "batch_normalization_5 (Batch (None, 28, 28, 3)         12        \n",
            "_________________________________________________________________\n",
            "activation_9 (Activation)    (None, 28, 28, 3)         0         \n",
            "_________________________________________________________________\n",
            "conv2d_5 (Conv2D)            (None, 28, 28, 1)         28        \n",
            "_________________________________________________________________\n",
            "activation_10 (Activation)   (None, 28, 28, 1)         0         \n",
            "_________________________________________________________________\n",
            "flatten_5 (Flatten)          (None, 784)               0         \n",
            "=================================================================\n",
            "Total params: 40\n",
            "Trainable params: 34\n",
            "Non-trainable params: 6\n",
            "_________________________________________________________________\n",
            "None\n"
          ],
          "name": "stdout"
        }
      ]
    }
  ]
}