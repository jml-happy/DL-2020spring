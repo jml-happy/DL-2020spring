{
  "nbformat": 4,
  "nbformat_minor": 0,
  "metadata": {
    "colab": {
      "name": "Image_preprocessing.ipynb",
      "provenance": [],
      "collapsed_sections": [],
      "authorship_tag": "ABX9TyO5fNxPyLPFjBE+ZL32nHUm"
    },
    "kernelspec": {
      "name": "python3",
      "display_name": "Python 3"
    }
  },
  "cells": [
    {
      "cell_type": "markdown",
      "metadata": {
        "id": "IoAtf-XmC48v",
        "colab_type": "text"
      },
      "source": [
        "#Get the `cats-dogs.tar.gz` dataset"
      ]
    },
    {
      "cell_type": "code",
      "metadata": {
        "id": "x1-dlUS6g-Vy",
        "colab_type": "code",
        "colab": {}
      },
      "source": [
        "! wget -O cats-dogs.tar.gz https://github.com/badriadhikari/DL-2020spring/blob/master/data/cats-dogs.tar.gz?raw=true"
      ],
      "execution_count": 0,
      "outputs": []
    },
    {
      "cell_type": "code",
      "metadata": {
        "id": "ig-DOlZrnRI2",
        "colab_type": "code",
        "colab": {}
      },
      "source": [
        "! ls -hl"
      ],
      "execution_count": 0,
      "outputs": []
    },
    {
      "cell_type": "code",
      "metadata": {
        "id": "rjDIZVovln2L",
        "colab_type": "code",
        "colab": {}
      },
      "source": [
        "! tar zxvf cats-dogs.tar.gz"
      ],
      "execution_count": 0,
      "outputs": []
    },
    {
      "cell_type": "code",
      "metadata": {
        "id": "QwUzSCE38ZSR",
        "colab_type": "code",
        "colab": {}
      },
      "source": [
        "! rm cats-dogs/*/._*"
      ],
      "execution_count": 0,
      "outputs": []
    },
    {
      "cell_type": "code",
      "metadata": {
        "id": "0YaEtVaehK4W",
        "colab_type": "code",
        "colab": {}
      },
      "source": [
        "! ls -lhsa dogs/"
      ],
      "execution_count": 0,
      "outputs": []
    },
    {
      "cell_type": "code",
      "metadata": {
        "id": "m7uFDgLSqqKC",
        "colab_type": "code",
        "colab": {}
      },
      "source": [
        "! ls -l cats-dogs/dogs/ | head\n",
        "! ls -l cats-dogs/cats/ | head"
      ],
      "execution_count": 0,
      "outputs": []
    },
    {
      "cell_type": "markdown",
      "metadata": {
        "id": "yQ4_5eazDD8i",
        "colab_type": "text"
      },
      "source": [
        "#Image preprocessing using `Pillow` and `Matplotlib`"
      ]
    },
    {
      "cell_type": "code",
      "metadata": {
        "id": "VJkMWYi56jh0",
        "colab_type": "code",
        "colab": {}
      },
      "source": [
        "import PIL\n",
        "print('Pillow Version:', PIL.__version__)"
      ],
      "execution_count": 0,
      "outputs": []
    },
    {
      "cell_type": "code",
      "metadata": {
        "id": "jj1PY2OL69M_",
        "colab_type": "code",
        "colab": {}
      },
      "source": [
        "# load and show an image with Pillow\n",
        "from PIL import Image\n",
        "# load the image\n",
        "image = Image.open('cats-dogs/dogs/dog.1500.jpg')"
      ],
      "execution_count": 0,
      "outputs": []
    },
    {
      "cell_type": "code",
      "metadata": {
        "id": "e63FHubS70VM",
        "colab_type": "code",
        "colab": {}
      },
      "source": [
        "# summarize some details about the image\n",
        "print(image.format)\n",
        "print(image.mode)\n",
        "print(image.size)"
      ],
      "execution_count": 0,
      "outputs": []
    },
    {
      "cell_type": "code",
      "metadata": {
        "id": "ag6x4AXCghw7",
        "colab_type": "code",
        "colab": {}
      },
      "source": [
        "# Load one image\n",
        "from matplotlib.pyplot import imshow\n",
        "import numpy as np\n",
        "%matplotlib inline\n",
        "\n",
        "print(np.asarray(image).shape)\n",
        "imshow(np.asarray(image))"
      ],
      "execution_count": 0,
      "outputs": []
    },
    {
      "cell_type": "code",
      "metadata": {
        "id": "E7MWfdi9_vuc",
        "colab_type": "code",
        "colab": {}
      },
      "source": [
        "# Show color bar\n",
        "import matplotlib.pyplot as plt\n",
        "image = Image.open('cats-dogs/dogs/dog.1500.jpg')\n",
        "plt.imshow(np.asarray(image))\n",
        "plt.colorbar()"
      ],
      "execution_count": 0,
      "outputs": []
    },
    {
      "cell_type": "code",
      "metadata": {
        "id": "FTvZa2xn8uOF",
        "colab_type": "code",
        "colab": {}
      },
      "source": [
        "# Convert to grayscale\n",
        "image = Image.open('cats-dogs/dogs/dog.1500.jpg')\n",
        "gs_image = image.convert(mode='L')\n",
        "imshow(np.asarray(gs_image), cmap='gray')"
      ],
      "execution_count": 0,
      "outputs": []
    },
    {
      "cell_type": "code",
      "metadata": {
        "id": "3BNHGnJB9ZT_",
        "colab_type": "code",
        "colab": {}
      },
      "source": [
        "# Create a thumbnail and \"preserve aspect ratio\"\n",
        "image = Image.open('cats-dogs/dogs/dog.1500.jpg')\n",
        "image.thumbnail((100,100))\n",
        "print(image.size)\n",
        "imshow(np.asarray(image))"
      ],
      "execution_count": 0,
      "outputs": []
    },
    {
      "cell_type": "code",
      "metadata": {
        "id": "t9clzmE39elp",
        "colab_type": "code",
        "colab": {}
      },
      "source": [
        "# Resize and \"ignore original aspect ratio\"\n",
        "image = Image.open('cats-dogs/dogs/dog.1500.jpg')\n",
        "img_resized = image.resize((200,200))\n",
        "print(img_resized.size)\n",
        "imshow(np.asarray(img_resized))"
      ],
      "execution_count": 0,
      "outputs": []
    },
    {
      "cell_type": "code",
      "metadata": {
        "id": "67aIe0LK-SKk",
        "colab_type": "code",
        "colab": {}
      },
      "source": [
        "# Horizontal flip\n",
        "image = Image.open('cats-dogs/dogs/dog.1500.jpg')\n",
        "imshow(image.transpose(Image.FLIP_LEFT_RIGHT))"
      ],
      "execution_count": 0,
      "outputs": []
    },
    {
      "cell_type": "code",
      "metadata": {
        "id": "BPKlfYDJ-leG",
        "colab_type": "code",
        "colab": {}
      },
      "source": [
        "# Rotate\n",
        "image = Image.open('cats-dogs/dogs/dog.1500.jpg')\n",
        "imshow(image.rotate(45))"
      ],
      "execution_count": 0,
      "outputs": []
    },
    {
      "cell_type": "code",
      "metadata": {
        "id": "xIqoPBZL-syY",
        "colab_type": "code",
        "colab": {}
      },
      "source": [
        "# Crop\n",
        "image = Image.open('cats-dogs/dogs/dog.1500.jpg')\n",
        "cropped = image.crop((100, 100, 300, 300))\n",
        "imshow(cropped)"
      ],
      "execution_count": 0,
      "outputs": []
    },
    {
      "cell_type": "code",
      "metadata": {
        "colab_type": "code",
        "id": "GwFmhozQ7EuX",
        "colab": {}
      },
      "source": [
        "# Load all images in a directory\n",
        "from os import listdir\n",
        "from matplotlib import image\n",
        "\n",
        "loaded_images = list()\n",
        "for filename in listdir('cats-dogs/cats/'):\n",
        "\timg_data = image.imread('cats-dogs/cats/' + filename)\n",
        "\tloaded_images.append(img_data)\n",
        "\tprint('> loaded %s %s' % (filename, img_data.shape))"
      ],
      "execution_count": 0,
      "outputs": []
    },
    {
      "cell_type": "markdown",
      "metadata": {
        "id": "M1Hm8T42CwQa",
        "colab_type": "text"
      },
      "source": [
        "#Building your own image generator using `ImageDataGenerator`"
      ]
    },
    {
      "cell_type": "code",
      "metadata": {
        "colab_type": "code",
        "id": "c827BBnu7Cx7",
        "colab": {}
      },
      "source": [
        "from tensorflow.keras.preprocessing.image import ImageDataGenerator\n",
        "# Rescale all images by 1./255\n",
        "my_generator = ImageDataGenerator(rescale=1./255)"
      ],
      "execution_count": 0,
      "outputs": []
    },
    {
      "cell_type": "code",
      "metadata": {
        "id": "adrLfqDMApw6",
        "colab_type": "code",
        "colab": {}
      },
      "source": [
        "# Specify how the ImageDataGenerator will read and deliver\n",
        "my_image_generator = my_generator.flow_from_directory( './cats-dogs/', target_size=(150, 150), batch_size=5, class_mode='binary')"
      ],
      "execution_count": 0,
      "outputs": []
    },
    {
      "cell_type": "code",
      "metadata": {
        "id": "1-4EpDAeBWXu",
        "colab_type": "code",
        "colab": {}
      },
      "source": [
        "for my_batch in my_image_generator:\n",
        "    # my_batch is a tuple with images and labels\n",
        "    images = my_batch[0]\n",
        "    labels = my_batch[1]\n",
        "    for i in range(len(labels)):\n",
        "        # Gives one image and its corresponding label\n",
        "        plt.imshow(images[i])\n",
        "        plt.colorbar()\n",
        "        plt.show()\n",
        "        print(labels[i])\n",
        "    break"
      ],
      "execution_count": 0,
      "outputs": []
    },
    {
      "cell_type": "markdown",
      "metadata": {
        "id": "ZGMJlEtJDT8A",
        "colab_type": "text"
      },
      "source": [
        "#Image augmentation using `ImageDataGenerator`"
      ]
    },
    {
      "cell_type": "code",
      "metadata": {
        "id": "VlS4fMS1BouX",
        "colab_type": "code",
        "colab": {}
      },
      "source": [
        "my_augmented_generator = ImageDataGenerator(\n",
        "    rotation_range=40,\n",
        "    width_shift_range=0.2,\n",
        "    height_shift_range=0.2,\n",
        "    shear_range=0.2,\n",
        "    zoom_range=0.2,\n",
        "    horizontal_flip=True,\n",
        "    rescale=1./255,\n",
        "    fill_mode='nearest')"
      ],
      "execution_count": 0,
      "outputs": []
    },
    {
      "cell_type": "code",
      "metadata": {
        "id": "9CDKWBjdEuCS",
        "colab_type": "code",
        "colab": {}
      },
      "source": [
        "my_augmented_image_generator = my_augmented_generator.flow_from_directory( './cats-dogs/', target_size=(150, 150), batch_size=5, class_mode='binary')"
      ],
      "execution_count": 0,
      "outputs": []
    },
    {
      "cell_type": "code",
      "metadata": {
        "id": "AQDwfH_LEx1b",
        "colab_type": "code",
        "colab": {}
      },
      "source": [
        "for my_batch in my_augmented_image_generator:\n",
        "    # my_batch is a tuple with images and labels\n",
        "    images = my_batch[0]\n",
        "    labels = my_batch[1]\n",
        "    for i in range(len(labels)):\n",
        "        # Gives one image and its corresponding label\n",
        "        plt.imshow(images[i])\n",
        "        plt.colorbar()\n",
        "        plt.show()\n",
        "        print(labels[i])\n",
        "    break"
      ],
      "execution_count": 0,
      "outputs": []
    },
    {
      "cell_type": "code",
      "metadata": {
        "id": "WTGn8y9FE0Np",
        "colab_type": "code",
        "colab": {}
      },
      "source": [
        ""
      ],
      "execution_count": 0,
      "outputs": []
    }
  ]
}