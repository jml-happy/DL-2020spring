{
  "nbformat": 4,
  "nbformat_minor": 0,
  "metadata": {
    "colab": {
      "name": "MNIST_v1.ipynb",
      "provenance": [],
      "collapsed_sections": []
    },
    "kernelspec": {
      "display_name": "Python 3",
      "language": "python",
      "name": "python3"
    }
  },
  "cells": [
    {
      "cell_type": "markdown",
      "metadata": {
        "id": "ehzTqE4tDOkI",
        "colab_type": "text"
      },
      "source": [
        "# Digits Image (MNIST Dataset) Classification using CNNs  \n",
        "* Classify the images of digits (0, 1, 2, etc.) correctly using Convolutional Neural Networks\n",
        "*Reference: https://www.kaggle.com/c/digit-recognizer/kernels"
      ]
    },
    {
      "cell_type": "markdown",
      "metadata": {
        "id": "scuh8OJnCLdN",
        "colab_type": "text"
      },
      "source": [
        "## Step 0: Load MNIST dataset\n",
        "* The path for MNIST dataset is already in the Keras datasets library\n",
        "* The `mnist.load_data()` module automatically returns the four numpy arrays of data we need** "
      ]
    },
    {
      "cell_type": "code",
      "metadata": {
        "id": "mixrJeYxCLdN",
        "colab_type": "code",
        "colab": {
          "base_uri": "https://localhost:8080/",
          "height": 97
        },
        "outputId": "acfc159a-ca1c-4b31-d0b3-8d999e61184f"
      },
      "source": [
        "import tensorflow\n",
        "(xtrain_original, ytrain_original), (xvalid_original, yvalid_original) = tensorflow.keras.datasets.mnist.load_data()"
      ],
      "execution_count": 1,
      "outputs": [
        {
          "output_type": "display_data",
          "data": {
            "text/html": [
              "<p style=\"color: red;\">\n",
              "The default version of TensorFlow in Colab will soon switch to TensorFlow 2.x.<br>\n",
              "We recommend you <a href=\"https://www.tensorflow.org/guide/migrate\" target=\"_blank\">upgrade</a> now \n",
              "or ensure your notebook will continue to use TensorFlow 1.x via the <code>%tensorflow_version 1.x</code> magic:\n",
              "<a href=\"https://colab.research.google.com/notebooks/tensorflow_version.ipynb\" target=\"_blank\">more info</a>.</p>\n"
            ],
            "text/plain": [
              "<IPython.core.display.HTML object>"
            ]
          },
          "metadata": {
            "tags": []
          }
        },
        {
          "output_type": "stream",
          "text": [
            "Downloading data from https://storage.googleapis.com/tensorflow/tf-keras-datasets/mnist.npz\n",
            "11493376/11490434 [==============================] - 0s 0us/step\n"
          ],
          "name": "stdout"
        }
      ]
    },
    {
      "cell_type": "markdown",
      "metadata": {
        "id": "Fiay5uU0EhDl",
        "colab_type": "text"
      },
      "source": [
        "## Step 1: Check the number of images and their dimensions"
      ]
    },
    {
      "cell_type": "code",
      "metadata": {
        "id": "CbiupfMXEiiK",
        "colab_type": "code",
        "colab": {
          "base_uri": "https://localhost:8080/",
          "height": 119
        },
        "outputId": "bfa7bb11-12e1-46c4-9e3b-7c9d1f0041a8"
      },
      "source": [
        "print(\"Training dataset:\")\n",
        "print(xtrain_original.shape)\n",
        "print(ytrain_original.shape)\n",
        "print('Validation dataset:')\n",
        "print(xvalid_original.shape)\n",
        "print(yvalid_original.shape)"
      ],
      "execution_count": 2,
      "outputs": [
        {
          "output_type": "stream",
          "text": [
            "Training dataset:\n",
            "(60000, 28, 28)\n",
            "(60000,)\n",
            "Validation dataset:\n",
            "(10000, 28, 28)\n",
            "(10000,)\n"
          ],
          "name": "stdout"
        }
      ]
    },
    {
      "cell_type": "markdown",
      "metadata": {
        "id": "n5Q0TUrGCLdS",
        "colab_type": "text"
      },
      "source": [
        "## Step 2: Visualize a random image and its label in the train set\n",
        "Say, 0th (first) image"
      ]
    },
    {
      "cell_type": "code",
      "metadata": {
        "id": "Zvlf4LGxxhNa",
        "colab_type": "code",
        "colab": {}
      },
      "source": [
        "print(xtrain_original[0, 6:24, 6:24])"
      ],
      "execution_count": 0,
      "outputs": []
    },
    {
      "cell_type": "code",
      "metadata": {
        "id": "c7B300HnCLdS",
        "colab_type": "code",
        "colab": {
          "base_uri": "https://localhost:8080/",
          "height": 260
        },
        "outputId": "2112a8ec-e833-4bd9-c4d3-cc159ce4910b"
      },
      "source": [
        "import matplotlib.pyplot as plt\n",
        "\n",
        "plt.matshow( xtrain_original[0], cmap = 'gray')\n",
        "plt.colorbar()\n",
        "plt.show()"
      ],
      "execution_count": 3,
      "outputs": [
        {
          "output_type": "display_data",
          "data": {
            "image/png": "[encoded data removed]",
            "text/plain": [
              "<Figure size 288x288 with 2 Axes>"
            ]
          },
          "metadata": {
            "tags": []
          }
        }
      ]
    },
    {
      "cell_type": "code",
      "metadata": {
        "id": "6nIxGD7cCLdX",
        "colab_type": "code",
        "colab": {
          "base_uri": "https://localhost:8080/",
          "height": 34
        },
        "outputId": "40be0ea0-8fa8-4139-e96b-8706b4db8a0e"
      },
      "source": [
        "# Verify that the corresponding \"true\" label is correct\n",
        "print(ytrain_original[0])"
      ],
      "execution_count": 4,
      "outputs": [
        {
          "output_type": "stream",
          "text": [
            "5\n"
          ],
          "name": "stdout"
        }
      ]
    },
    {
      "cell_type": "markdown",
      "metadata": {
        "id": "MtSwoHaQCLdb",
        "colab_type": "text"
      },
      "source": [
        "## Step 3: Reshape and normalize the input\n",
        "* A 2D CNN model will accept a 4D input data - \\[number of data, height, width, depth of image]\n",
        "* So, we will reshape each image of dimension \\[28, 28] to \\[28, 28, 1] \n",
        "* Also, the image intensities can be anywhere from 0 to 255 - we want these numbers to be between 0 and 1"
      ]
    },
    {
      "cell_type": "code",
      "metadata": {
        "id": "13ZyN_wxCLdc",
        "colab_type": "code",
        "colab": {}
      },
      "source": [
        "# Add an axis to serve as a channel\n",
        "xtrain = xtrain_original.reshape( ( 60000, 28, 28, 1 ) )\n",
        "xvalid = xvalid_original.reshape( ( 10000, 28, 28, 1 ) )\n",
        "# Normalize the inputs\n",
        "xtrain = xtrain / 255\n",
        "xvalid = xvalid / 255"
      ],
      "execution_count": 0,
      "outputs": []
    },
    {
      "cell_type": "code",
      "metadata": {
        "id": "Gv92E1XHBqg3",
        "colab_type": "code",
        "colab": {
          "base_uri": "https://localhost:8080/",
          "height": 264
        },
        "outputId": "a4d6f6ec-ce8b-49a2-9349-5696a683a4d6"
      },
      "source": [
        "# Verify that normalization worked\n",
        "plt.matshow( xtrain[0, :, :, 0], cmap = 'gray')\n",
        "plt.colorbar()\n",
        "plt.show()"
      ],
      "execution_count": 6,
      "outputs": [
        {
          "output_type": "display_data",
          "data": {
            "image/png": "[encoded data removed]",
            "text/plain": [
              "<Figure size 288x288 with 2 Axes>"
            ]
          },
          "metadata": {
            "tags": []
          }
        }
      ]
    },
    {
      "cell_type": "markdown",
      "metadata": {
        "id": "32qh5r4HGoT9",
        "colab_type": "text"
      },
      "source": [
        "## Step 4: Reformat our labels (one-hot encode them)\n",
        "* Our network will have 10 output nodes, we need to convert our labels accordingly\n",
        "* Verify that the shape of train_labels is (60000, 10)"
      ]
    },
    {
      "cell_type": "code",
      "metadata": {
        "id": "bvDeN5B1G3WF",
        "colab_type": "code",
        "colab": {
          "base_uri": "https://localhost:8080/",
          "height": 68
        },
        "outputId": "59e42c5b-95c1-4ab8-d2e2-ee251df43a27"
      },
      "source": [
        "print(\"Before:\")\n",
        "print( ytrain_original.shape )\n",
        "print( ytrain_original[0] )"
      ],
      "execution_count": 7,
      "outputs": [
        {
          "output_type": "stream",
          "text": [
            "Before:\n",
            "(60000,)\n",
            "5\n"
          ],
          "name": "stdout"
        }
      ]
    },
    {
      "cell_type": "code",
      "metadata": {
        "id": "HPGf-ZQX-u2U",
        "colab_type": "code",
        "colab": {}
      },
      "source": [
        "# One-hot encode the output labels\n",
        "ytrain = tensorflow.keras.utils.to_categorical( ytrain_original )\n",
        "yvalid = tensorflow.keras.utils.to_categorical( yvalid_original )"
      ],
      "execution_count": 0,
      "outputs": []
    },
    {
      "cell_type": "code",
      "metadata": {
        "id": "rUE5ewNi-rWY",
        "colab_type": "code",
        "colab": {}
      },
      "source": [
        "print(\"After:\")\n",
        "print( ytrain.shape )\n",
        "print( ytrain[0] )"
      ],
      "execution_count": 0,
      "outputs": []
    },
    {
      "cell_type": "markdown",
      "metadata": {
        "id": "OHUZowOTCLdg",
        "colab_type": "text"
      },
      "source": [
        "## Step 5: Create a neural network with following architecture:  \n",
        "* The first layer has 16 filters (kernels), each of size 3x3\n",
        "* The third layer has 4 filters (kernels), each of size 3x3\n",
        "* The last layer is a set of 10 neurons - one for each of the 10 digit labels\n",
        "\n",
        "#### Notes:\n",
        "* You could use just the Dense layers to achieve digit identification - CNNs usually deliver better accuracy\n",
        "* Conv2D is the convolutional layer - Conv2D( filters, (filter_height, filter_width), (activation), (input_shape) )\n",
        "* The filter will move through the image pixel by pixel (or \"convolves\") around the image picking up values - output of: 26 x 26\n",
        "* The last layer - 10 neurons for digits between 0 and 9 - Each neuron will contain values be between 0 - 1 and all of the values will sum to 1\n",
        "* We have a probability for a digit prediction - the highest probability will be the model's prediction for the digit\n",
        "* Having `sigmoid` in the first layer does not help here because of the normalization technique"
      ]
    },
    {
      "cell_type": "code",
      "metadata": {
        "id": "ixyuwzFYCLdh",
        "colab_type": "code",
        "colab": {}
      },
      "source": [
        "from tensorflow.keras.models import Sequential\n",
        "from tensorflow.keras.layers import Dense, Conv2D, Flatten\n",
        "\n",
        "model = Sequential()\n",
        "model.add( Conv2D( 16, ( 3, 3 ), activation = 'relu', input_shape = xtrain[0, :, :, :].shape ) )\n",
        "model.add( Conv2D( 4, ( 3, 3 ), activation = 'relu' ) )\n",
        "model.add( Flatten() )\n",
        "model.add( Dense( 10, activation = 'relu' ) )\n",
        "model.add( Dense( 10, activation = 'softmax' ) )\n",
        "model.summary()"
      ],
      "execution_count": 0,
      "outputs": []
    },
    {
      "cell_type": "markdown",
      "metadata": {
        "id": "mj9I8_OzCLdm",
        "colab_type": "text"
      },
      "source": [
        "## Step 6: Compile and train the model"
      ]
    },
    {
      "cell_type": "code",
      "metadata": {
        "id": "F3sh0E3OCLdn",
        "colab_type": "code",
        "colab": {}
      },
      "source": [
        "model.compile( optimizer = 'adam', loss = 'categorical_crossentropy', metrics = [ 'accuracy' ] )\n",
        "history = model.fit( xtrain, ytrain, validation_data = (xvalid, yvalid), epochs = 5, batch_size = 64 )"
      ],
      "execution_count": 0,
      "outputs": []
    },
    {
      "cell_type": "markdown",
      "metadata": {
        "id": "uE4HBIUAA1Y_",
        "colab_type": "text"
      },
      "source": [
        "## Step 7: Assess the learning curves"
      ]
    },
    {
      "cell_type": "code",
      "metadata": {
        "id": "XCP_vrJBBDEY",
        "colab_type": "code",
        "colab": {}
      },
      "source": [
        "print(history.params)"
      ],
      "execution_count": 0,
      "outputs": []
    },
    {
      "cell_type": "code",
      "metadata": {
        "id": "NTAv_mSFBGSu",
        "colab_type": "code",
        "colab": {}
      },
      "source": [
        "plt.plot(history.history['acc'])\n",
        "plt.plot(history.history['val_acc'])\n",
        "plt.ylabel('Accuracy')\n",
        "plt.xlabel('Epoch')\n",
        "plt.legend(['training data', 'validation data'], loc='lower right')\n",
        "plt.show()"
      ],
      "execution_count": 0,
      "outputs": []
    },
    {
      "cell_type": "markdown",
      "metadata": {
        "id": "Cng1uxfwMIco",
        "colab_type": "text"
      },
      "source": [
        "## Step 8: Evaluate the model on the validation set"
      ]
    },
    {
      "cell_type": "code",
      "metadata": {
        "id": "jPqgW345CLdt",
        "colab_type": "code",
        "colab": {}
      },
      "source": [
        "validation_loss, validation_acc = model.evaluate( xvalid, yvalid )\n",
        "print( 'validation_acc:', validation_acc )"
      ],
      "execution_count": 0,
      "outputs": []
    },
    {
      "cell_type": "markdown",
      "metadata": {
        "id": "3bwpB6B_CLdv",
        "colab_type": "text"
      },
      "source": [
        "## Step 9: Check what the model predicts\n",
        "* An example of what the model has predicted and comparison with the true classes"
      ]
    },
    {
      "cell_type": "code",
      "metadata": {
        "id": "yUiGV9R4CLdx",
        "colab_type": "code",
        "colab": {}
      },
      "source": [
        "import numpy as np\n",
        "np.set_printoptions(formatter={'float': lambda x: \"{0:0.2f}\".format(x)})\n",
        "\n",
        "print( yvalid[0] )\n",
        "plt.matshow( xvalid[0, :, :, 0], cmap = 'gray' )\n",
        "plt.show()"
      ],
      "execution_count": 0,
      "outputs": []
    },
    {
      "cell_type": "markdown",
      "metadata": {
        "id": "fwrAOqP9CLdz",
        "colab_type": "text"
      },
      "source": [
        "* Visualizing the predictions predictions on the unseen data - this is going to show us how the model is predicting the images\n",
        "* The output is an array of values where each value is associated to a digit"
      ]
    },
    {
      "cell_type": "code",
      "metadata": {
        "id": "88ZhvGptCLd0",
        "colab_type": "code",
        "colab": {}
      },
      "source": [
        "predictions = model.predict( xvalid )\n",
        "print( predictions[0] )"
      ],
      "execution_count": 0,
      "outputs": []
    },
    {
      "cell_type": "code",
      "metadata": {
        "id": "q2Ow-8ekF_0t",
        "colab_type": "code",
        "colab": {}
      },
      "source": [
        "np.set_printoptions(formatter={'float': lambda x: \"{0:0.7f}\".format(x)})\n",
        "print( predictions[0] )"
      ],
      "execution_count": 0,
      "outputs": []
    },
    {
      "cell_type": "markdown",
      "metadata": {
        "id": "EO3b5Kn5CLd4",
        "colab_type": "text"
      },
      "source": [
        "* After rounding we can see the output of the prediction"
      ]
    },
    {
      "cell_type": "code",
      "metadata": {
        "id": "lyTTJas1CLd4",
        "colab_type": "code",
        "colab": {}
      },
      "source": [
        "print( predictions[0].round() )"
      ],
      "execution_count": 0,
      "outputs": []
    },
    {
      "cell_type": "markdown",
      "metadata": {
        "id": "_PbETHIHCLd8",
        "colab_type": "text"
      },
      "source": [
        "## Step 10: How can the model's performance be improved?\n",
        "- Use GPU for training\n",
        "- Increase the number of epochs\n",
        "- Increase the number of filters in the first layer, and subsequent layers\n",
        "- Add more layers into the neural networks \n",
        "- Increase the number of Conv2D layers (i.e. add extra layers)\n",
        "- What is the baseline accuracy (i.e. accuracy of a random model)?"
      ]
    },
    {
      "cell_type": "code",
      "metadata": {
        "id": "cVU2RQ_WGWpw",
        "colab_type": "code",
        "colab": {}
      },
      "source": [
        ""
      ],
      "execution_count": 0,
      "outputs": []
    }
  ]
}