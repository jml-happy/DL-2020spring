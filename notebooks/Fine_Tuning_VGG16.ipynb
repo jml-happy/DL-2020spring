{
  "nbformat": 4,
  "nbformat_minor": 0,
  "metadata": {
    "colab": {
      "name": "Fine_Tuning_VGG16.ipynb",
      "version": "0.3.2",
      "provenance": [],
      "collapsed_sections": [],
      "include_colab_link": true
    },
    "kernelspec": {
      "name": "python3",
      "display_name": "Python 3"
    },
    "accelerator": "GPU"
  },
  "cells": [
    {
      "cell_type": "markdown",
      "metadata": {
        "id": "view-in-github",
        "colab_type": "text"
      },
      "source": [
        "<a href=\"https://colab.research.google.com/github/badriadhikari/2019-Spring-DL/blob/master/course_content/module3_convnets/Fine_Tuning_VGG16.ipynb\" target=\"_parent\"><img src=\"https://colab.research.google.com/assets/colab-badge.svg\" alt=\"Open In Colab\"/></a>"
      ]
    },
    {
      "metadata": {
        "id": "JbGmNmiBuW0Y",
        "colab_type": "text"
      },
      "cell_type": "markdown",
      "source": [
        "# Fine Tuning the VGG16 Model for CIFAR-10 Dataset"
      ]
    },
    {
      "metadata": {
        "id": "ZaBMlgYLqvIL",
        "colab_type": "text"
      },
      "cell_type": "markdown",
      "source": [
        "### The CIFAR-10 Dataset  \n",
        "* The CIFAR-10 dataset (Canadian Institute For Advanced Research) is a collection of images that are commonly used to train machine learning and computer vision algorithms  \n",
        "* It is one of the most widely used datasets for machine learning research  \n",
        "* The CIFAR-10 dataset contains 60,000 32x32 color images in 10 different classes  \n",
        "* The 10 different classes represent airplanes, cars, birds, cats, deer, dogs, frogs, horses, ships, and trucks  \n",
        "* There are 6,000 images of each class  "
      ]
    },
    {
      "metadata": {
        "id": "SEErJJgYEtnh",
        "colab_type": "code",
        "colab": {
          "base_uri": "https://localhost:8080/",
          "height": 34
        },
        "outputId": "32caa40a-0b38-44c1-d0a4-f525b7fddee3"
      },
      "cell_type": "code",
      "source": [
        "from keras.datasets import cifar10\n",
        "(x_train, y_train), (x_test, y_test) = cifar10.load_data()"
      ],
      "execution_count": 1,
      "outputs": [
        {
          "output_type": "stream",
          "text": [
            "Using TensorFlow backend.\n"
          ],
          "name": "stderr"
        }
      ]
    },
    {
      "metadata": {
        "id": "jXwNsoCeGsqd",
        "colab_type": "code",
        "colab": {
          "base_uri": "https://localhost:8080/",
          "height": 85
        },
        "outputId": "20c76589-0e9c-4c40-904f-38f30e85d49c"
      },
      "cell_type": "code",
      "source": [
        "print(x_train.shape)\n",
        "print(y_train.shape)\n",
        "print(x_test.shape)\n",
        "print(y_test.shape)"
      ],
      "execution_count": 2,
      "outputs": [
        {
          "output_type": "stream",
          "text": [
            "(50000, 32, 32, 3)\n",
            "(50000, 1)\n",
            "(10000, 32, 32, 3)\n",
            "(10000, 1)\n"
          ],
          "name": "stdout"
        }
      ]
    },
    {
      "metadata": {
        "id": "3u-CPlr4ReZT",
        "colab_type": "code",
        "colab": {
          "base_uri": "https://localhost:8080/",
          "height": 286
        },
        "outputId": "6c5d8972-ff8c-43f0-c6d5-c63d5cdeb7e0"
      },
      "cell_type": "code",
      "source": [
        "import matplotlib.pyplot as plt\n",
        "plt.imshow(x_train[4])"
      ],
      "execution_count": 3,
      "outputs": [
        {
          "output_type": "execute_result",
          "data": {
            "text/plain": [
              "<matplotlib.image.AxesImage at 0x7fd8c0200b70>"
            ]
          },
          "metadata": {
            "tags": []
          },
          "execution_count": 3
        },
        {
          "output_type": "display_data",
          "data": {
            "image/png": "[encoded data removed]",
            "text/plain": [
              "<Figure size 432x288 with 1 Axes>"
            ]
          },
          "metadata": {
            "tags": []
          }
        }
      ]
    },
    {
      "metadata": {
        "id": "sDCyKGSRE6BL",
        "colab_type": "code",
        "colab": {
          "base_uri": "https://localhost:8080/",
          "height": 51
        },
        "outputId": "b0db2d5c-2d30-43c7-e546-070c3f690328"
      },
      "cell_type": "code",
      "source": [
        "from keras.utils import to_categorical\n",
        "train_labels = to_categorical( y_train )\n",
        "test_labels = to_categorical( y_test )\n",
        "print(train_labels.shape)\n",
        "print(test_labels.shape)"
      ],
      "execution_count": 4,
      "outputs": [
        {
          "output_type": "stream",
          "text": [
            "(50000, 10)\n",
            "(10000, 10)\n"
          ],
          "name": "stdout"
        }
      ]
    },
    {
      "metadata": {
        "id": "CQJZRF-8QW8w",
        "colab_type": "code",
        "colab": {}
      },
      "cell_type": "code",
      "source": [
        "x_train = x_train.astype( 'float32' ) / 255\n",
        "x_test = x_test.astype( 'float32' ) / 255"
      ],
      "execution_count": 0,
      "outputs": []
    },
    {
      "metadata": {
        "id": "QC_hYwl1D8nL",
        "colab_type": "code",
        "colab": {
          "base_uri": "https://localhost:8080/",
          "height": 88
        },
        "outputId": "93f628e7-ccd0-4f92-98eb-4325c4b9e5d1"
      },
      "cell_type": "code",
      "source": [
        "from keras.applications import VGG16\n",
        "conv_base = VGG16(weights='imagenet', include_top = False, input_shape=(32, 32, 3))"
      ],
      "execution_count": 6,
      "outputs": [
        {
          "output_type": "stream",
          "text": [
            "WARNING:tensorflow:From /usr/local/lib/python3.6/dist-packages/tensorflow/python/framework/op_def_library.py:263: colocate_with (from tensorflow.python.framework.ops) is deprecated and will be removed in a future version.\n",
            "Instructions for updating:\n",
            "Colocations handled automatically by placer.\n"
          ],
          "name": "stdout"
        }
      ]
    },
    {
      "metadata": {
        "id": "5xYF5nyEEEAC",
        "colab_type": "code",
        "colab": {
          "base_uri": "https://localhost:8080/",
          "height": 782
        },
        "outputId": "9d96af12-bfe2-43a4-b703-ad42a1afee3b"
      },
      "cell_type": "code",
      "source": [
        "conv_base.summary()"
      ],
      "execution_count": 7,
      "outputs": [
        {
          "output_type": "stream",
          "text": [
            "_________________________________________________________________\n",
            "Layer (type)                 Output Shape              Param #   \n",
            "=================================================================\n",
            "input_1 (InputLayer)         (None, 32, 32, 3)         0         \n",
            "_________________________________________________________________\n",
            "block1_conv1 (Conv2D)        (None, 32, 32, 64)        1792      \n",
            "_________________________________________________________________\n",
            "block1_conv2 (Conv2D)        (None, 32, 32, 64)        36928     \n",
            "_________________________________________________________________\n",
            "block1_pool (MaxPooling2D)   (None, 16, 16, 64)        0         \n",
            "_________________________________________________________________\n",
            "block2_conv1 (Conv2D)        (None, 16, 16, 128)       73856     \n",
            "_________________________________________________________________\n",
            "block2_conv2 (Conv2D)        (None, 16, 16, 128)       147584    \n",
            "_________________________________________________________________\n",
            "block2_pool (MaxPooling2D)   (None, 8, 8, 128)         0         \n",
            "_________________________________________________________________\n",
            "block3_conv1 (Conv2D)        (None, 8, 8, 256)         295168    \n",
            "_________________________________________________________________\n",
            "block3_conv2 (Conv2D)        (None, 8, 8, 256)         590080    \n",
            "_________________________________________________________________\n",
            "block3_conv3 (Conv2D)        (None, 8, 8, 256)         590080    \n",
            "_________________________________________________________________\n",
            "block3_pool (MaxPooling2D)   (None, 4, 4, 256)         0         \n",
            "_________________________________________________________________\n",
            "block4_conv1 (Conv2D)        (None, 4, 4, 512)         1180160   \n",
            "_________________________________________________________________\n",
            "block4_conv2 (Conv2D)        (None, 4, 4, 512)         2359808   \n",
            "_________________________________________________________________\n",
            "block4_conv3 (Conv2D)        (None, 4, 4, 512)         2359808   \n",
            "_________________________________________________________________\n",
            "block4_pool (MaxPooling2D)   (None, 2, 2, 512)         0         \n",
            "_________________________________________________________________\n",
            "block5_conv1 (Conv2D)        (None, 2, 2, 512)         2359808   \n",
            "_________________________________________________________________\n",
            "block5_conv2 (Conv2D)        (None, 2, 2, 512)         2359808   \n",
            "_________________________________________________________________\n",
            "block5_conv3 (Conv2D)        (None, 2, 2, 512)         2359808   \n",
            "_________________________________________________________________\n",
            "block5_pool (MaxPooling2D)   (None, 1, 1, 512)         0         \n",
            "=================================================================\n",
            "Total params: 14,714,688\n",
            "Trainable params: 14,714,688\n",
            "Non-trainable params: 0\n",
            "_________________________________________________________________\n"
          ],
          "name": "stdout"
        }
      ]
    },
    {
      "metadata": {
        "id": "_pmzwNhiP6nw",
        "colab_type": "code",
        "colab": {
          "base_uri": "https://localhost:8080/",
          "height": 88
        },
        "outputId": "adac3fea-4563-47e0-9650-4afe18d2faa3"
      },
      "cell_type": "code",
      "source": [
        "from keras import layers, models\n",
        "\n",
        "model = models.Sequential()\n",
        "model.add(conv_base)\n",
        "model.add(layers.Flatten())\n",
        "model.add(layers.Dense(64, activation='relu'))\n",
        "model.add(layers.Dropout(0.5))\n",
        "model.add(layers.Dense(10, activation='softmax'))"
      ],
      "execution_count": 8,
      "outputs": [
        {
          "output_type": "stream",
          "text": [
            "WARNING:tensorflow:From /usr/local/lib/python3.6/dist-packages/keras/backend/tensorflow_backend.py:3445: calling dropout (from tensorflow.python.ops.nn_ops) with keep_prob is deprecated and will be removed in a future version.\n",
            "Instructions for updating:\n",
            "Please use `rate` instead of `keep_prob`. Rate should be set to `rate = 1 - keep_prob`.\n"
          ],
          "name": "stdout"
        }
      ]
    },
    {
      "metadata": {
        "id": "UrzcVIFUHjQH",
        "colab_type": "code",
        "colab": {
          "base_uri": "https://localhost:8080/",
          "height": 374
        },
        "outputId": "6ac5ce8b-79ec-415d-cf98-f12d1a86c562"
      },
      "cell_type": "code",
      "source": [
        "print('This is the number of trainable weights before freezing the conv base:', len(model.trainable_weights))\n",
        "\n",
        "# Freeze the layers except the last 4 layers\n",
        "for layer in conv_base.layers[:-4]:\n",
        "    layer.trainable = False\n",
        " \n",
        "# Check the trainable status of the individual layers\n",
        "for layer in conv_base.layers:\n",
        "    print(layer, layer.trainable)\n",
        "\n",
        "print('This is the number of trainable weights after freezing the conv base:', len(model.trainable_weights))"
      ],
      "execution_count": 9,
      "outputs": [
        {
          "output_type": "stream",
          "text": [
            "This is the number of trainable weights before freezing the conv base: 30\n",
            "<keras.engine.input_layer.InputLayer object at 0x7fd8c02ae7f0> False\n",
            "<keras.layers.convolutional.Conv2D object at 0x7fd8c01da828> False\n",
            "<keras.layers.convolutional.Conv2D object at 0x7fd8c0233f60> False\n",
            "<keras.layers.pooling.MaxPooling2D object at 0x7fd8c01f4b00> False\n",
            "<keras.layers.convolutional.Conv2D object at 0x7fd8c01f4e48> False\n",
            "<keras.layers.convolutional.Conv2D object at 0x7fd8bd1593c8> False\n",
            "<keras.layers.pooling.MaxPooling2D object at 0x7fd8bd172e80> False\n",
            "<keras.layers.convolutional.Conv2D object at 0x7fd8bd172b38> False\n",
            "<keras.layers.convolutional.Conv2D object at 0x7fd8bd11e9b0> False\n",
            "<keras.layers.convolutional.Conv2D object at 0x7fd8bd0ca160> False\n",
            "<keras.layers.pooling.MaxPooling2D object at 0x7fd8bd0e3a20> False\n",
            "<keras.layers.convolutional.Conv2D object at 0x7fd8bd0e3550> False\n",
            "<keras.layers.convolutional.Conv2D object at 0x7fd8bd091278> False\n",
            "<keras.layers.convolutional.Conv2D object at 0x7fd8bd0a8cc0> False\n",
            "<keras.layers.pooling.MaxPooling2D object at 0x7fd8bd0565c0> False\n",
            "<keras.layers.convolutional.Conv2D object at 0x7fd8bd056128> True\n",
            "<keras.layers.convolutional.Conv2D object at 0x7fd8bd0062b0> True\n",
            "<keras.layers.convolutional.Conv2D object at 0x7fd8bd01c908> True\n",
            "<keras.layers.pooling.MaxPooling2D object at 0x7fd8bcfb69e8> True\n",
            "This is the number of trainable weights after freezing the conv base: 10\n"
          ],
          "name": "stdout"
        }
      ]
    },
    {
      "metadata": {
        "id": "ZFr8WwoGFQIa",
        "colab_type": "code",
        "colab": {
          "base_uri": "https://localhost:8080/",
          "height": 306
        },
        "outputId": "81aaac67-0302-4e40-feb5-159f1fabbc50"
      },
      "cell_type": "code",
      "source": [
        "model.summary()"
      ],
      "execution_count": 10,
      "outputs": [
        {
          "output_type": "stream",
          "text": [
            "_________________________________________________________________\n",
            "Layer (type)                 Output Shape              Param #   \n",
            "=================================================================\n",
            "vgg16 (Model)                (None, 1, 1, 512)         14714688  \n",
            "_________________________________________________________________\n",
            "flatten_1 (Flatten)          (None, 512)               0         \n",
            "_________________________________________________________________\n",
            "dense_1 (Dense)              (None, 64)                32832     \n",
            "_________________________________________________________________\n",
            "dropout_1 (Dropout)          (None, 64)                0         \n",
            "_________________________________________________________________\n",
            "dense_2 (Dense)              (None, 10)                650       \n",
            "=================================================================\n",
            "Total params: 14,748,170\n",
            "Trainable params: 7,112,906\n",
            "Non-trainable params: 7,635,264\n",
            "_________________________________________________________________\n"
          ],
          "name": "stdout"
        }
      ]
    },
    {
      "metadata": {
        "id": "rX_jl4cHPzwb",
        "colab_type": "code",
        "colab": {
          "base_uri": "https://localhost:8080/",
          "height": 357
        },
        "outputId": "baf79072-fd1a-4320-f454-27f3f090f252"
      },
      "cell_type": "code",
      "source": [
        "model.compile(optimizer = 'rmsprop', loss='categorical_crossentropy', metrics=['accuracy'])\n",
        "history = model.fit(x_train, train_labels, epochs=8, batch_size=128, validation_data = (x_test, test_labels))"
      ],
      "execution_count": 13,
      "outputs": [
        {
          "output_type": "stream",
          "text": [
            "WARNING:tensorflow:From /usr/local/lib/python3.6/dist-packages/tensorflow/python/ops/math_ops.py:3066: to_int32 (from tensorflow.python.ops.math_ops) is deprecated and will be removed in a future version.\n",
            "Instructions for updating:\n",
            "Use tf.cast instead.\n",
            "Train on 50000 samples, validate on 10000 samples\n",
            "Epoch 1/8\n",
            "50000/50000 [==============================] - 17s 345us/step - loss: 1.6224 - acc: 0.4600 - val_loss: 1.1263 - val_acc: 0.6312\n",
            "Epoch 2/8\n",
            "50000/50000 [==============================] - 14s 270us/step - loss: 1.1165 - acc: 0.6444 - val_loss: 1.1832 - val_acc: 0.6179\n",
            "Epoch 3/8\n",
            "50000/50000 [==============================] - 13s 268us/step - loss: 0.9822 - acc: 0.6885 - val_loss: 1.0024 - val_acc: 0.6940\n",
            "Epoch 4/8\n",
            "50000/50000 [==============================] - 13s 267us/step - loss: 0.9141 - acc: 0.7137 - val_loss: 0.9039 - val_acc: 0.7045\n",
            "Epoch 5/8\n",
            "50000/50000 [==============================] - 13s 267us/step - loss: 0.8494 - acc: 0.7343 - val_loss: 0.9540 - val_acc: 0.6983\n",
            "Epoch 6/8\n",
            "50000/50000 [==============================] - 13s 266us/step - loss: 0.7930 - acc: 0.7536 - val_loss: 0.8675 - val_acc: 0.7306\n",
            "Epoch 7/8\n",
            "50000/50000 [==============================] - 13s 270us/step - loss: 0.7555 - acc: 0.7614 - val_loss: 1.2774 - val_acc: 0.7071\n",
            "Epoch 8/8\n",
            "50000/50000 [==============================] - 13s 268us/step - loss: 0.7141 - acc: 0.7777 - val_loss: 0.9895 - val_acc: 0.7283\n"
          ],
          "name": "stdout"
        }
      ]
    },
    {
      "metadata": {
        "id": "LRCkXcE6s1nX",
        "colab_type": "code",
        "colab": {
          "base_uri": "https://localhost:8080/",
          "height": 295
        },
        "outputId": "5f0f8cee-a510-489d-a0b6-03fc18e2edaf"
      },
      "cell_type": "code",
      "source": [
        "plt.plot(history.history['acc'])\n",
        "plt.plot(history.history['val_acc'])\n",
        "plt.title('model accuracy')\n",
        "plt.ylabel('accuracy')\n",
        "plt.xlabel('epoch')\n",
        "plt.legend(['train', 'test'], loc='upper left')\n",
        "plt.show()"
      ],
      "execution_count": 14,
      "outputs": [
        {
          "output_type": "display_data",
          "data": {
            "image/png": "[encoded data removed]",
            "text/plain": [
              "<Figure size 432x288 with 1 Axes>"
            ]
          },
          "metadata": {
            "tags": []
          }
        }
      ]
    },
    {
      "metadata": {
        "id": "iMUwLC_6Rvzg",
        "colab_type": "code",
        "colab": {}
      },
      "cell_type": "code",
      "source": [
        ""
      ],
      "execution_count": 0,
      "outputs": []
    }
  ]
}