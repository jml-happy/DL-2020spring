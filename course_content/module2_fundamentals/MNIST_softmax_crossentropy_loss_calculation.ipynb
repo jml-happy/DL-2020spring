{
  "nbformat": 4,
  "nbformat_minor": 0,
  "metadata": {
    "colab": {
      "name": "MNIST_softmax_crossentropy_loss_calculation.ipynb",
      "version": "0.3.2",
      "provenance": [],
      "collapsed_sections": [],
      "include_colab_link": true
    },
    "kernelspec": {
      "name": "python3",
      "display_name": "Python 3"
    },
    "accelerator": "GPU"
  },
  "cells": [
    {
      "cell_type": "markdown",
      "metadata": {
        "id": "view-in-github",
        "colab_type": "text"
      },
      "source": [
        "<a href=\"https://colab.research.google.com/github/badriadhikari/2019-Spring-DL/blob/master/course-content/Module2/MNIST_softmax_crossentropy_loss_calculation.ipynb\" target=\"_parent\"><img src=\"https://colab.research.google.com/assets/colab-badge.svg\" alt=\"Open In Colab\"/></a>"
      ]
    },
    {
      "metadata": {
        "id": "5ELYokU9dyJw",
        "colab_type": "text"
      },
      "cell_type": "markdown",
      "source": [
        "# Calculate the Softmax Crossentropy loss manually\n",
        "Read more at : https://gombru.github.io/2018/05/23/cross_entropy_loss/"
      ]
    },
    {
      "metadata": {
        "id": "TTn-dOAKCLdH",
        "colab_type": "code",
        "colab": {}
      },
      "cell_type": "code",
      "source": [
        "from keras.datasets import mnist\n",
        "from keras.utils import to_categorical\n",
        "from keras import layers, models\n",
        "import matplotlib.pyplot as plt\n",
        "\n",
        "import numpy as np\n",
        "np.set_printoptions(formatter={'float': lambda x: \"{0:0.7f}\".format(x)})\n",
        "\n",
        "( train_images, train_labels ), ( validation_images, validation_labels ) = mnist.load_data()\n",
        "\n",
        "train_images = train_images.reshape( ( 60000, 28, 28, 1 ) )\n",
        "train_images = train_images.astype( 'float32' ) / 255\n",
        "validation_images = validation_images.reshape( ( 10000, 28, 28, 1 ) )\n",
        "validation_images = validation_images.astype( 'float32' ) / 255\n",
        "\n",
        "train_labels = to_categorical( train_labels )\n",
        "validation_labels = to_categorical( validation_labels )\n"
      ],
      "execution_count": 0,
      "outputs": []
    },
    {
      "metadata": {
        "id": "ey5hUVyKCX_9",
        "colab_type": "text"
      },
      "cell_type": "markdown",
      "source": [
        "## Softmax as activation"
      ]
    },
    {
      "metadata": {
        "id": "DFLZplbF8kg4",
        "colab_type": "code",
        "colab": {
          "base_uri": "https://localhost:8080/",
          "height": 578
        },
        "outputId": "95ba5774-8e8e-4b2e-a871-a5c1e48fcdc7"
      },
      "cell_type": "code",
      "source": [
        "model = models.Sequential()\n",
        "model.add( layers.Conv2D( 16, ( 3, 3 ), activation = 'sigmoid', input_shape = train_images[0, :, :, :].shape ) )\n",
        "model.add( layers.Conv2D( 4, ( 3, 3 ), activation = 'sigmoid' ) )\n",
        "model.add( layers.Flatten() )\n",
        "model.add( layers.Dense( 10, activation = 'softmax' ) )\n",
        "\n",
        "model.compile( optimizer = 'sgd', loss = 'categorical_crossentropy', metrics = [ 'accuracy' ] )\n",
        "history_softmax = model.fit( train_images, train_labels, epochs = 16, batch_size = 256, validation_data = (validation_images, validation_labels))\n"
      ],
      "execution_count": 78,
      "outputs": [
        {
          "output_type": "stream",
          "text": [
            "Train on 60000 samples, validate on 10000 samples\n",
            "Epoch 1/16\n",
            "60000/60000 [==============================] - 5s 79us/step - loss: 2.3047 - acc: 0.1078 - val_loss: 2.2989 - val_acc: 0.0980\n",
            "Epoch 2/16\n",
            "60000/60000 [==============================] - 3s 45us/step - loss: 2.2918 - acc: 0.1354 - val_loss: 2.2852 - val_acc: 0.1028\n",
            "Epoch 3/16\n",
            "60000/60000 [==============================] - 3s 45us/step - loss: 2.2521 - acc: 0.2193 - val_loss: 2.2022 - val_acc: 0.2437\n",
            "Epoch 4/16\n",
            "60000/60000 [==============================] - 3s 45us/step - loss: 1.9877 - acc: 0.5246 - val_loss: 1.6015 - val_acc: 0.6843\n",
            "Epoch 5/16\n",
            "60000/60000 [==============================] - 3s 45us/step - loss: 1.1671 - acc: 0.7685 - val_loss: 0.8176 - val_acc: 0.8235\n",
            "Epoch 6/16\n",
            "60000/60000 [==============================] - 3s 45us/step - loss: 0.7003 - acc: 0.8370 - val_loss: 0.5818 - val_acc: 0.8595\n",
            "Epoch 7/16\n",
            "60000/60000 [==============================] - 3s 45us/step - loss: 0.5501 - acc: 0.8597 - val_loss: 0.4904 - val_acc: 0.8711\n",
            "Epoch 8/16\n",
            "60000/60000 [==============================] - 3s 45us/step - loss: 0.4822 - acc: 0.8711 - val_loss: 0.4393 - val_acc: 0.8816\n",
            "Epoch 9/16\n",
            "60000/60000 [==============================] - 3s 45us/step - loss: 0.4437 - acc: 0.8781 - val_loss: 0.4096 - val_acc: 0.8874\n",
            "Epoch 10/16\n",
            "60000/60000 [==============================] - 3s 45us/step - loss: 0.4190 - acc: 0.8827 - val_loss: 0.3898 - val_acc: 0.8890\n",
            "Epoch 11/16\n",
            "60000/60000 [==============================] - 3s 45us/step - loss: 0.4007 - acc: 0.8863 - val_loss: 0.3815 - val_acc: 0.8869\n",
            "Epoch 12/16\n",
            "60000/60000 [==============================] - 3s 45us/step - loss: 0.3873 - acc: 0.8895 - val_loss: 0.3665 - val_acc: 0.8982\n",
            "Epoch 13/16\n",
            "60000/60000 [==============================] - 3s 45us/step - loss: 0.3771 - acc: 0.8919 - val_loss: 0.3572 - val_acc: 0.8977\n",
            "Epoch 14/16\n",
            "60000/60000 [==============================] - 3s 45us/step - loss: 0.3684 - acc: 0.8942 - val_loss: 0.3468 - val_acc: 0.9015\n",
            "Epoch 15/16\n",
            "60000/60000 [==============================] - 3s 46us/step - loss: 0.3607 - acc: 0.8953 - val_loss: 0.3433 - val_acc: 0.9021\n",
            "Epoch 16/16\n",
            "60000/60000 [==============================] - 3s 45us/step - loss: 0.3545 - acc: 0.8971 - val_loss: 0.3336 - val_acc: 0.9056\n"
          ],
          "name": "stdout"
        }
      ]
    },
    {
      "metadata": {
        "id": "XRT_Y2DaR23r",
        "colab_type": "code",
        "colab": {
          "base_uri": "https://localhost:8080/",
          "height": 376
        },
        "outputId": "b2e843a0-a9a5-4fe2-f3ce-c387996dd34e"
      },
      "cell_type": "code",
      "source": [
        "plt.plot(history_softmax.history['acc'])\n",
        "plt.plot(history_softmax.history['val_acc'])\n",
        "plt.title('model accuracy')\n",
        "plt.ylabel('accuracy')\n",
        "plt.xlabel('epoch')\n",
        "plt.legend(['train', 'test'], loc='upper left')\n",
        "plt.show()"
      ],
      "execution_count": 109,
      "outputs": [
        {
          "output_type": "display_data",
          "data": {
            "image/png": "[encoded data removed]",
            "text/plain": [
              "<Figure size 576x396 with 1 Axes>"
            ]
          },
          "metadata": {
            "tags": []
          }
        }
      ]
    },
    {
      "metadata": {
        "id": "mSx9dzg1Wve9",
        "colab_type": "text"
      },
      "cell_type": "markdown",
      "source": [
        "## Cross-check loss for softmax activation"
      ]
    },
    {
      "metadata": {
        "id": "2Z3BKnVtO9rm",
        "colab_type": "code",
        "colab": {
          "base_uri": "https://localhost:8080/",
          "height": 153
        },
        "outputId": "3337cdb4-c60a-46a8-b046-492d6c45c6da"
      },
      "cell_type": "code",
      "source": [
        "# Check the loss calculated by Keras\n",
        "eval = model.evaluate(validation_images[1:2], validation_labels[1:2])\n",
        "print('loss', eval[0])\n",
        "print ('')\n",
        "p = model.predict(validation_images[1:2])\n",
        "print (p)\n",
        "print ('')\n",
        "print(validation_labels[1:2])"
      ],
      "execution_count": 93,
      "outputs": [
        {
          "output_type": "stream",
          "text": [
            "\r1/1 [==============================] - 0s 5ms/step\n",
            "loss 0.07472395896911621\n",
            "\n",
            "[[0.00705532 0.00066146 0.92799973 0.00882159 0.00000039 0.02149387\n",
            "  0.02625666 0.00000012 0.00771000 0.00000096]]\n",
            "\n",
            "[[0.00000000 0.00000000 1.00000000 0.00000000 0.00000000 0.00000000\n",
            "  0.00000000 0.00000000 0.00000000 0.00000000]]\n"
          ],
          "name": "stdout"
        }
      ]
    },
    {
      "metadata": {
        "id": "wFnPnGGmTnin",
        "colab_type": "code",
        "colab": {
          "base_uri": "https://localhost:8080/",
          "height": 34
        },
        "outputId": "a7eb907e-e01e-4912-d6c0-1a2da3328d53"
      },
      "cell_type": "code",
      "source": [
        "# Calculate cross-entropy loss on our own\n",
        "loss = 0.0\n",
        "for i in range(10):\n",
        "    #print (validation_labels[0, i])\n",
        "    #print (p[0, i])\n",
        "    loss += - validation_labels[1, i] * np.log(p[0, i])\n",
        "print (loss)"
      ],
      "execution_count": 94,
      "outputs": [
        {
          "output_type": "stream",
          "text": [
            "0.07472383230924606\n"
          ],
          "name": "stdout"
        }
      ]
    },
    {
      "metadata": {
        "id": "0ExuYradXV6E",
        "colab_type": "code",
        "colab": {}
      },
      "cell_type": "code",
      "source": [
        ""
      ],
      "execution_count": 0,
      "outputs": []
    }
  ]
}