{
  "nbformat": 4,
  "nbformat_minor": 0,
  "metadata": {
    "colab": {
      "name": "CNN_Depth_and_Learning.ipynb",
      "version": "0.3.2",
      "provenance": [],
      "collapsed_sections": [],
      "include_colab_link": true
    },
    "kernelspec": {
      "name": "python3",
      "display_name": "Python 3"
    },
    "accelerator": "GPU"
  },
  "cells": [
    {
      "cell_type": "markdown",
      "metadata": {
        "id": "view-in-github",
        "colab_type": "text"
      },
      "source": [
        "<a href=\"https://colab.research.google.com/github/badriadhikari/2019-Spring-DL/blob/master/course_content/module3_convnets/CNN_Depth_and_Learning.ipynb\" target=\"_parent\"><img src=\"https://colab.research.google.com/assets/colab-badge.svg\" alt=\"Open In Colab\"/></a>"
      ]
    },
    {
      "metadata": {
        "id": "aAcnDUEFtlj1",
        "colab_type": "text"
      },
      "cell_type": "markdown",
      "source": [
        "## Effect of network depth on learning/prediction accuracy"
      ]
    },
    {
      "metadata": {
        "id": "Z_RwAhqCbbO9",
        "colab_type": "code",
        "colab": {}
      },
      "cell_type": "code",
      "source": [
        "from keras.datasets import mnist\n",
        "from keras.utils import to_categorical\n",
        "from keras.layers import *\n",
        "from keras.models import *\n",
        "import matplotlib.pyplot as plt"
      ],
      "execution_count": 0,
      "outputs": []
    },
    {
      "metadata": {
        "id": "BYULkdoic8KM",
        "colab_type": "code",
        "colab": {
          "base_uri": "https://localhost:8080/",
          "height": 68
        },
        "outputId": "c27cc46a-8887-4897-9281-d9ba8e08ea41"
      },
      "cell_type": "code",
      "source": [
        "( train_images, train_labels ), ( test_images, test_labels ) = mnist.load_data()\n",
        "\n",
        "print('Validation dataset:')\n",
        "print(test_images.shape)\n",
        "print(test_labels.shape)"
      ],
      "execution_count": 23,
      "outputs": [
        {
          "output_type": "stream",
          "text": [
            "Validation dataset:\n",
            "(10000, 28, 28)\n",
            "(10000,)\n"
          ],
          "name": "stdout"
        }
      ]
    },
    {
      "metadata": {
        "id": "dMQo41CSc-Om",
        "colab_type": "code",
        "colab": {
          "base_uri": "https://localhost:8080/",
          "height": 292
        },
        "outputId": "032c6891-277d-4b16-941f-a525561a6f2f"
      },
      "cell_type": "code",
      "source": [
        "plt.matshow( test_images[2], cmap = 'gray')\n",
        "plt.show()\n",
        "print(test_labels[2])"
      ],
      "execution_count": 24,
      "outputs": [
        {
          "output_type": "display_data",
          "data": {
            "image/png": "[encoded data removed]",
            "text/plain": [
              "<Figure size 288x288 with 1 Axes>"
            ]
          },
          "metadata": {
            "tags": []
          }
        },
        {
          "output_type": "stream",
          "text": [
            "1\n"
          ],
          "name": "stdout"
        }
      ]
    },
    {
      "metadata": {
        "id": "3w6Xy8Fed-Hf",
        "colab_type": "text"
      },
      "cell_type": "markdown",
      "source": [
        "#### Use the Test Set to do the training (because it is smaller)"
      ]
    },
    {
      "metadata": {
        "id": "0gzk_FmPdAZa",
        "colab_type": "code",
        "colab": {
          "base_uri": "https://localhost:8080/",
          "height": 119
        },
        "outputId": "2f625ebc-e1cb-402d-8750-f2607a0a80dc"
      },
      "cell_type": "code",
      "source": [
        "train_images = test_images.reshape( ( 10000, 28, 28, 1 ) )\n",
        "\n",
        "train_images = train_images.astype( 'float32' ) / 255\n",
        "\n",
        "print(\"Before:\")\n",
        "print( test_labels.shape )\n",
        "print( test_labels[0] )\n",
        "\n",
        "train_labels = to_categorical( test_labels )\n",
        "\n",
        "print(\"After:\")\n",
        "print( train_labels.shape )\n",
        "print( train_labels[0] )"
      ],
      "execution_count": 25,
      "outputs": [
        {
          "output_type": "stream",
          "text": [
            "Before:\n",
            "(10000,)\n",
            "7\n",
            "After:\n",
            "(10000, 10)\n",
            "[0. 0. 0. 0. 0. 0. 0. 1. 0. 0.]\n"
          ],
          "name": "stdout"
        }
      ]
    },
    {
      "metadata": {
        "id": "TpNgVtPEgkoL",
        "colab_type": "text"
      },
      "cell_type": "markdown",
      "source": [
        "----------"
      ]
    },
    {
      "metadata": {
        "id": "rLG0G3PsdDkm",
        "colab_type": "code",
        "colab": {
          "base_uri": "https://localhost:8080/",
          "height": 459
        },
        "outputId": "737614fa-d3e7-4d18-9f83-72912aed1122"
      },
      "cell_type": "code",
      "source": [
        "model = Sequential()\n",
        "model.add(Conv2D(filters = 16, kernel_size = 5, activation = 'relu', input_shape = (28,28,1)))\n",
        "model.add(Conv2D(filters = 16, kernel_size = 5, activation = 'relu'))\n",
        "model.add(Conv2D(filters = 16, kernel_size = 5, activation = 'relu'))\n",
        "model.add(Conv2D(filters = 16, kernel_size = 5, activation = 'relu'))\n",
        "model.add(MaxPooling2D(pool_size = 2, strides = 2))\n",
        "model.add(Flatten())\n",
        "model.add(Dense(units = 16, activation = 'relu'))\n",
        "model.add(Dense(units = 16, activation = 'relu'))\n",
        "model.add(Dense(units = 10, activation = 'softmax'))\n",
        "model.compile(optimizer = 'adam', loss = 'categorical_crossentropy', metrics = ['accuracy'])\n",
        "\n",
        "print(model.summary())"
      ],
      "execution_count": 26,
      "outputs": [
        {
          "output_type": "stream",
          "text": [
            "_________________________________________________________________\n",
            "Layer (type)                 Output Shape              Param #   \n",
            "=================================================================\n",
            "conv2d_67 (Conv2D)           (None, 24, 24, 16)        416       \n",
            "_________________________________________________________________\n",
            "conv2d_68 (Conv2D)           (None, 20, 20, 16)        6416      \n",
            "_________________________________________________________________\n",
            "conv2d_69 (Conv2D)           (None, 16, 16, 16)        6416      \n",
            "_________________________________________________________________\n",
            "conv2d_70 (Conv2D)           (None, 12, 12, 16)        6416      \n",
            "_________________________________________________________________\n",
            "max_pooling2d_5 (MaxPooling2 (None, 6, 6, 16)          0         \n",
            "_________________________________________________________________\n",
            "flatten_5 (Flatten)          (None, 576)               0         \n",
            "_________________________________________________________________\n",
            "dense_13 (Dense)             (None, 16)                9232      \n",
            "_________________________________________________________________\n",
            "dense_14 (Dense)             (None, 16)                272       \n",
            "_________________________________________________________________\n",
            "dense_15 (Dense)             (None, 10)                170       \n",
            "=================================================================\n",
            "Total params: 29,338\n",
            "Trainable params: 29,338\n",
            "Non-trainable params: 0\n",
            "_________________________________________________________________\n",
            "None\n"
          ],
          "name": "stdout"
        }
      ]
    },
    {
      "metadata": {
        "id": "9AbdIEs2dJqV",
        "colab_type": "code",
        "colab": {
          "base_uri": "https://localhost:8080/",
          "height": 306
        },
        "outputId": "87a79b67-6153-48de-e511-34d4a1b5cb33"
      },
      "cell_type": "code",
      "source": [
        "history = model.fit( train_images, train_labels, epochs = 8, batch_size = 10, validation_split = 0.2 )"
      ],
      "execution_count": 27,
      "outputs": [
        {
          "output_type": "stream",
          "text": [
            "Train on 8000 samples, validate on 2000 samples\n",
            "Epoch 1/8\n",
            "8000/8000 [==============================] - 6s 800us/step - loss: 0.5744 - acc: 0.8186 - val_loss: 0.1630 - val_acc: 0.9560\n",
            "Epoch 2/8\n",
            "8000/8000 [==============================] - 5s 658us/step - loss: 0.1766 - acc: 0.9466 - val_loss: 0.1176 - val_acc: 0.9625\n",
            "Epoch 3/8\n",
            "8000/8000 [==============================] - 5s 648us/step - loss: 0.1146 - acc: 0.9636 - val_loss: 0.0642 - val_acc: 0.9800\n",
            "Epoch 4/8\n",
            "8000/8000 [==============================] - 5s 652us/step - loss: 0.0794 - acc: 0.9765 - val_loss: 0.0749 - val_acc: 0.9795\n",
            "Epoch 5/8\n",
            "8000/8000 [==============================] - 5s 649us/step - loss: 0.0786 - acc: 0.9746 - val_loss: 0.0699 - val_acc: 0.9775\n",
            "Epoch 6/8\n",
            "8000/8000 [==============================] - 5s 654us/step - loss: 0.0549 - acc: 0.9819 - val_loss: 0.0648 - val_acc: 0.9790\n",
            "Epoch 7/8\n",
            "8000/8000 [==============================] - 5s 650us/step - loss: 0.0529 - acc: 0.9829 - val_loss: 0.0735 - val_acc: 0.9805\n",
            "Epoch 8/8\n",
            "8000/8000 [==============================] - 5s 652us/step - loss: 0.0425 - acc: 0.9857 - val_loss: 0.0821 - val_acc: 0.9740\n"
          ],
          "name": "stdout"
        }
      ]
    },
    {
      "metadata": {
        "id": "ggGtujC9gou0",
        "colab_type": "text"
      },
      "cell_type": "markdown",
      "source": [
        "-----------"
      ]
    },
    {
      "metadata": {
        "id": "VTB_P4mGfGIe",
        "colab_type": "code",
        "colab": {
          "base_uri": "https://localhost:8080/",
          "height": 663
        },
        "outputId": "10db0ce2-b9ff-4b46-8d9d-6964b6ba7ee5"
      },
      "cell_type": "code",
      "source": [
        "model = Sequential()\n",
        "model.add(Conv2D(filters = 16, kernel_size = 5, activation = 'relu', input_shape = (28,28,1)))\n",
        "\n",
        "for i in range(1000):\n",
        "    model.add(Conv2D(filters = 4, kernel_size = 5, activation = 'relu', padding='same'))\n",
        "\n",
        "model.add(Conv2D(filters = 16, kernel_size = 5, activation = 'relu'))\n",
        "model.add(MaxPooling2D(pool_size = 2, strides = 2))\n",
        "model.add(Flatten())\n",
        "model.add(Dense(units = 16, activation = 'relu'))\n",
        "model.add(Dense(units = 16, activation = 'relu'))\n",
        "model.add(Dense(units = 10, activation = 'softmax'))\n",
        "model.compile(optimizer = 'adam', loss = 'categorical_crossentropy', metrics = ['accuracy'])\n",
        "\n",
        "print(model.summary())"
      ],
      "execution_count": 28,
      "outputs": [
        {
          "output_type": "stream",
          "text": [
            "_________________________________________________________________\n",
            "Layer (type)                 Output Shape              Param #   \n",
            "=================================================================\n",
            "conv2d_71 (Conv2D)           (None, 24, 24, 16)        416       \n",
            "_________________________________________________________________\n",
            "conv2d_72 (Conv2D)           (None, 24, 24, 4)         1604      \n",
            "_________________________________________________________________\n",
            "conv2d_73 (Conv2D)           (None, 24, 24, 4)         404       \n",
            "_________________________________________________________________\n",
            "conv2d_74 (Conv2D)           (None, 24, 24, 4)         404       \n",
            "_________________________________________________________________\n",
            "conv2d_75 (Conv2D)           (None, 24, 24, 4)         404       \n",
            "_________________________________________________________________\n",
            "conv2d_76 (Conv2D)           (None, 24, 24, 4)         404       \n",
            "_________________________________________________________________\n",
            "conv2d_77 (Conv2D)           (None, 24, 24, 4)         404       \n",
            "_________________________________________________________________\n",
            "conv2d_78 (Conv2D)           (None, 24, 24, 4)         404       \n",
            "_________________________________________________________________\n",
            "conv2d_79 (Conv2D)           (None, 24, 24, 4)         404       \n",
            "_________________________________________________________________\n",
            "conv2d_80 (Conv2D)           (None, 20, 20, 16)        1616      \n",
            "_________________________________________________________________\n",
            "max_pooling2d_6 (MaxPooling2 (None, 10, 10, 16)        0         \n",
            "_________________________________________________________________\n",
            "flatten_6 (Flatten)          (None, 1600)              0         \n",
            "_________________________________________________________________\n",
            "dense_16 (Dense)             (None, 16)                25616     \n",
            "_________________________________________________________________\n",
            "dense_17 (Dense)             (None, 16)                272       \n",
            "_________________________________________________________________\n",
            "dense_18 (Dense)             (None, 10)                170       \n",
            "=================================================================\n",
            "Total params: 32,522\n",
            "Trainable params: 32,522\n",
            "Non-trainable params: 0\n",
            "_________________________________________________________________\n",
            "None\n"
          ],
          "name": "stdout"
        }
      ]
    },
    {
      "metadata": {
        "id": "jA1CbigdfT8T",
        "colab_type": "code",
        "colab": {
          "base_uri": "https://localhost:8080/",
          "height": 306
        },
        "outputId": "1e114c2a-e26d-4a55-b712-f9855f8545c4"
      },
      "cell_type": "code",
      "source": [
        "history = model.fit( train_images, train_labels, epochs = 8, batch_size = 10, validation_split = 0.2 )"
      ],
      "execution_count": 31,
      "outputs": [
        {
          "output_type": "stream",
          "text": [
            "Train on 8000 samples, validate on 2000 samples\n",
            "Epoch 1/8\n",
            "8000/8000 [==============================] - 8s 1ms/step - loss: 2.3013 - acc: 0.1131 - val_loss: 2.3008 - val_acc: 0.1150\n",
            "Epoch 2/8\n",
            "8000/8000 [==============================] - 8s 1ms/step - loss: 2.3013 - acc: 0.1131 - val_loss: 2.3008 - val_acc: 0.1150\n",
            "Epoch 3/8\n",
            "8000/8000 [==============================] - 8s 959us/step - loss: 2.3013 - acc: 0.1131 - val_loss: 2.3008 - val_acc: 0.1150\n",
            "Epoch 4/8\n",
            "8000/8000 [==============================] - 8s 1ms/step - loss: 2.3014 - acc: 0.1131 - val_loss: 2.3007 - val_acc: 0.1150\n",
            "Epoch 5/8\n",
            "8000/8000 [==============================] - 8s 1ms/step - loss: 2.3013 - acc: 0.1131 - val_loss: 2.3009 - val_acc: 0.1150\n",
            "Epoch 6/8\n",
            "8000/8000 [==============================] - 9s 1ms/step - loss: 2.3013 - acc: 0.1131 - val_loss: 2.3009 - val_acc: 0.1150\n",
            "Epoch 7/8\n",
            "8000/8000 [==============================] - 8s 1ms/step - loss: 2.3013 - acc: 0.1131 - val_loss: 2.3009 - val_acc: 0.1150\n",
            "Epoch 8/8\n",
            "8000/8000 [==============================] - 9s 1ms/step - loss: 2.3013 - acc: 0.1131 - val_loss: 2.3008 - val_acc: 0.1150\n"
          ],
          "name": "stdout"
        }
      ]
    },
    {
      "metadata": {
        "id": "efbg28xxgrRS",
        "colab_type": "text"
      },
      "cell_type": "markdown",
      "source": [
        "-----------"
      ]
    },
    {
      "metadata": {
        "id": "or0JF-jxf7Bi",
        "colab_type": "code",
        "colab": {
          "base_uri": "https://localhost:8080/",
          "height": 935
        },
        "outputId": "23eb1b6e-ff69-482e-d100-d90d4ae749b5"
      },
      "cell_type": "code",
      "source": [
        "model = Sequential()\n",
        "model.add(Conv2D(filters = 16, kernel_size = 5, activation = 'relu', input_shape = (28,28,1)))\n",
        "\n",
        "for i in range(16):\n",
        "    model.add(Conv2D(filters = 4, kernel_size = 5, activation = 'relu', padding='same'))\n",
        "\n",
        "model.add(Conv2D(filters = 16, kernel_size = 5, activation = 'relu'))\n",
        "model.add(MaxPooling2D(pool_size = 2, strides = 2))\n",
        "model.add(Flatten())\n",
        "model.add(Dense(units = 16, activation = 'relu'))\n",
        "model.add(Dense(units = 16, activation = 'relu'))\n",
        "model.add(Dense(units = 10, activation = 'softmax'))\n",
        "model.compile(optimizer = 'adam', loss = 'categorical_crossentropy', metrics = ['accuracy'])\n",
        "\n",
        "print(model.summary())"
      ],
      "execution_count": 32,
      "outputs": [
        {
          "output_type": "stream",
          "text": [
            "_________________________________________________________________\n",
            "Layer (type)                 Output Shape              Param #   \n",
            "=================================================================\n",
            "conv2d_81 (Conv2D)           (None, 24, 24, 16)        416       \n",
            "_________________________________________________________________\n",
            "conv2d_82 (Conv2D)           (None, 24, 24, 4)         1604      \n",
            "_________________________________________________________________\n",
            "conv2d_83 (Conv2D)           (None, 24, 24, 4)         404       \n",
            "_________________________________________________________________\n",
            "conv2d_84 (Conv2D)           (None, 24, 24, 4)         404       \n",
            "_________________________________________________________________\n",
            "conv2d_85 (Conv2D)           (None, 24, 24, 4)         404       \n",
            "_________________________________________________________________\n",
            "conv2d_86 (Conv2D)           (None, 24, 24, 4)         404       \n",
            "_________________________________________________________________\n",
            "conv2d_87 (Conv2D)           (None, 24, 24, 4)         404       \n",
            "_________________________________________________________________\n",
            "conv2d_88 (Conv2D)           (None, 24, 24, 4)         404       \n",
            "_________________________________________________________________\n",
            "conv2d_89 (Conv2D)           (None, 24, 24, 4)         404       \n",
            "_________________________________________________________________\n",
            "conv2d_90 (Conv2D)           (None, 24, 24, 4)         404       \n",
            "_________________________________________________________________\n",
            "conv2d_91 (Conv2D)           (None, 24, 24, 4)         404       \n",
            "_________________________________________________________________\n",
            "conv2d_92 (Conv2D)           (None, 24, 24, 4)         404       \n",
            "_________________________________________________________________\n",
            "conv2d_93 (Conv2D)           (None, 24, 24, 4)         404       \n",
            "_________________________________________________________________\n",
            "conv2d_94 (Conv2D)           (None, 24, 24, 4)         404       \n",
            "_________________________________________________________________\n",
            "conv2d_95 (Conv2D)           (None, 24, 24, 4)         404       \n",
            "_________________________________________________________________\n",
            "conv2d_96 (Conv2D)           (None, 24, 24, 4)         404       \n",
            "_________________________________________________________________\n",
            "conv2d_97 (Conv2D)           (None, 24, 24, 4)         404       \n",
            "_________________________________________________________________\n",
            "conv2d_98 (Conv2D)           (None, 20, 20, 16)        1616      \n",
            "_________________________________________________________________\n",
            "max_pooling2d_7 (MaxPooling2 (None, 10, 10, 16)        0         \n",
            "_________________________________________________________________\n",
            "flatten_7 (Flatten)          (None, 1600)              0         \n",
            "_________________________________________________________________\n",
            "dense_19 (Dense)             (None, 16)                25616     \n",
            "_________________________________________________________________\n",
            "dense_20 (Dense)             (None, 16)                272       \n",
            "_________________________________________________________________\n",
            "dense_21 (Dense)             (None, 10)                170       \n",
            "=================================================================\n",
            "Total params: 35,754\n",
            "Trainable params: 35,754\n",
            "Non-trainable params: 0\n",
            "_________________________________________________________________\n",
            "None\n"
          ],
          "name": "stdout"
        }
      ]
    },
    {
      "metadata": {
        "id": "QZGVoT_DgDPI",
        "colab_type": "code",
        "colab": {
          "base_uri": "https://localhost:8080/",
          "height": 306
        },
        "outputId": "5e8a025f-400f-446d-f572-1f60d0b683d4"
      },
      "cell_type": "code",
      "source": [
        "history = model.fit( train_images, train_labels, epochs = 8, batch_size = 10, validation_split = 0.2 )"
      ],
      "execution_count": 34,
      "outputs": [
        {
          "output_type": "stream",
          "text": [
            "Train on 8000 samples, validate on 2000 samples\n",
            "Epoch 1/8\n",
            "8000/8000 [==============================] - 10s 1ms/step - loss: 2.3014 - acc: 0.1131 - val_loss: 2.3009 - val_acc: 0.1150\n",
            "Epoch 2/8\n",
            "8000/8000 [==============================] - 10s 1ms/step - loss: 2.3013 - acc: 0.1131 - val_loss: 2.3009 - val_acc: 0.1150\n",
            "Epoch 3/8\n",
            "8000/8000 [==============================] - 10s 1ms/step - loss: 2.3014 - acc: 0.1131 - val_loss: 2.3008 - val_acc: 0.1150\n",
            "Epoch 4/8\n",
            "8000/8000 [==============================] - 10s 1ms/step - loss: 2.3014 - acc: 0.1131 - val_loss: 2.3009 - val_acc: 0.1150\n",
            "Epoch 5/8\n",
            "8000/8000 [==============================] - 10s 1ms/step - loss: 2.3014 - acc: 0.1131 - val_loss: 2.3009 - val_acc: 0.1150\n",
            "Epoch 6/8\n",
            "8000/8000 [==============================] - 13s 2ms/step - loss: 2.3013 - acc: 0.1131 - val_loss: 2.3009 - val_acc: 0.1150\n",
            "Epoch 7/8\n",
            "8000/8000 [==============================] - 13s 2ms/step - loss: 2.3013 - acc: 0.1131 - val_loss: 2.3007 - val_acc: 0.1150\n",
            "Epoch 8/8\n",
            "8000/8000 [==============================] - 11s 1ms/step - loss: 2.3014 - acc: 0.1131 - val_loss: 2.3009 - val_acc: 0.1150\n"
          ],
          "name": "stdout"
        }
      ]
    },
    {
      "metadata": {
        "id": "nyFa834Fgz-R",
        "colab_type": "text"
      },
      "cell_type": "markdown",
      "source": [
        "---------\n",
        "### BatchNormalization can help!"
      ]
    },
    {
      "metadata": {
        "id": "4rbQeixbwL7b",
        "colab_type": "code",
        "colab": {
          "base_uri": "https://localhost:8080/",
          "height": 1479
        },
        "outputId": "433560ac-deba-4a69-da13-63fd23cb0e9f"
      },
      "cell_type": "code",
      "source": [
        "model = Sequential()\n",
        "model.add(Conv2D(filters = 16, kernel_size = 5, activation = 'relu', input_shape = (28,28,1)))\n",
        "\n",
        "for i in range(16):\n",
        "    model.add(BatchNormalization())\n",
        "    model.add(Conv2D(filters = 4, kernel_size = 5, activation = 'relu', padding='same'))\n",
        "\n",
        "model.add(Conv2D(filters = 16, kernel_size = 5, activation = 'relu'))\n",
        "model.add(MaxPooling2D(pool_size = 2, strides = 2))\n",
        "model.add(Flatten())\n",
        "model.add(Dense(units = 16, activation = 'relu'))\n",
        "model.add(Dense(units = 16, activation = 'relu'))\n",
        "model.add(Dense(units = 10, activation = 'softmax'))\n",
        "model.compile(optimizer = 'adam', loss = 'categorical_crossentropy', metrics = ['accuracy'])\n",
        "\n",
        "print(model.summary())"
      ],
      "execution_count": 35,
      "outputs": [
        {
          "output_type": "stream",
          "text": [
            "_________________________________________________________________\n",
            "Layer (type)                 Output Shape              Param #   \n",
            "=================================================================\n",
            "conv2d_99 (Conv2D)           (None, 24, 24, 16)        416       \n",
            "_________________________________________________________________\n",
            "batch_normalization_1 (Batch (None, 24, 24, 16)        64        \n",
            "_________________________________________________________________\n",
            "conv2d_100 (Conv2D)          (None, 24, 24, 4)         1604      \n",
            "_________________________________________________________________\n",
            "batch_normalization_2 (Batch (None, 24, 24, 4)         16        \n",
            "_________________________________________________________________\n",
            "conv2d_101 (Conv2D)          (None, 24, 24, 4)         404       \n",
            "_________________________________________________________________\n",
            "batch_normalization_3 (Batch (None, 24, 24, 4)         16        \n",
            "_________________________________________________________________\n",
            "conv2d_102 (Conv2D)          (None, 24, 24, 4)         404       \n",
            "_________________________________________________________________\n",
            "batch_normalization_4 (Batch (None, 24, 24, 4)         16        \n",
            "_________________________________________________________________\n",
            "conv2d_103 (Conv2D)          (None, 24, 24, 4)         404       \n",
            "_________________________________________________________________\n",
            "batch_normalization_5 (Batch (None, 24, 24, 4)         16        \n",
            "_________________________________________________________________\n",
            "conv2d_104 (Conv2D)          (None, 24, 24, 4)         404       \n",
            "_________________________________________________________________\n",
            "batch_normalization_6 (Batch (None, 24, 24, 4)         16        \n",
            "_________________________________________________________________\n",
            "conv2d_105 (Conv2D)          (None, 24, 24, 4)         404       \n",
            "_________________________________________________________________\n",
            "batch_normalization_7 (Batch (None, 24, 24, 4)         16        \n",
            "_________________________________________________________________\n",
            "conv2d_106 (Conv2D)          (None, 24, 24, 4)         404       \n",
            "_________________________________________________________________\n",
            "batch_normalization_8 (Batch (None, 24, 24, 4)         16        \n",
            "_________________________________________________________________\n",
            "conv2d_107 (Conv2D)          (None, 24, 24, 4)         404       \n",
            "_________________________________________________________________\n",
            "batch_normalization_9 (Batch (None, 24, 24, 4)         16        \n",
            "_________________________________________________________________\n",
            "conv2d_108 (Conv2D)          (None, 24, 24, 4)         404       \n",
            "_________________________________________________________________\n",
            "batch_normalization_10 (Batc (None, 24, 24, 4)         16        \n",
            "_________________________________________________________________\n",
            "conv2d_109 (Conv2D)          (None, 24, 24, 4)         404       \n",
            "_________________________________________________________________\n",
            "batch_normalization_11 (Batc (None, 24, 24, 4)         16        \n",
            "_________________________________________________________________\n",
            "conv2d_110 (Conv2D)          (None, 24, 24, 4)         404       \n",
            "_________________________________________________________________\n",
            "batch_normalization_12 (Batc (None, 24, 24, 4)         16        \n",
            "_________________________________________________________________\n",
            "conv2d_111 (Conv2D)          (None, 24, 24, 4)         404       \n",
            "_________________________________________________________________\n",
            "batch_normalization_13 (Batc (None, 24, 24, 4)         16        \n",
            "_________________________________________________________________\n",
            "conv2d_112 (Conv2D)          (None, 24, 24, 4)         404       \n",
            "_________________________________________________________________\n",
            "batch_normalization_14 (Batc (None, 24, 24, 4)         16        \n",
            "_________________________________________________________________\n",
            "conv2d_113 (Conv2D)          (None, 24, 24, 4)         404       \n",
            "_________________________________________________________________\n",
            "batch_normalization_15 (Batc (None, 24, 24, 4)         16        \n",
            "_________________________________________________________________\n",
            "conv2d_114 (Conv2D)          (None, 24, 24, 4)         404       \n",
            "_________________________________________________________________\n",
            "batch_normalization_16 (Batc (None, 24, 24, 4)         16        \n",
            "_________________________________________________________________\n",
            "conv2d_115 (Conv2D)          (None, 24, 24, 4)         404       \n",
            "_________________________________________________________________\n",
            "conv2d_116 (Conv2D)          (None, 20, 20, 16)        1616      \n",
            "_________________________________________________________________\n",
            "max_pooling2d_8 (MaxPooling2 (None, 10, 10, 16)        0         \n",
            "_________________________________________________________________\n",
            "flatten_8 (Flatten)          (None, 1600)              0         \n",
            "_________________________________________________________________\n",
            "dense_22 (Dense)             (None, 16)                25616     \n",
            "_________________________________________________________________\n",
            "dense_23 (Dense)             (None, 16)                272       \n",
            "_________________________________________________________________\n",
            "dense_24 (Dense)             (None, 10)                170       \n",
            "=================================================================\n",
            "Total params: 36,058\n",
            "Trainable params: 35,906\n",
            "Non-trainable params: 152\n",
            "_________________________________________________________________\n",
            "None\n"
          ],
          "name": "stdout"
        }
      ]
    },
    {
      "metadata": {
        "id": "xHAbcIHBwQrA",
        "colab_type": "code",
        "colab": {
          "base_uri": "https://localhost:8080/",
          "height": 306
        },
        "outputId": "a442a3c4-8727-4218-80e5-7e71460d6487"
      },
      "cell_type": "code",
      "source": [
        "history = model.fit( train_images, train_labels, epochs = 8, batch_size = 10, validation_split = 0.2 )"
      ],
      "execution_count": 36,
      "outputs": [
        {
          "output_type": "stream",
          "text": [
            "Train on 8000 samples, validate on 2000 samples\n",
            "Epoch 1/8\n",
            "8000/8000 [==============================] - 44s 6ms/step - loss: 1.3713 - acc: 0.5089 - val_loss: 0.6095 - val_acc: 0.8040\n",
            "Epoch 2/8\n",
            "8000/8000 [==============================] - 35s 4ms/step - loss: 0.4424 - acc: 0.8724 - val_loss: 0.3339 - val_acc: 0.8975\n",
            "Epoch 3/8\n",
            "8000/8000 [==============================] - 33s 4ms/step - loss: 0.3274 - acc: 0.9045 - val_loss: 0.3031 - val_acc: 0.9115\n",
            "Epoch 4/8\n",
            "8000/8000 [==============================] - 33s 4ms/step - loss: 0.2498 - acc: 0.9272 - val_loss: 0.1694 - val_acc: 0.9485\n",
            "Epoch 5/8\n",
            "8000/8000 [==============================] - 33s 4ms/step - loss: 0.1761 - acc: 0.9487 - val_loss: 0.1599 - val_acc: 0.9555\n",
            "Epoch 6/8\n",
            "8000/8000 [==============================] - 32s 4ms/step - loss: 0.1401 - acc: 0.9547 - val_loss: 0.1471 - val_acc: 0.9630\n",
            "Epoch 7/8\n",
            "8000/8000 [==============================] - 34s 4ms/step - loss: 0.1164 - acc: 0.9666 - val_loss: 0.1213 - val_acc: 0.9645\n",
            "Epoch 8/8\n",
            "8000/8000 [==============================] - 31s 4ms/step - loss: 0.1041 - acc: 0.9669 - val_loss: 0.1395 - val_acc: 0.9665\n"
          ],
          "name": "stdout"
        }
      ]
    },
    {
      "metadata": {
        "id": "RTwHo5hIxt5L",
        "colab_type": "text"
      },
      "cell_type": "markdown",
      "source": [
        "---------"
      ]
    },
    {
      "metadata": {
        "id": "m15recfRwUUE",
        "colab_type": "code",
        "colab": {
          "base_uri": "https://localhost:8080/",
          "height": 4743
        },
        "outputId": "317554f7-036e-4318-e7a1-3e4e4072f2ee"
      },
      "cell_type": "code",
      "source": [
        "model = Sequential()\n",
        "model.add(Conv2D(filters = 16, kernel_size = 5, activation = 'relu', input_shape = (28,28,1)))\n",
        "\n",
        "for i in range(64):\n",
        "    model.add(BatchNormalization())\n",
        "    model.add(Conv2D(filters = 4, kernel_size = 5, activation = 'relu', padding='same'))\n",
        "\n",
        "model.add(Conv2D(filters = 16, kernel_size = 5, activation = 'relu'))\n",
        "model.add(MaxPooling2D(pool_size = 2, strides = 2))\n",
        "model.add(Flatten())\n",
        "model.add(Dense(units = 16, activation = 'relu'))\n",
        "model.add(Dense(units = 16, activation = 'relu'))\n",
        "model.add(Dense(units = 10, activation = 'softmax'))\n",
        "model.compile(optimizer = 'adam', loss = 'categorical_crossentropy', metrics = ['accuracy'])\n",
        "\n",
        "print(model.summary())"
      ],
      "execution_count": 37,
      "outputs": [
        {
          "output_type": "stream",
          "text": [
            "_________________________________________________________________\n",
            "Layer (type)                 Output Shape              Param #   \n",
            "=================================================================\n",
            "conv2d_117 (Conv2D)          (None, 24, 24, 16)        416       \n",
            "_________________________________________________________________\n",
            "batch_normalization_17 (Batc (None, 24, 24, 16)        64        \n",
            "_________________________________________________________________\n",
            "conv2d_118 (Conv2D)          (None, 24, 24, 4)         1604      \n",
            "_________________________________________________________________\n",
            "batch_normalization_18 (Batc (None, 24, 24, 4)         16        \n",
            "_________________________________________________________________\n",
            "conv2d_119 (Conv2D)          (None, 24, 24, 4)         404       \n",
            "_________________________________________________________________\n",
            "batch_normalization_19 (Batc (None, 24, 24, 4)         16        \n",
            "_________________________________________________________________\n",
            "conv2d_120 (Conv2D)          (None, 24, 24, 4)         404       \n",
            "_________________________________________________________________\n",
            "batch_normalization_20 (Batc (None, 24, 24, 4)         16        \n",
            "_________________________________________________________________\n",
            "conv2d_121 (Conv2D)          (None, 24, 24, 4)         404       \n",
            "_________________________________________________________________\n",
            "batch_normalization_21 (Batc (None, 24, 24, 4)         16        \n",
            "_________________________________________________________________\n",
            "conv2d_122 (Conv2D)          (None, 24, 24, 4)         404       \n",
            "_________________________________________________________________\n",
            "batch_normalization_22 (Batc (None, 24, 24, 4)         16        \n",
            "_________________________________________________________________\n",
            "conv2d_123 (Conv2D)          (None, 24, 24, 4)         404       \n",
            "_________________________________________________________________\n",
            "batch_normalization_23 (Batc (None, 24, 24, 4)         16        \n",
            "_________________________________________________________________\n",
            "conv2d_124 (Conv2D)          (None, 24, 24, 4)         404       \n",
            "_________________________________________________________________\n",
            "batch_normalization_24 (Batc (None, 24, 24, 4)         16        \n",
            "_________________________________________________________________\n",
            "conv2d_125 (Conv2D)          (None, 24, 24, 4)         404       \n",
            "_________________________________________________________________\n",
            "batch_normalization_25 (Batc (None, 24, 24, 4)         16        \n",
            "_________________________________________________________________\n",
            "conv2d_126 (Conv2D)          (None, 24, 24, 4)         404       \n",
            "_________________________________________________________________\n",
            "batch_normalization_26 (Batc (None, 24, 24, 4)         16        \n",
            "_________________________________________________________________\n",
            "conv2d_127 (Conv2D)          (None, 24, 24, 4)         404       \n",
            "_________________________________________________________________\n",
            "batch_normalization_27 (Batc (None, 24, 24, 4)         16        \n",
            "_________________________________________________________________\n",
            "conv2d_128 (Conv2D)          (None, 24, 24, 4)         404       \n",
            "_________________________________________________________________\n",
            "batch_normalization_28 (Batc (None, 24, 24, 4)         16        \n",
            "_________________________________________________________________\n",
            "conv2d_129 (Conv2D)          (None, 24, 24, 4)         404       \n",
            "_________________________________________________________________\n",
            "batch_normalization_29 (Batc (None, 24, 24, 4)         16        \n",
            "_________________________________________________________________\n",
            "conv2d_130 (Conv2D)          (None, 24, 24, 4)         404       \n",
            "_________________________________________________________________\n",
            "batch_normalization_30 (Batc (None, 24, 24, 4)         16        \n",
            "_________________________________________________________________\n",
            "conv2d_131 (Conv2D)          (None, 24, 24, 4)         404       \n",
            "_________________________________________________________________\n",
            "batch_normalization_31 (Batc (None, 24, 24, 4)         16        \n",
            "_________________________________________________________________\n",
            "conv2d_132 (Conv2D)          (None, 24, 24, 4)         404       \n",
            "_________________________________________________________________\n",
            "batch_normalization_32 (Batc (None, 24, 24, 4)         16        \n",
            "_________________________________________________________________\n",
            "conv2d_133 (Conv2D)          (None, 24, 24, 4)         404       \n",
            "_________________________________________________________________\n",
            "batch_normalization_33 (Batc (None, 24, 24, 4)         16        \n",
            "_________________________________________________________________\n",
            "conv2d_134 (Conv2D)          (None, 24, 24, 4)         404       \n",
            "_________________________________________________________________\n",
            "batch_normalization_34 (Batc (None, 24, 24, 4)         16        \n",
            "_________________________________________________________________\n",
            "conv2d_135 (Conv2D)          (None, 24, 24, 4)         404       \n",
            "_________________________________________________________________\n",
            "batch_normalization_35 (Batc (None, 24, 24, 4)         16        \n",
            "_________________________________________________________________\n",
            "conv2d_136 (Conv2D)          (None, 24, 24, 4)         404       \n",
            "_________________________________________________________________\n",
            "batch_normalization_36 (Batc (None, 24, 24, 4)         16        \n",
            "_________________________________________________________________\n",
            "conv2d_137 (Conv2D)          (None, 24, 24, 4)         404       \n",
            "_________________________________________________________________\n",
            "batch_normalization_37 (Batc (None, 24, 24, 4)         16        \n",
            "_________________________________________________________________\n",
            "conv2d_138 (Conv2D)          (None, 24, 24, 4)         404       \n",
            "_________________________________________________________________\n",
            "batch_normalization_38 (Batc (None, 24, 24, 4)         16        \n",
            "_________________________________________________________________\n",
            "conv2d_139 (Conv2D)          (None, 24, 24, 4)         404       \n",
            "_________________________________________________________________\n",
            "batch_normalization_39 (Batc (None, 24, 24, 4)         16        \n",
            "_________________________________________________________________\n",
            "conv2d_140 (Conv2D)          (None, 24, 24, 4)         404       \n",
            "_________________________________________________________________\n",
            "batch_normalization_40 (Batc (None, 24, 24, 4)         16        \n",
            "_________________________________________________________________\n",
            "conv2d_141 (Conv2D)          (None, 24, 24, 4)         404       \n",
            "_________________________________________________________________\n",
            "batch_normalization_41 (Batc (None, 24, 24, 4)         16        \n",
            "_________________________________________________________________\n",
            "conv2d_142 (Conv2D)          (None, 24, 24, 4)         404       \n",
            "_________________________________________________________________\n",
            "batch_normalization_42 (Batc (None, 24, 24, 4)         16        \n",
            "_________________________________________________________________\n",
            "conv2d_143 (Conv2D)          (None, 24, 24, 4)         404       \n",
            "_________________________________________________________________\n",
            "batch_normalization_43 (Batc (None, 24, 24, 4)         16        \n",
            "_________________________________________________________________\n",
            "conv2d_144 (Conv2D)          (None, 24, 24, 4)         404       \n",
            "_________________________________________________________________\n",
            "batch_normalization_44 (Batc (None, 24, 24, 4)         16        \n",
            "_________________________________________________________________\n",
            "conv2d_145 (Conv2D)          (None, 24, 24, 4)         404       \n",
            "_________________________________________________________________\n",
            "batch_normalization_45 (Batc (None, 24, 24, 4)         16        \n",
            "_________________________________________________________________\n",
            "conv2d_146 (Conv2D)          (None, 24, 24, 4)         404       \n",
            "_________________________________________________________________\n",
            "batch_normalization_46 (Batc (None, 24, 24, 4)         16        \n",
            "_________________________________________________________________\n",
            "conv2d_147 (Conv2D)          (None, 24, 24, 4)         404       \n",
            "_________________________________________________________________\n",
            "batch_normalization_47 (Batc (None, 24, 24, 4)         16        \n",
            "_________________________________________________________________\n",
            "conv2d_148 (Conv2D)          (None, 24, 24, 4)         404       \n",
            "_________________________________________________________________\n",
            "batch_normalization_48 (Batc (None, 24, 24, 4)         16        \n",
            "_________________________________________________________________\n",
            "conv2d_149 (Conv2D)          (None, 24, 24, 4)         404       \n",
            "_________________________________________________________________\n",
            "batch_normalization_49 (Batc (None, 24, 24, 4)         16        \n",
            "_________________________________________________________________\n",
            "conv2d_150 (Conv2D)          (None, 24, 24, 4)         404       \n",
            "_________________________________________________________________\n",
            "batch_normalization_50 (Batc (None, 24, 24, 4)         16        \n",
            "_________________________________________________________________\n",
            "conv2d_151 (Conv2D)          (None, 24, 24, 4)         404       \n",
            "_________________________________________________________________\n",
            "batch_normalization_51 (Batc (None, 24, 24, 4)         16        \n",
            "_________________________________________________________________\n",
            "conv2d_152 (Conv2D)          (None, 24, 24, 4)         404       \n",
            "_________________________________________________________________\n",
            "batch_normalization_52 (Batc (None, 24, 24, 4)         16        \n",
            "_________________________________________________________________\n",
            "conv2d_153 (Conv2D)          (None, 24, 24, 4)         404       \n",
            "_________________________________________________________________\n",
            "batch_normalization_53 (Batc (None, 24, 24, 4)         16        \n",
            "_________________________________________________________________\n",
            "conv2d_154 (Conv2D)          (None, 24, 24, 4)         404       \n",
            "_________________________________________________________________\n",
            "batch_normalization_54 (Batc (None, 24, 24, 4)         16        \n",
            "_________________________________________________________________\n",
            "conv2d_155 (Conv2D)          (None, 24, 24, 4)         404       \n",
            "_________________________________________________________________\n",
            "batch_normalization_55 (Batc (None, 24, 24, 4)         16        \n",
            "_________________________________________________________________\n",
            "conv2d_156 (Conv2D)          (None, 24, 24, 4)         404       \n",
            "_________________________________________________________________\n",
            "batch_normalization_56 (Batc (None, 24, 24, 4)         16        \n",
            "_________________________________________________________________\n",
            "conv2d_157 (Conv2D)          (None, 24, 24, 4)         404       \n",
            "_________________________________________________________________\n",
            "batch_normalization_57 (Batc (None, 24, 24, 4)         16        \n",
            "_________________________________________________________________\n",
            "conv2d_158 (Conv2D)          (None, 24, 24, 4)         404       \n",
            "_________________________________________________________________\n",
            "batch_normalization_58 (Batc (None, 24, 24, 4)         16        \n",
            "_________________________________________________________________\n",
            "conv2d_159 (Conv2D)          (None, 24, 24, 4)         404       \n",
            "_________________________________________________________________\n",
            "batch_normalization_59 (Batc (None, 24, 24, 4)         16        \n",
            "_________________________________________________________________\n",
            "conv2d_160 (Conv2D)          (None, 24, 24, 4)         404       \n",
            "_________________________________________________________________\n",
            "batch_normalization_60 (Batc (None, 24, 24, 4)         16        \n",
            "_________________________________________________________________\n",
            "conv2d_161 (Conv2D)          (None, 24, 24, 4)         404       \n",
            "_________________________________________________________________\n",
            "batch_normalization_61 (Batc (None, 24, 24, 4)         16        \n",
            "_________________________________________________________________\n",
            "conv2d_162 (Conv2D)          (None, 24, 24, 4)         404       \n",
            "_________________________________________________________________\n",
            "batch_normalization_62 (Batc (None, 24, 24, 4)         16        \n",
            "_________________________________________________________________\n",
            "conv2d_163 (Conv2D)          (None, 24, 24, 4)         404       \n",
            "_________________________________________________________________\n",
            "batch_normalization_63 (Batc (None, 24, 24, 4)         16        \n",
            "_________________________________________________________________\n",
            "conv2d_164 (Conv2D)          (None, 24, 24, 4)         404       \n",
            "_________________________________________________________________\n",
            "batch_normalization_64 (Batc (None, 24, 24, 4)         16        \n",
            "_________________________________________________________________\n",
            "conv2d_165 (Conv2D)          (None, 24, 24, 4)         404       \n",
            "_________________________________________________________________\n",
            "batch_normalization_65 (Batc (None, 24, 24, 4)         16        \n",
            "_________________________________________________________________\n",
            "conv2d_166 (Conv2D)          (None, 24, 24, 4)         404       \n",
            "_________________________________________________________________\n",
            "batch_normalization_66 (Batc (None, 24, 24, 4)         16        \n",
            "_________________________________________________________________\n",
            "conv2d_167 (Conv2D)          (None, 24, 24, 4)         404       \n",
            "_________________________________________________________________\n",
            "batch_normalization_67 (Batc (None, 24, 24, 4)         16        \n",
            "_________________________________________________________________\n",
            "conv2d_168 (Conv2D)          (None, 24, 24, 4)         404       \n",
            "_________________________________________________________________\n",
            "batch_normalization_68 (Batc (None, 24, 24, 4)         16        \n",
            "_________________________________________________________________\n",
            "conv2d_169 (Conv2D)          (None, 24, 24, 4)         404       \n",
            "_________________________________________________________________\n",
            "batch_normalization_69 (Batc (None, 24, 24, 4)         16        \n",
            "_________________________________________________________________\n",
            "conv2d_170 (Conv2D)          (None, 24, 24, 4)         404       \n",
            "_________________________________________________________________\n",
            "batch_normalization_70 (Batc (None, 24, 24, 4)         16        \n",
            "_________________________________________________________________\n",
            "conv2d_171 (Conv2D)          (None, 24, 24, 4)         404       \n",
            "_________________________________________________________________\n",
            "batch_normalization_71 (Batc (None, 24, 24, 4)         16        \n",
            "_________________________________________________________________\n",
            "conv2d_172 (Conv2D)          (None, 24, 24, 4)         404       \n",
            "_________________________________________________________________\n",
            "batch_normalization_72 (Batc (None, 24, 24, 4)         16        \n",
            "_________________________________________________________________\n",
            "conv2d_173 (Conv2D)          (None, 24, 24, 4)         404       \n",
            "_________________________________________________________________\n",
            "batch_normalization_73 (Batc (None, 24, 24, 4)         16        \n",
            "_________________________________________________________________\n",
            "conv2d_174 (Conv2D)          (None, 24, 24, 4)         404       \n",
            "_________________________________________________________________\n",
            "batch_normalization_74 (Batc (None, 24, 24, 4)         16        \n",
            "_________________________________________________________________\n",
            "conv2d_175 (Conv2D)          (None, 24, 24, 4)         404       \n",
            "_________________________________________________________________\n",
            "batch_normalization_75 (Batc (None, 24, 24, 4)         16        \n",
            "_________________________________________________________________\n",
            "conv2d_176 (Conv2D)          (None, 24, 24, 4)         404       \n",
            "_________________________________________________________________\n",
            "batch_normalization_76 (Batc (None, 24, 24, 4)         16        \n",
            "_________________________________________________________________\n",
            "conv2d_177 (Conv2D)          (None, 24, 24, 4)         404       \n",
            "_________________________________________________________________\n",
            "batch_normalization_77 (Batc (None, 24, 24, 4)         16        \n",
            "_________________________________________________________________\n",
            "conv2d_178 (Conv2D)          (None, 24, 24, 4)         404       \n",
            "_________________________________________________________________\n",
            "batch_normalization_78 (Batc (None, 24, 24, 4)         16        \n",
            "_________________________________________________________________\n",
            "conv2d_179 (Conv2D)          (None, 24, 24, 4)         404       \n",
            "_________________________________________________________________\n",
            "batch_normalization_79 (Batc (None, 24, 24, 4)         16        \n",
            "_________________________________________________________________\n",
            "conv2d_180 (Conv2D)          (None, 24, 24, 4)         404       \n",
            "_________________________________________________________________\n",
            "batch_normalization_80 (Batc (None, 24, 24, 4)         16        \n",
            "_________________________________________________________________\n",
            "conv2d_181 (Conv2D)          (None, 24, 24, 4)         404       \n",
            "_________________________________________________________________\n",
            "conv2d_182 (Conv2D)          (None, 20, 20, 16)        1616      \n",
            "_________________________________________________________________\n",
            "max_pooling2d_9 (MaxPooling2 (None, 10, 10, 16)        0         \n",
            "_________________________________________________________________\n",
            "flatten_9 (Flatten)          (None, 1600)              0         \n",
            "_________________________________________________________________\n",
            "dense_25 (Dense)             (None, 16)                25616     \n",
            "_________________________________________________________________\n",
            "dense_26 (Dense)             (None, 16)                272       \n",
            "_________________________________________________________________\n",
            "dense_27 (Dense)             (None, 10)                170       \n",
            "=================================================================\n",
            "Total params: 56,218\n",
            "Trainable params: 55,682\n",
            "Non-trainable params: 536\n",
            "_________________________________________________________________\n",
            "None\n"
          ],
          "name": "stdout"
        }
      ]
    },
    {
      "metadata": {
        "id": "ZlaK0v2WxsgU",
        "colab_type": "code",
        "colab": {
          "base_uri": "https://localhost:8080/",
          "height": 306
        },
        "outputId": "9f7ec392-183f-4807-c486-735948c11295"
      },
      "cell_type": "code",
      "source": [
        "history = model.fit( train_images, train_labels, epochs = 8, batch_size = 10, validation_split = 0.2 )"
      ],
      "execution_count": 38,
      "outputs": [
        {
          "output_type": "stream",
          "text": [
            "Train on 8000 samples, validate on 2000 samples\n",
            "Epoch 1/8\n",
            "8000/8000 [==============================] - 142s 18ms/step - loss: 2.3042 - acc: 0.1030 - val_loss: 2.3013 - val_acc: 0.1150\n",
            "Epoch 2/8\n",
            "8000/8000 [==============================] - 116s 15ms/step - loss: 2.3019 - acc: 0.1141 - val_loss: 2.3020 - val_acc: 0.1150\n",
            "Epoch 3/8\n",
            "8000/8000 [==============================] - 118s 15ms/step - loss: 2.3017 - acc: 0.1126 - val_loss: 2.3009 - val_acc: 0.1150\n",
            "Epoch 4/8\n",
            "8000/8000 [==============================] - 120s 15ms/step - loss: 2.3016 - acc: 0.1131 - val_loss: 2.3013 - val_acc: 0.1150\n",
            "Epoch 5/8\n",
            "8000/8000 [==============================] - 123s 15ms/step - loss: 2.3015 - acc: 0.1130 - val_loss: 2.3010 - val_acc: 0.1150\n",
            "Epoch 6/8\n",
            "8000/8000 [==============================] - 123s 15ms/step - loss: 2.3016 - acc: 0.1138 - val_loss: 2.3009 - val_acc: 0.1150\n",
            "Epoch 7/8\n",
            "8000/8000 [==============================] - 125s 16ms/step - loss: 2.3015 - acc: 0.1129 - val_loss: 2.3008 - val_acc: 0.1150\n",
            "Epoch 8/8\n",
            "8000/8000 [==============================] - 122s 15ms/step - loss: 2.3013 - acc: 0.1131 - val_loss: 2.3006 - val_acc: 0.1150\n"
          ],
          "name": "stdout"
        }
      ]
    },
    {
      "metadata": {
        "id": "pxHAUnHx6Z3Z",
        "colab_type": "text"
      },
      "cell_type": "markdown",
      "source": [
        "#### Notice that even the training loss isn't improving"
      ]
    },
    {
      "metadata": {
        "id": "7Bc2GILAxy0R",
        "colab_type": "code",
        "colab": {}
      },
      "cell_type": "code",
      "source": [
        ""
      ],
      "execution_count": 0,
      "outputs": []
    }
  ]
}